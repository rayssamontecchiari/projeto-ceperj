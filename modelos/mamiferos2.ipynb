{
 "cells": [
  {
   "cell_type": "code",
   "execution_count": 3,
   "metadata": {},
   "outputs": [
    {
     "data": {
      "text/html": [
       "<div>\n",
       "<style scoped>\n",
       "    .dataframe tbody tr th:only-of-type {\n",
       "        vertical-align: middle;\n",
       "    }\n",
       "\n",
       "    .dataframe tbody tr th {\n",
       "        vertical-align: top;\n",
       "    }\n",
       "\n",
       "    .dataframe thead th {\n",
       "        text-align: right;\n",
       "    }\n",
       "</style>\n",
       "<table border=\"1\" class=\"dataframe\">\n",
       "  <thead>\n",
       "    <tr style=\"text-align: right;\">\n",
       "      <th></th>\n",
       "      <th>Mes</th>\n",
       "      <th>Estacao</th>\n",
       "      <th>Trecho</th>\n",
       "      <th>Sentido</th>\n",
       "      <th>Trecho macro</th>\n",
       "      <th>Tipo De Pistas</th>\n",
       "      <th>Numero de Pistas</th>\n",
       "      <th>Tipo de Pavimento</th>\n",
       "      <th>Numero de Faixas</th>\n",
       "      <th>Velocidade Maxima</th>\n",
       "      <th>...</th>\n",
       "      <th>Agua?</th>\n",
       "      <th>Vegetacao Baixa?</th>\n",
       "      <th>capimAlto</th>\n",
       "      <th>Arbustos</th>\n",
       "      <th>Floresta</th>\n",
       "      <th>Local</th>\n",
       "      <th>Com filhotes?</th>\n",
       "      <th>Faixa Horario da Coleta</th>\n",
       "      <th>Faixa de Quilometragem</th>\n",
       "      <th>mamifero mais atropelado</th>\n",
       "    </tr>\n",
       "  </thead>\n",
       "  <tbody>\n",
       "    <tr>\n",
       "      <th>0</th>\n",
       "      <td>4</td>\n",
       "      <td>Outono</td>\n",
       "      <td>2</td>\n",
       "      <td>JF</td>\n",
       "      <td>Baixada</td>\n",
       "      <td>Sem divisão</td>\n",
       "      <td>1</td>\n",
       "      <td>Pavimento flexível (asfalto)</td>\n",
       "      <td>4</td>\n",
       "      <td>110</td>\n",
       "      <td>...</td>\n",
       "      <td>sim</td>\n",
       "      <td>Desconhecido</td>\n",
       "      <td>Desconhecido</td>\n",
       "      <td>Desconhecido</td>\n",
       "      <td>Desconhecido</td>\n",
       "      <td>Pista de rolamento</td>\n",
       "      <td>Desconhecido</td>\n",
       "      <td>Entre 00 e 06</td>\n",
       "      <td>Entre 100 e 125</td>\n",
       "      <td>0</td>\n",
       "    </tr>\n",
       "    <tr>\n",
       "      <th>1</th>\n",
       "      <td>4</td>\n",
       "      <td>Outono</td>\n",
       "      <td>4</td>\n",
       "      <td>JF</td>\n",
       "      <td>Serra</td>\n",
       "      <td>Sem divisão</td>\n",
       "      <td>1</td>\n",
       "      <td>Pavimento rígido</td>\n",
       "      <td>2</td>\n",
       "      <td>60</td>\n",
       "      <td>...</td>\n",
       "      <td>sim</td>\n",
       "      <td>Desconhecido</td>\n",
       "      <td>Desconhecido</td>\n",
       "      <td>Desconhecido</td>\n",
       "      <td>Desconhecido</td>\n",
       "      <td>Pista de rolamento</td>\n",
       "      <td>Desconhecido</td>\n",
       "      <td>Entre 06 e 12</td>\n",
       "      <td>Entre 75 e 100</td>\n",
       "      <td>0</td>\n",
       "    </tr>\n",
       "    <tr>\n",
       "      <th>2</th>\n",
       "      <td>5</td>\n",
       "      <td>Outono</td>\n",
       "      <td>5</td>\n",
       "      <td>JF</td>\n",
       "      <td>Serra</td>\n",
       "      <td>Sem divisão</td>\n",
       "      <td>1</td>\n",
       "      <td>Pavimento semi-flexível</td>\n",
       "      <td>2</td>\n",
       "      <td>60</td>\n",
       "      <td>...</td>\n",
       "      <td>sim</td>\n",
       "      <td>Desconhecido</td>\n",
       "      <td>Desconhecido</td>\n",
       "      <td>Desconhecido</td>\n",
       "      <td>Desconhecido</td>\n",
       "      <td>Desconhecido</td>\n",
       "      <td>Desconhecido</td>\n",
       "      <td>Entre 12 e 18</td>\n",
       "      <td>Entre 75 e 100</td>\n",
       "      <td>0</td>\n",
       "    </tr>\n",
       "    <tr>\n",
       "      <th>3</th>\n",
       "      <td>6</td>\n",
       "      <td>Outono</td>\n",
       "      <td>7</td>\n",
       "      <td>RJ</td>\n",
       "      <td>Planalto</td>\n",
       "      <td>Defensa Metálica</td>\n",
       "      <td>2</td>\n",
       "      <td>Pavimento flexível (asfalto)</td>\n",
       "      <td>4</td>\n",
       "      <td>60</td>\n",
       "      <td>...</td>\n",
       "      <td>sim</td>\n",
       "      <td>Desconhecido</td>\n",
       "      <td>Desconhecido</td>\n",
       "      <td>Desconhecido</td>\n",
       "      <td>Desconhecido</td>\n",
       "      <td>Acostamento</td>\n",
       "      <td>Desconhecido</td>\n",
       "      <td>Entre 06 e 12</td>\n",
       "      <td>Entre 50 e 75</td>\n",
       "      <td>0</td>\n",
       "    </tr>\n",
       "    <tr>\n",
       "      <th>4</th>\n",
       "      <td>6</td>\n",
       "      <td>Outono</td>\n",
       "      <td>3</td>\n",
       "      <td>RJ</td>\n",
       "      <td>Serra</td>\n",
       "      <td>Defensa Metálica</td>\n",
       "      <td>2</td>\n",
       "      <td>Pavimento flexível (asfalto)</td>\n",
       "      <td>4</td>\n",
       "      <td>80</td>\n",
       "      <td>...</td>\n",
       "      <td>não</td>\n",
       "      <td>Desconhecido</td>\n",
       "      <td>Desconhecido</td>\n",
       "      <td>Desconhecido</td>\n",
       "      <td>Desconhecido</td>\n",
       "      <td>Acesso/ Retorno</td>\n",
       "      <td>Desconhecido</td>\n",
       "      <td>Entre 12 e 18</td>\n",
       "      <td>Entre 100 e 125</td>\n",
       "      <td>0</td>\n",
       "    </tr>\n",
       "  </tbody>\n",
       "</table>\n",
       "<p>5 rows × 23 columns</p>\n",
       "</div>"
      ],
      "text/plain": [
       "   Mes Estacao  Trecho Sentido Trecho macro    Tipo De Pistas  \\\n",
       "0    4  Outono       2      JF      Baixada       Sem divisão   \n",
       "1    4  Outono       4      JF        Serra       Sem divisão   \n",
       "2    5  Outono       5      JF        Serra       Sem divisão   \n",
       "3    6  Outono       7      RJ     Planalto  Defensa Metálica   \n",
       "4    6  Outono       3      RJ        Serra  Defensa Metálica   \n",
       "\n",
       "  Numero de Pistas             Tipo de Pavimento Numero de Faixas  \\\n",
       "0                1  Pavimento flexível (asfalto)                4   \n",
       "1                1              Pavimento rígido                2   \n",
       "2                1       Pavimento semi-flexível                2   \n",
       "3                2  Pavimento flexível (asfalto)                4   \n",
       "4                2  Pavimento flexível (asfalto)                4   \n",
       "\n",
       "  Velocidade Maxima  ... Agua? Vegetacao Baixa?     capimAlto      Arbustos  \\\n",
       "0               110  ...   sim     Desconhecido  Desconhecido  Desconhecido   \n",
       "1                60  ...   sim     Desconhecido  Desconhecido  Desconhecido   \n",
       "2                60  ...   sim     Desconhecido  Desconhecido  Desconhecido   \n",
       "3                60  ...   sim     Desconhecido  Desconhecido  Desconhecido   \n",
       "4                80  ...   não     Desconhecido  Desconhecido  Desconhecido   \n",
       "\n",
       "       Floresta               Local Com filhotes? Faixa Horario da Coleta  \\\n",
       "0  Desconhecido  Pista de rolamento  Desconhecido           Entre 00 e 06   \n",
       "1  Desconhecido  Pista de rolamento  Desconhecido           Entre 06 e 12   \n",
       "2  Desconhecido        Desconhecido  Desconhecido           Entre 12 e 18   \n",
       "3  Desconhecido         Acostamento  Desconhecido           Entre 06 e 12   \n",
       "4  Desconhecido     Acesso/ Retorno  Desconhecido           Entre 12 e 18   \n",
       "\n",
       "  Faixa de Quilometragem mamifero mais atropelado  \n",
       "0        Entre 100 e 125                        0  \n",
       "1         Entre 75 e 100                        0  \n",
       "2         Entre 75 e 100                        0  \n",
       "3          Entre 50 e 75                        0  \n",
       "4        Entre 100 e 125                        0  \n",
       "\n",
       "[5 rows x 23 columns]"
      ]
     },
     "execution_count": 3,
     "metadata": {},
     "output_type": "execute_result"
    }
   ],
   "source": [
    "import pandas as pd\n",
    "\n",
    "# seleciona os dados do arquivos\n",
    "# data frame (df) - molde de dados\n",
    "dados = pd.read_csv('CSV_Mamíferos_Cortada.csv')\n",
    "dados.head()"
   ]
  },
  {
   "cell_type": "code",
   "execution_count": 4,
   "metadata": {},
   "outputs": [],
   "source": [
    "Y_df = dados['mamifero mais atropelado']  \n",
    "X_df = dados[[\"Mes\", \"Estacao\", \n",
    "              \"Trecho\", \"Sentido\", \"Trecho macro\",\n",
    "              \"Tipo De Pistas\", \"Numero de Pistas\",\n",
    "              \"Tipo de Pavimento\", \"Numero de Faixas\",\n",
    "              \"Velocidade Maxima\", \"Tipo da Chuva\",\"Intervencao\",\n",
    "              \"Vazamento\", \"Agua?\", \"Vegetacao Baixa?\",\"capimAlto\",\n",
    "              \"Arbustos\",\"Floresta\",\"Local\",\"Com filhotes?\",\n",
    "              \"Faixa Horario da Coleta\",\"Faixa de Quilometragem\"]]\n",
    "\n",
    "atributos = [\"Mes\", \"Estacao\", \n",
    "              \"Trecho\", \"Sentido\", \"Trecho macro\",\n",
    "              \"Tipo De Pistas\", \"Numero de Pistas\",\n",
    "              \"Tipo de Pavimento\", \"Numero de Faixas\",\n",
    "              \"Velocidade Maxima\", \"Tipo da Chuva\",\"Intervencao\",\n",
    "              \"Vazamento\", \"Agua?\", \"Vegetacao Baixa?\",\"capimAlto\",\n",
    "              \"Arbustos\",\"Floresta\",\"Local\",\"Com filhotes?\",\n",
    "              \"Faixa Horario da Coleta\",\"Faixa de Quilometragem\"]\n",
    "\n",
    "valores = []\n",
    "\n",
    "for i in X_df:\n",
    "    auxi = X_df[i].unique()\n",
    "    valores.append(auxi)\n",
    "    "
   ]
  },
  {
   "cell_type": "markdown",
   "metadata": {},
   "source": [
    "Como nossas variáveis são majoritariamente categóricas, vamos criar uma versão numérica delas."
   ]
  },
  {
   "cell_type": "code",
   "execution_count": 5,
   "metadata": {},
   "outputs": [
    {
     "name": "stdout",
     "output_type": "stream",
     "text": [
      "x: (13096, 22)\n",
      "y (13096, 2)\n"
     ]
    }
   ],
   "source": [
    "from sklearn import preprocessing\n",
    "import numpy as np\n",
    "from sklearn.preprocessing import LabelEncoder\n",
    "\n",
    "\n",
    "X_encoded = X_df.apply(LabelEncoder().fit_transform)\n",
    "X = X_encoded.values\n",
    "print(\"x:\", X.shape)\n",
    "\n",
    "lb = preprocessing.LabelBinarizer()\n",
    "y_ = lb.fit_transform(Y_df)\n",
    "\n",
    "if y_.shape[1] == 1:\n",
    "    y_ = np.concatenate((1 - y_, y_), axis=1)\n",
    "\n",
    "\n",
    "print(\"y\", y_.shape)"
   ]
  },
  {
   "cell_type": "markdown",
   "metadata": {},
   "source": [
    "Dividir em treino e teste"
   ]
  },
  {
   "cell_type": "code",
   "execution_count": 6,
   "metadata": {},
   "outputs": [],
   "source": [
    "import numpy as np\n",
    "from sklearn.model_selection import train_test_split\n",
    "\n",
    "SEED = 5\n",
    "np.random.seed(SEED)\n",
    "treino_x, teste_x, treino_y, teste_y = train_test_split(X, Y_df, test_size = 0.33,\n",
    "                                                         stratify = Y_df)"
   ]
  },
  {
   "cell_type": "code",
   "execution_count": 7,
   "metadata": {},
   "outputs": [],
   "source": [
    "from sklearn.naive_bayes import MultinomialNB\n",
    "\n",
    "multinomial = MultinomialNB ()\n",
    "\n",
    "multinomial.fit(treino_x, treino_y)\n",
    "    \n",
    "# testa modelo\n",
    "y_predict = multinomial.predict(teste_x) # Pega as previsoes do modelo para os valores X de teste\n",
    "y_true = teste_y\n"
   ]
  },
  {
   "cell_type": "code",
   "execution_count": 8,
   "metadata": {},
   "outputs": [
    {
     "name": "stdout",
     "output_type": "stream",
     "text": [
      "Matriz de confusão\n"
     ]
    },
    {
     "data": {
      "image/png": "[encoded data removed]",
      "text/plain": [
       "<Figure size 432x288 with 2 Axes>"
      ]
     },
     "metadata": {
      "needs_background": "light"
     },
     "output_type": "display_data"
    },
    {
     "name": "stdout",
     "output_type": "stream",
     "text": [
      "              precision    recall  f1-score   support\n",
      "\n",
      "           0       0.91      0.82      0.87      3769\n",
      "           1       0.28      0.47      0.36       553\n",
      "\n",
      "    accuracy                           0.78      4322\n",
      "   macro avg       0.60      0.65      0.61      4322\n",
      "weighted avg       0.83      0.78      0.80      4322\n",
      "\n"
     ]
    }
   ],
   "source": [
    "from sklearn.metrics import confusion_matrix, ConfusionMatrixDisplay, classification_report\n",
    "import matplotlib.pyplot as plt\n",
    "import seaborn as sns\n",
    "\n",
    "print(\"Matriz de confusão\")\n",
    "matriz_confusao = confusion_matrix(y_true, y_predict)\n",
    "matriz = ConfusionMatrixDisplay(matriz_confusao)\n",
    "matriz.plot()\n",
    "plt.show()\n",
    "\n",
    "print(classification_report(teste_y, y_predict))\n"
   ]
  },
  {
   "cell_type": "markdown",
   "metadata": {},
   "source": [
    "Recall: De todas as classes positivas, quantas instâncias foram identificadas corretamente."
   ]
  },
  {
   "cell_type": "code",
   "execution_count": 12,
   "metadata": {},
   "outputs": [],
   "source": [
    "def plot_roc_curve(fper, tper):\n",
    "    plt.plot(fper, tper, color='red', label='ROC')\n",
    "    plt.plot([0, 1], [0, 1], color='green', linestyle='--')\n",
    "    plt.xlabel('False Positive Rate')\n",
    "    plt.ylabel('True Positive Rate')\n",
    "    plt.title('Receiver Operating Characteristic Curve')\n",
    "    plt.legend()\n",
    "    plt.show()\n"
   ]
  },
  {
   "cell_type": "code",
   "execution_count": 14,
   "metadata": {},
   "outputs": [
    {
     "data": {
      "image/png": "[encoded data removed]",
      "text/plain": [
       "<Figure size 432x288 with 1 Axes>"
      ]
     },
     "metadata": {
      "needs_background": "light"
     },
     "output_type": "display_data"
    }
   ],
   "source": [
    "\n",
    "from sklearn.metrics import roc_curve\n",
    "\n",
    "TargetVarScore = multinomial.predict_proba(teste_x)\n",
    "fper, tper, thresholds = roc_curve(teste_y, TargetVarScore[:, 1])\n",
    "plot_roc_curve(fper, tper)"
   ]
  },
  {
   "cell_type": "markdown",
   "metadata": {},
   "source": [
    "Balanceando utilizando SMOTE. Primeiramente, vamos acrescentar registros que tenham a classe minoritária."
   ]
  },
  {
   "cell_type": "code",
   "execution_count": 15,
   "metadata": {},
   "outputs": [
    {
     "name": "stdout",
     "output_type": "stream",
     "text": [
      "Antes do balanceamento, contagem de '1': 1123\n",
      "Antes do balanceamento, contagem de '0': 7651 \n",
      "\n",
      "Depois do balanceamento, dimensão de treino_X: (15302, 22)\n",
      "Depois do balanceamento, dimensão de treino_y: (15302,) \n",
      "\n",
      "Depois do balanceamento, contagem de '1': 7651\n",
      "Depois do balanceamento, contagem de '0': 7651\n"
     ]
    }
   ],
   "source": [
    "from imblearn.over_sampling import SMOTE\n",
    "sm = SMOTE(random_state=42)\n",
    "X_res, y_res = sm.fit_resample(treino_x, treino_y)\n",
    "\n",
    "print(\"Antes do balanceamento, contagem de '1': {}\".format(sum(treino_y == 1)))\n",
    "print(\"Antes do balanceamento, contagem de '0': {} \\n\".format(sum(treino_y == 0)))\n",
    "\n",
    "print('Depois do balanceamento, dimensão de treino_X: {}'.format(X_res.shape))\n",
    "print('Depois do balanceamento, dimensão de treino_y: {} \\n'.format(y_res.shape))\n",
    "  \n",
    "print(\"Depois do balanceamento, contagem de '1': {}\".format(sum(y_res == 1)))\n",
    "print(\"Depois do balanceamento, contagem de '0': {}\".format(sum(y_res == 0)))"
   ]
  },
  {
   "cell_type": "code",
   "execution_count": 16,
   "metadata": {},
   "outputs": [
    {
     "name": "stdout",
     "output_type": "stream",
     "text": [
      "Matriz de confusão\n"
     ]
    },
    {
     "data": {
      "image/png": "[encoded data removed]",
      "text/plain": [
       "<Figure size 432x288 with 2 Axes>"
      ]
     },
     "metadata": {
      "needs_background": "light"
     },
     "output_type": "display_data"
    },
    {
     "name": "stdout",
     "output_type": "stream",
     "text": [
      "              precision    recall  f1-score   support\n",
      "\n",
      "           0       0.93      0.66      0.77      3769\n",
      "           1       0.22      0.66      0.33       553\n",
      "\n",
      "    accuracy                           0.66      4322\n",
      "   macro avg       0.58      0.66      0.55      4322\n",
      "weighted avg       0.84      0.66      0.72      4322\n",
      "\n"
     ]
    }
   ],
   "source": [
    "# treina o modelo com os dados balanceados\n",
    "multinomial.fit(X_res, y_res )\n",
    "\n",
    "# testa model\n",
    "y_predict = multinomial.predict(teste_x) # Pega as previsoes do modelo para os valores X de teste\n",
    "y_true = teste_y\n",
    "\n",
    "print(\"Matriz de confusão\")\n",
    "matriz_confusao = confusion_matrix(y_true, y_predict)\n",
    "matriz = ConfusionMatrixDisplay(matriz_confusao)\n",
    "matriz.plot()\n",
    "plt.show()\n",
    "\n",
    "print(classification_report(teste_y, y_predict))\n"
   ]
  },
  {
   "cell_type": "code",
   "execution_count": 17,
   "metadata": {},
   "outputs": [
    {
     "data": {
      "image/png": "[encoded data removed]",
      "text/plain": [
       "<Figure size 432x288 with 1 Axes>"
      ]
     },
     "metadata": {
      "needs_background": "light"
     },
     "output_type": "display_data"
    }
   ],
   "source": [
    "from sklearn.metrics import roc_curve\n",
    "\n",
    "TargetVarScore = multinomial.predict_proba(teste_x)\n",
    "fper, tper, thresholds = roc_curve(y_true, TargetVarScore[:, 1])\n",
    "plot_roc_curve(fper, tper)"
   ]
  },
  {
   "cell_type": "markdown",
   "metadata": {},
   "source": [
    "Podemos testar o inverso também, removendo registros da classe majoritária."
   ]
  },
  {
   "cell_type": "code",
   "execution_count": 18,
   "metadata": {},
   "outputs": [],
   "source": [
    "from imblearn.under_sampling import NearMiss\n",
    "nr = NearMiss()\n"
   ]
  },
  {
   "cell_type": "code",
   "execution_count": 19,
   "metadata": {},
   "outputs": [
    {
     "name": "stdout",
     "output_type": "stream",
     "text": [
      "Antes do balanceamento, contagem de '1': 1123\n",
      "Antes do balanceamento, contagem de '0': 7651 \n",
      "\n",
      "Depois do balanceamento, dimensão de treino_X: (2246, 22)\n",
      "Depois do balanceamento, dimensão de treino_y: (2246,) \n",
      "\n",
      "Depois do balanceamento, contagem de '1': 1123\n",
      "Depois do balanceamento, contagem de '0': 1123\n"
     ]
    }
   ],
   "source": [
    "  \n",
    "X_train_miss, y_train_miss = nr.fit_resample(treino_x, treino_y)\n",
    "\n",
    "print(\"Antes do balanceamento, contagem de '1': {}\".format(sum(treino_y == 1)))\n",
    "print(\"Antes do balanceamento, contagem de '0': {} \\n\".format(sum(treino_y == 0)))\n",
    "\n",
    "print('Depois do balanceamento, dimensão de treino_X: {}'.format(X_train_miss.shape))\n",
    "print('Depois do balanceamento, dimensão de treino_y: {} \\n'.format(y_train_miss.shape))\n",
    "  \n",
    "print(\"Depois do balanceamento, contagem de '1': {}\".format(sum(y_train_miss == 1)))\n",
    "print(\"Depois do balanceamento, contagem de '0': {}\".format(sum(y_train_miss == 0)))"
   ]
  },
  {
   "cell_type": "code",
   "execution_count": 20,
   "metadata": {},
   "outputs": [
    {
     "name": "stdout",
     "output_type": "stream",
     "text": [
      "Matriz de confusão\n"
     ]
    },
    {
     "data": {
      "image/png": "[encoded data removed]",
      "text/plain": [
       "<Figure size 432x288 with 2 Axes>"
      ]
     },
     "metadata": {
      "needs_background": "light"
     },
     "output_type": "display_data"
    },
    {
     "name": "stdout",
     "output_type": "stream",
     "text": [
      "              precision    recall  f1-score   support\n",
      "\n",
      "           0       0.83      0.28      0.42      3769\n",
      "           1       0.11      0.62      0.19       553\n",
      "\n",
      "    accuracy                           0.32      4322\n",
      "   macro avg       0.47      0.45      0.30      4322\n",
      "weighted avg       0.74      0.32      0.39      4322\n",
      "\n"
     ]
    }
   ],
   "source": [
    "# treina o modelo com dados balanceados\n",
    "multinomial.fit(X_train_miss, y_train_miss)\n",
    "    \n",
    "# testa modelo\n",
    "y_predict = multinomial.predict(teste_x) # Pega as previsoes do modelo para os valores X de teste\n",
    "y_true = teste_y\n",
    "\n",
    "print(\"Matriz de confusão\")\n",
    "matriz_confusao = confusion_matrix(y_true, y_predict)\n",
    "matriz = ConfusionMatrixDisplay(matriz_confusao)\n",
    "matriz.plot()\n",
    "plt.show()\n",
    "\n",
    "print(classification_report(teste_y, y_predict))\n"
   ]
  },
  {
   "cell_type": "code",
   "execution_count": 21,
   "metadata": {},
   "outputs": [
    {
     "data": {
      "image/png": "[encoded data removed]",
      "text/plain": [
       "<Figure size 432x288 with 1 Axes>"
      ]
     },
     "metadata": {
      "needs_background": "light"
     },
     "output_type": "display_data"
    }
   ],
   "source": [
    "from sklearn.metrics import roc_curve\n",
    "\n",
    "TargetVarScore = multinomial.predict_proba(teste_x)\n",
    "fper, tper, thresholds = roc_curve(y_true, TargetVarScore[:, 1])\n",
    "plot_roc_curve(fper, tper)"
   ]
  },
  {
   "cell_type": "markdown",
   "metadata": {},
   "source": [
    "Agora queremos obter os resultados de fato, isso é a influencia de cada atributo na classe final."
   ]
  },
  {
   "cell_type": "code",
   "execution_count": 47,
   "metadata": {},
   "outputs": [
    {
     "name": "stdout",
     "output_type": "stream",
     "text": [
      "(13096, 2)\n",
      "(2, 22)\n",
      "                  Atributos  Probabilidade de ser 1  Probabilidade de ser 0\n",
      "0                       Mes                0.125364                0.133707\n",
      "1                   Estacao                0.038730                0.042399\n",
      "2                    Trecho                0.160454                0.194579\n",
      "3                   Sentido                0.007571                0.007874\n",
      "4              Trecho macro                0.018928                0.018776\n",
      "5            Tipo De Pistas                0.090565                0.110690\n",
      "6          Numero de Pistas                0.038439                0.037099\n",
      "7         Tipo de Pavimento                0.035527                0.037099\n",
      "8          Numero de Faixas                0.068433                0.072835\n",
      "9         Velocidade Maxima                0.103524                0.058752\n",
      "10            Tipo da Chuva                0.048923                0.054664\n",
      "11              Intervencao                0.017909                0.018776\n",
      "12                Vazamento                0.018783                0.020745\n",
      "13                    Agua?                0.024607                0.023471\n",
      "14         Vegetacao Baixa?                0.025917                0.033010\n",
      "15                capimAlto                0.021112                0.021654\n",
      "16                 Arbustos                0.020967                0.020139\n",
      "17                 Floresta                0.018055                0.019231\n",
      "18                    Local                0.037711                0.018474\n",
      "19            Com filhotes?                0.015579                0.018171\n",
      "20  Faixa Horario da Coleta                0.020676                0.024531\n",
      "21   Faixa de Quilometragem                0.042225                0.013325\n"
     ]
    }
   ],
   "source": [
    "y_proba = multinomial.predict_proba(X)\n",
    "print(y_proba.shape)\n",
    "\n",
    "y_prob = multinomial.feature_log_prob_\n",
    "print(y_prob.shape)\n",
    "\n",
    "classe0 = []\n",
    "for i in y_prob[0]:\n",
    "    prob = np.exp(i)\n",
    "    classe0.append(prob)\n",
    "\n",
    "classe1 = []\n",
    "for i in y_prob[1]:\n",
    "    prob = np.exp(i)\n",
    "    classe1.append(prob)\n",
    "    \n",
    "resultados_df = pd.DataFrame()\n",
    "\n",
    "resultados_df['Atributos'] = atributos\n",
    "# resultados_df['Valores'] = valores\n",
    "resultados_df['Probabilidade de ser 1'] = classe1\n",
    "resultados_df['Probabilidade de ser 0'] = classe0\n",
    "\n",
    "print(resultados_df)\n",
    "\n"
   ]
  },
  {
   "cell_type": "code",
   "execution_count": null,
   "metadata": {},
   "outputs": [],
   "source": []
  }
 ],
 "metadata": {
  "interpreter": {
   "hash": "e4f2e29d4792ba744ec37cfe5d9e06cb1682524f233fc37b58180c94e420ae9c"
  },
  "kernelspec": {
   "display_name": "Python 3.9.12 ('base')",
   "language": "python",
   "name": "python3"
  },
  "language_info": {
   "codemirror_mode": {
    "name": "ipython",
    "version": 3
   },
   "file_extension": ".py",
   "mimetype": "text/x-python",
   "name": "python",
   "nbconvert_exporter": "python",
   "pygments_lexer": "ipython3",
   "version": "3.9.12"
  },
  "orig_nbformat": 4
 },
 "nbformat": 4,
 "nbformat_minor": 2
}
