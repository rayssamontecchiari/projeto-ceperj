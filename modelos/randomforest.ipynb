{
 "cells": [
  {
   "cell_type": "code",
   "execution_count": 1,
   "metadata": {},
   "outputs": [],
   "source": [
    "import pandas as pd\n",
    "import numpy as np\n",
    "\n",
    "dados = pd.read_csv('../dados/CSV_Completo.csv')\n",
    "\n",
    "animal = 'É animal mais atropelado'\n",
    "animalEscolhido = 'serpente'\n",
    "\n",
    "dados.loc[dados.Animal == animalEscolhido,animal] = 1\n",
    "dados.loc[dados.Animal != animalEscolhido,animal] = 0\n",
    "\n",
    "\n",
    "dados[animal] = dados[animal].astype(int)\n",
    " "
   ]
  },
  {
   "cell_type": "code",
   "execution_count": 2,
   "metadata": {},
   "outputs": [],
   "source": [
    "del(dados['Animal'])\n",
    "del(dados['Km'])\n",
    "del(dados['Hora da Coleta'])\n",
    "del(dados['Local'])\n",
    "del(dados['Tipo De Pistas'])\n",
    "del(dados['Trecho macro'])"
   ]
  },
  {
   "cell_type": "code",
   "execution_count": 3,
   "metadata": {},
   "outputs": [],
   "source": [
    "y = dados.pop(animal)\n",
    "X = dados\n",
    "# print(X)"
   ]
  },
  {
   "cell_type": "code",
   "execution_count": 4,
   "metadata": {},
   "outputs": [],
   "source": [
    "from sklearn.preprocessing import LabelEncoder\n",
    "from collections import defaultdict\n",
    "\n",
    "d = defaultdict(LabelEncoder)\n",
    "# Encoding the variable\n",
    "X_encoded = X.apply(lambda x: d[x.name].fit_transform(x))\n"
   ]
  },
  {
   "cell_type": "code",
   "execution_count": 5,
   "metadata": {},
   "outputs": [
    {
     "name": "stdout",
     "output_type": "stream",
     "text": [
      "os atributos escolhidos foram:\n",
      "['Mês', 'Estação', 'Trecho', 'Numero de Faixas', 'Velocidade Maxima', 'Vazamento', 'Vegetação Baixa?', 'Arbustos', 'Floresta', 'Faixa de Quilometragem']\n",
      "(13096, 10)\n"
     ]
    }
   ],
   "source": [
    "from sklearn.feature_selection import SelectKBest, chi2\n",
    "\n",
    "features = []\n",
    "\n",
    "for i in X_encoded:\n",
    "    features.append(i)\n",
    "\n",
    "k = 10 # seleciona 10 features\n",
    "\n",
    "sel_chi2 = SelectKBest(chi2, k = 10)\n",
    "X_train_novo = sel_chi2.fit_transform(X_encoded, y)\n",
    "\n",
    "print(\"os atributos escolhidos foram:\")\n",
    "atributosSelect = []\n",
    "for j in sel_chi2.get_support(indices=True):\n",
    "    atributosSelect.append(features[j])\n",
    "    \n",
    "print(atributosSelect)\n",
    "\n",
    "colums = [\"target\"]\n",
    "col2 = []\n",
    "for i in range(k):\n",
    "    colums.append(i)\n",
    "    col2.append(i)\n",
    "\n",
    "print(X_train_novo.shape)\n",
    "\n",
    "novoDf = pd.DataFrame(X_train_novo, y).reset_index()\n",
    "novoDf.columns = [colums]\n",
    "\n",
    "novoX = novoDf[col2]\n",
    "novoY = novoDf[\"target\"]"
   ]
  },
  {
   "cell_type": "code",
   "execution_count": 6,
   "metadata": {},
   "outputs": [],
   "source": [
    "# Inverse the encoded\n",
    "X_decoded = X_encoded.apply(lambda x: d[x.name].inverse_transform(x))\n",
    "# print(X_decoded)\n",
    "dados_filtrados = pd.DataFrame()\n",
    "\n",
    "for i in atributosSelect:\n",
    "    dados_filtrados[i] = X_decoded[i]\n",
    "    \n",
    "dados_filtrados[animal] = y"
   ]
  },
  {
   "cell_type": "code",
   "execution_count": 7,
   "metadata": {},
   "outputs": [
    {
     "name": "stdout",
     "output_type": "stream",
     "text": [
      "['Mês', 'Trecho', 'Estação_Inverno', 'Estação_Outono', 'Estação_Primavera', 'Estação_Verão', 'Numero de Faixas_0', 'Numero de Faixas_1', 'Numero de Faixas_2', 'Numero de Faixas_3', 'Numero de Faixas_4', 'Numero de Faixas_5', 'Numero de Faixas_6', 'Numero de Faixas_7', 'Numero de Faixas_8', 'Numero de Faixas_9', 'Numero de Faixas_Desconhecido', 'Velocidade Maxima_0', 'Velocidade Maxima_100', 'Velocidade Maxima_11', 'Velocidade Maxima_110', 'Velocidade Maxima_119', 'Velocidade Maxima_20', 'Velocidade Maxima_30', 'Velocidade Maxima_40', 'Velocidade Maxima_50', 'Velocidade Maxima_60', 'Velocidade Maxima_70', 'Velocidade Maxima_72', 'Velocidade Maxima_80', 'Velocidade Maxima_90', 'Velocidade Maxima_Desconhecido', 'Vazamento_Desconhecido', 'Vazamento_não', 'Vazamento_sim', 'Vegetação Baixa?_Desconhecido', 'Vegetação Baixa?_não', 'Vegetação Baixa?_sim', 'Arbustos_Desconhecido', 'Arbustos_não', 'Arbustos_sim', 'Floresta_Desconhecido', 'Floresta_não', 'Floresta_sim', 'Faixa de Quilometragem_Entre 0 e 25', 'Faixa de Quilometragem_Entre 100 e 125', 'Faixa de Quilometragem_Entre 25 e 50', 'Faixa de Quilometragem_Entre 50 e 75', 'Faixa de Quilometragem_Entre 75 e 100', 'Faixa de Quilometragem_Entre 750 e 775', 'Faixa de Quilometragem_Entre 775 e 800', 'Faixa de Quilometragem_Entre 800 e 825', 'Faixa de Quilometragem_Entre 825 e 850']\n"
     ]
    }
   ],
   "source": [
    "dadosEncod = pd.get_dummies(dados_filtrados)\n",
    "\n",
    "# dadosEncod['target'] = y\n",
    "\n",
    "dummies_names = []\n",
    "\n",
    "x_codificado = dadosEncod\n",
    "\n",
    "for i in x_codificado:\n",
    "    dummies_names.append(i)\n",
    "    # print(i)\n",
    "    \n",
    "dummies_names.remove(animal)\n",
    "\n",
    "print(dummies_names)"
   ]
  },
  {
   "cell_type": "code",
   "execution_count": 8,
   "metadata": {},
   "outputs": [
    {
     "data": {
      "text/plain": [
       "<BarContainer object of 2 artists>"
      ]
     },
     "execution_count": 8,
     "metadata": {},
     "output_type": "execute_result"
    },
    {
     "data": {
      "image/png": "[encoded data removed]",
      "text/plain": [
       "<Figure size 432x288 with 1 Axes>"
      ]
     },
     "metadata": {
      "needs_background": "light"
     },
     "output_type": "display_data"
    }
   ],
   "source": [
    "from sklearn.model_selection import train_test_split\n",
    "import numpy as np\n",
    "import matplotlib.pyplot as plt\n",
    "\n",
    "dadosTreino, dadosTeste = train_test_split(dadosEncod, test_size = 0.33, random_state = 0)\n",
    "\n",
    "# countTreino = dadosTreino[animal].value_counts()\n",
    "# countTeste = dadosTeste[animal].value_counts()\n",
    "\n",
    "countTreino = dadosTreino[animal].value_counts()\n",
    "countTeste = dadosTeste[animal].value_counts()\n",
    "plt.bar([0, 1], countTreino) \n",
    "plt.bar([0, 1], countTeste) \n",
    "\n"
   ]
  },
  {
   "cell_type": "code",
   "execution_count": 9,
   "metadata": {},
   "outputs": [],
   "source": [
    "treino_y = dadosTreino.pop(animal)\n",
    "treino_x = dadosTreino\n",
    "\n",
    "teste_y = dadosTeste.pop(animal)\n",
    "teste_x = dadosTeste"
   ]
  },
  {
   "cell_type": "markdown",
   "metadata": {},
   "source": [
    "Balanceamento:"
   ]
  },
  {
   "cell_type": "code",
   "execution_count": 10,
   "metadata": {},
   "outputs": [],
   "source": [
    "from imblearn.over_sampling import SMOTE\n",
    "sm = SMOTE(random_state=42)\n",
    "X_res, y_res = sm.fit_resample(treino_x, treino_y)"
   ]
  },
  {
   "cell_type": "code",
   "execution_count": 11,
   "metadata": {},
   "outputs": [
    {
     "name": "stdout",
     "output_type": "stream",
     "text": [
      "0.8405830633965756\n"
     ]
    }
   ],
   "source": [
    "from sklearn.ensemble import RandomForestClassifier\n",
    "clf = RandomForestClassifier(n_estimators=10, max_depth=5, criterion=\"gini\")\n",
    "\n",
    "clf_model = clf.fit(X_res, y_res)\n",
    "\n",
    "y_predict = clf.predict(teste_x)\n",
    "\n",
    "score = clf_model.score(teste_x,teste_y)\n",
    "print(score)"
   ]
  },
  {
   "cell_type": "code",
   "execution_count": 12,
   "metadata": {},
   "outputs": [
    {
     "name": "stdout",
     "output_type": "stream",
     "text": [
      "              precision    recall  f1-score   support\n",
      "\n",
      "           0       1.00      0.84      0.91      4301\n",
      "           1       0.01      0.24      0.01        21\n",
      "\n",
      "    accuracy                           0.84      4322\n",
      "   macro avg       0.50      0.54      0.46      4322\n",
      "weighted avg       0.99      0.84      0.91      4322\n",
      "\n",
      "Matriz de confusão\n"
     ]
    },
    {
     "data": {
      "image/png": "[encoded data removed]",
      "text/plain": [
       "<Figure size 432x288 with 2 Axes>"
      ]
     },
     "metadata": {
      "needs_background": "light"
     },
     "output_type": "display_data"
    },
    {
     "data": {
      "image/png": "[encoded data removed]",
      "text/plain": [
       "<Figure size 432x288 with 2 Axes>"
      ]
     },
     "metadata": {
      "needs_background": "light"
     },
     "output_type": "display_data"
    },
    {
     "data": {
      "image/png": "[encoded data removed]",
      "text/plain": [
       "<Figure size 432x288 with 1 Axes>"
      ]
     },
     "metadata": {
      "needs_background": "light"
     },
     "output_type": "display_data"
    }
   ],
   "source": [
    "from sklearn.metrics import confusion_matrix, ConfusionMatrixDisplay, classification_report\n",
    "import matplotlib.pyplot as plt\n",
    "import seaborn as sns\n",
    "\n",
    "print(classification_report(teste_y, y_predict, zero_division=0))\n",
    "y_true = teste_y\n",
    "\n",
    "print(\"Matriz de confusão\")\n",
    "matriz_confusaoPorc = confusion_matrix(y_true, y_predict, normalize = 'true')\n",
    "matrizPorc = ConfusionMatrixDisplay(matriz_confusaoPorc)\n",
    "matrizPorc.plot()\n",
    "\n",
    "matriz_confusao = confusion_matrix(y_true, y_predict)\n",
    "matriz = ConfusionMatrixDisplay(matriz_confusao)\n",
    "matriz.plot()\n",
    "plt.show()\n",
    "\n",
    "def plot_roc_curve(fper, tper):\n",
    "    plt.plot(fper, tper, color='red', label='ROC')\n",
    "    plt.plot([0, 1], [0, 1], color='green', linestyle='--')\n",
    "    plt.xlabel('False Positive Rate')\n",
    "    plt.ylabel('True Positive Rate')\n",
    "    plt.title('Receiver Operating Characteristic Curve')\n",
    "    plt.legend()\n",
    "    plt.show()\n",
    "    \n",
    "from sklearn.metrics import roc_curve\n",
    "\n",
    "TargetVarScore = clf.predict_proba(teste_x)\n",
    "fper, tper, thresholds = roc_curve(teste_y, TargetVarScore[:, 1])\n",
    "plot_roc_curve(fper, tper)"
   ]
  },
  {
   "cell_type": "code",
   "execution_count": 13,
   "metadata": {},
   "outputs": [],
   "source": [
    "from sklearn.tree import _tree\n",
    "\n",
    "def get_rules(tree, feature_names, class_names):\n",
    "    for tree_idx, est in enumerate(tree.estimators_):\n",
    "        tree_ = est.tree_\n",
    "        feature_name = [\n",
    "            feature_names[i] if i != _tree.TREE_UNDEFINED else \"undefined!\"\n",
    "            for i in tree_.feature\n",
    "        ]\n",
    "\n",
    "        paths = []\n",
    "        path = []\n",
    "        \n",
    "        def recurse(node, path, paths):\n",
    "            \n",
    "            if tree_.feature[node] != _tree.TREE_UNDEFINED:\n",
    "                name = feature_name[node]\n",
    "                threshold = tree_.threshold[node]\n",
    "                p1, p2 = list(path), list(path)\n",
    "                p1 += [f\"({name} <= {np.round(threshold, 3)})\"]\n",
    "                recurse(tree_.children_left[node], p1, paths)\n",
    "                p2 += [f\"({name} > {np.round(threshold, 3)})\"]\n",
    "                recurse(tree_.children_right[node], p2, paths)\n",
    "            else:\n",
    "                path += [(tree_.value[node], tree_.n_node_samples[node])]\n",
    "                paths += [path]\n",
    "                \n",
    "        recurse(0, path, paths)\n",
    "\n",
    "        # sort by samples count\n",
    "        samples_count = [p[-1][1] for p in paths]\n",
    "        ii = list(np.argsort(samples_count))\n",
    "        paths = [paths[i] for i in reversed(ii)]\n",
    "        \n",
    "        rules = []\n",
    "        for path in paths:\n",
    "            rule = \"if \"\n",
    "            \n",
    "            for p in path[:-1]:\n",
    "                if rule != \"if \":\n",
    "                    rule += \" and \"\n",
    "                rule += str(p)\n",
    "            rule += \" then \"\n",
    "            if class_names is None:\n",
    "                rule += \"response: \"+str(np.round(path[-1][0][0][0],3))\n",
    "            else:\n",
    "                classes = path[-1][0][0]\n",
    "                l = np.argmax(classes)\n",
    "                rule += f\"class: {class_names[l]} (proba: {np.round(100.0*classes[l]/np.sum(classes),2)}%)\"\n",
    "            rule += f\" | based on {path[-1][1]:,} samples\"\n",
    "            rules += [rule]\n",
    "            \n",
    "        return rules"
   ]
  },
  {
   "cell_type": "code",
   "execution_count": 14,
   "metadata": {},
   "outputs": [
    {
     "name": "stdout",
     "output_type": "stream",
     "text": [
      "if (Arbustos_Desconhecido = false) and (Floresta_não = false) and (Mês <= 6.5) and (Vegetação Baixa?_sim = false) and (Trecho <= 5.5) then class: é serpente (proba: 86.69%) | based on 2,665 samples\n",
      "if (Arbustos_Desconhecido = false) and (Floresta_não = true) and (Vazamento_não = true) and (Estação_Outono = false) and (Arbustos_sim = false) then class: não é serpente (proba: 71.57%) | based on 1,636 samples\n",
      "if (Arbustos_Desconhecido = false) and (Floresta_não = true) and (Vazamento_não = false) and (Mês <= 3.5) and (Vegetação Baixa?_não = false) then class: é serpente (proba: 85.31%) | based on 972 samples\n",
      "if (Arbustos_Desconhecido = false) and (Floresta_não = true) and (Vazamento_não = true) and (Estação_Outono = false) and (Arbustos_sim = true) then class: não é serpente (proba: 89.67%) | based on 908 samples\n",
      "if (Arbustos_Desconhecido = false) and (Floresta_não = true) and (Vazamento_não = false) and (Mês > 3.5) and (Faixa de Quilometragem_Entre 775 e 800 = false) then class: é serpente (proba: 52.02%) | based on 769 samples\n",
      "if (Arbustos_Desconhecido = false) and (Floresta_não = false) and (Mês <= 6.5) and (Vegetação Baixa?_sim = false) and (Trecho > 5.5) then class: é serpente (proba: 61.12%) | based on 733 samples\n",
      "if (Arbustos_Desconhecido = false) and (Floresta_não = false) and (Mês > 6.5) and (Arbustos_não = false) and (Velocidade Maxima_70 = false) then class: é serpente (proba: 89.49%) | based on 615 samples\n",
      "if (Arbustos_Desconhecido = false) and (Floresta_não = true) and (Vazamento_não = true) and (Estação_Outono = true) and (Faixa de Quilometragem_Entre 50 e 75 = false) then class: não é serpente (proba: 97.01%) | based on 503 samples\n",
      "if (Arbustos_Desconhecido = false) and (Floresta_não = false) and (Mês > 6.5) and (Arbustos_não = true) and (Estação_Primavera = false) then class: não é serpente (proba: 62.66%) | based on 387 samples\n",
      "if (Arbustos_Desconhecido = false) and (Floresta_não = false) and (Mês > 6.5) and (Arbustos_não = true) and (Estação_Primavera = true) then class: não é serpente (proba: 87.36%) | based on 358 samples\n",
      "if (Arbustos_Desconhecido = true) and (Velocidade Maxima_110 = true) then class: não é serpente (proba: 100.0%) | based on 303 samples\n",
      "if (Arbustos_Desconhecido = false) and (Floresta_não = false) and (Mês <= 6.5) and (Vegetação Baixa?_sim = true) and (Numero de Faixas_2 = false) then class: é serpente (proba: 72.03%) | based on 289 samples\n",
      "if (Arbustos_Desconhecido = true) and (Velocidade Maxima_110 = false) and (Trecho > 4.5) and (Estação_Primavera = false) then class: não é serpente (proba: 100.0%) | based on 208 samples\n",
      "if (Arbustos_Desconhecido = false) and (Floresta_não = false) and (Mês > 6.5) and (Arbustos_não = false) and (Velocidade Maxima_70 = true) then class: não é serpente (proba: 100.0%) | based on 128 samples\n",
      "if (Arbustos_Desconhecido = false) and (Floresta_não = true) and (Vazamento_não = true) and (Estação_Outono = true) and (Faixa de Quilometragem_Entre 50 e 75 = true) then class: não é serpente (proba: 98.93%) | based on 111 samples\n",
      "if (Arbustos_Desconhecido = false) and (Floresta_não = false) and (Mês <= 6.5) and (Vegetação Baixa?_sim = true) and (Numero de Faixas_2 = true) then class: não é serpente (proba: 100.0%) | based on 77 samples\n",
      "if (Arbustos_Desconhecido = true) and (Velocidade Maxima_110 = false) and (Trecho > 4.5) and (Estação_Primavera = true) and (Faixa de Quilometragem_Entre 25 e 50 = false) then class: não é serpente (proba: 98.26%) | based on 77 samples\n",
      "if (Arbustos_Desconhecido = true) and (Velocidade Maxima_110 = false) and (Trecho <= 4.5) and (Velocidade Maxima_80 = false) and (Velocidade Maxima_60 = true) then class: não é serpente (proba: 100.0%) | based on 67 samples\n",
      "if (Arbustos_Desconhecido = true) and (Velocidade Maxima_110 = false) and (Trecho <= 4.5) and (Velocidade Maxima_80 = false) and (Velocidade Maxima_60 = false) then class: não é serpente (proba: 59.22%) | based on 63 samples\n",
      "if (Arbustos_Desconhecido = false) and (Floresta_não = true) and (Vazamento_não = false) and (Mês <= 3.5) and (Vegetação Baixa?_não = true) then class: não é serpente (proba: 100.0%) | based on 54 samples\n",
      "if (Arbustos_Desconhecido = true) and (Velocidade Maxima_110 = false) and (Trecho <= 4.5) and (Velocidade Maxima_80 = true) then class: não é serpente (proba: 100.0%) | based on 34 samples\n",
      "if (Arbustos_Desconhecido = false) and (Floresta_não = true) and (Vazamento_não = false) and (Mês > 3.5) and (Faixa de Quilometragem_Entre 775 e 800 = true) then class: não é serpente (proba: 100.0%) | based on 32 samples\n",
      "if (Arbustos_Desconhecido = true) and (Velocidade Maxima_110 = false) and (Trecho > 4.5) and (Estação_Primavera = true) and (Faixa de Quilometragem_Entre 25 e 50 = true) then class: não é serpente (proba: 100.0%) | based on 19 samples\n"
     ]
    }
   ],
   "source": [
    "false = \"não é \" + animalEscolhido\n",
    "true = \"é \" + animalEscolhido\n",
    "\n",
    "targets = {0: false, 1: true}\n",
    "rules = get_rules(clf, dummies_names, targets)\n",
    "\n",
    "# > 0.5 = true\n",
    "# <= 0.5 = false\n",
    "\n",
    "for r in rules:\n",
    "    str(r)\n",
    "    new_r = r.replace('> 0.5', \"= true\").replace('<= 0.5', \"= false\")\n",
    "    print(new_r)"
   ]
  }
 ],
 "metadata": {
  "interpreter": {
   "hash": "e4f2e29d4792ba744ec37cfe5d9e06cb1682524f233fc37b58180c94e420ae9c"
  },
  "kernelspec": {
   "display_name": "Python 3.9.12 ('base')",
   "language": "python",
   "name": "python3"
  },
  "language_info": {
   "codemirror_mode": {
    "name": "ipython",
    "version": 3
   },
   "file_extension": ".py",
   "mimetype": "text/x-python",
   "name": "python",
   "nbconvert_exporter": "python",
   "pygments_lexer": "ipython3",
   "version": "3.9.12"
  },
  "orig_nbformat": 4
 },
 "nbformat": 4,
 "nbformat_minor": 2
}
