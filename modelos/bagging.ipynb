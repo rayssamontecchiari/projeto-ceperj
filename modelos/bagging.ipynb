{
 "cells": [
  {
   "cell_type": "code",
   "execution_count": 33,
   "metadata": {},
   "outputs": [],
   "source": [
    "import pandas as pd\n",
    "\n",
    "dados = pd.read_csv('../dados/CSV_Completo.csv')\n",
    "\n",
    "animal = 'É animal mais atropelado'\n",
    "animalEscolhido = 'rã-manteiga'\n",
    "\n",
    "dados.loc[dados.Animal == animalEscolhido,animal] = 1\n",
    "dados.loc[dados.Animal != animalEscolhido,animal] = 0\n",
    "\n",
    "\n",
    "dados[animal] = dados[animal].astype(int)\n",
    "\n",
    "del(dados['Animal'])\n",
    "del(dados['Km'])\n",
    "del(dados['Hora da Coleta'])\n"
   ]
  },
  {
   "cell_type": "code",
   "execution_count": 34,
   "metadata": {},
   "outputs": [
    {
     "name": "stdout",
     "output_type": "stream",
     "text": [
      "<class 'pandas.core.frame.DataFrame'>\n",
      "RangeIndex: 13096 entries, 0 to 13095\n",
      "Data columns (total 23 columns):\n",
      " #   Column                    Non-Null Count  Dtype\n",
      "---  ------                    --------------  -----\n",
      " 0   Mês                       13096 non-null  int64\n",
      " 1   Estação                   13096 non-null  int32\n",
      " 2   Trecho                    13096 non-null  int64\n",
      " 3   Sentido                   13096 non-null  int32\n",
      " 4   Trecho macro              13096 non-null  int32\n",
      " 5   Tipo De Pistas            13096 non-null  int32\n",
      " 6   Numero de Pistas          13096 non-null  int32\n",
      " 7   Tipo de Pavimento         13096 non-null  int32\n",
      " 8   Numero de Faixas          13096 non-null  int32\n",
      " 9   Velocidade Maxima         13096 non-null  int32\n",
      " 10  Tipo da Chuva             13096 non-null  int32\n",
      " 11  Intervencao               13096 non-null  int32\n",
      " 12  Vazamento                 13096 non-null  int32\n",
      " 13  Agua?                     13096 non-null  int32\n",
      " 14  Vegetação Baixa?          13096 non-null  int32\n",
      " 15  capimAlto                 13096 non-null  int32\n",
      " 16  Arbustos                  13096 non-null  int32\n",
      " 17  Floresta                  13096 non-null  int32\n",
      " 18  Local                     13096 non-null  int32\n",
      " 19  Com filhotes?             13096 non-null  int32\n",
      " 20  Faixa de Horario          13096 non-null  int32\n",
      " 21  Faixa de Quilometragem    13096 non-null  int32\n",
      " 22  É animal mais atropelado  13096 non-null  int64\n",
      "dtypes: int32(20), int64(3)\n",
      "memory usage: 1.3 MB\n"
     ]
    }
   ],
   "source": [
    "from collections import OrderedDict\n",
    "\n",
    "categorias = {}\n",
    "# categorias['Mês'] = dados['Mês']\n",
    "\n",
    "for i in dados:\n",
    "      categorias[i] = dados[i]\n",
    "      # categorias[i] = i\n",
    "      \n",
    "\n",
    "for feature in categorias:\n",
    "  categorias[feature] = list(OrderedDict.fromkeys(categorias[feature]))\n",
    "  \n",
    "from sklearn.preprocessing import LabelEncoder\n",
    "le = LabelEncoder()\n",
    "\n",
    "for i in dados:\n",
    "    dados[i] = le.fit_transform(dados[i])\n",
    "    \n",
    "# print(dados)\n",
    "\n",
    "categorias_cod = {}\n",
    "\n",
    "for i in dados:\n",
    "    categorias_cod[i] = dados[i]\n",
    "    \n",
    "for feature in categorias_cod:\n",
    "  categorias_cod[feature] = list(OrderedDict.fromkeys(categorias_cod[feature]))\n",
    "  \n",
    "dados.info()"
   ]
  },
  {
   "cell_type": "code",
   "execution_count": 35,
   "metadata": {},
   "outputs": [
    {
     "name": "stdout",
     "output_type": "stream",
     "text": [
      "0    12915\n",
      "1      181\n",
      "Name: É animal mais atropelado, dtype: int64\n"
     ]
    },
    {
     "data": {
      "text/plain": [
       "<BarContainer object of 2 artists>"
      ]
     },
     "execution_count": 35,
     "metadata": {},
     "output_type": "execute_result"
    },
    {
     "data": {
      "image/png": "[encoded data removed]",
      "text/plain": [
       "<Figure size 432x288 with 1 Axes>"
      ]
     },
     "metadata": {
      "needs_background": "light"
     },
     "output_type": "display_data"
    }
   ],
   "source": [
    "X = dados.iloc[:,:-1]\n",
    "y = dados.iloc[:,-1]\n",
    "\n",
    "import matplotlib.pyplot as plt\n",
    "\n",
    "count = dados[animal].value_counts()\n",
    "print(count)\n",
    "plt.bar([0, 1], count) "
   ]
  },
  {
   "cell_type": "code",
   "execution_count": 36,
   "metadata": {},
   "outputs": [],
   "source": [
    "cod_cat = {}\n",
    "\n",
    "for feature in categorias:\n",
    "  cod_cat[feature] = {}\n",
    "  for index, cat in enumerate(categorias[feature]):\n",
    "    cods = categorias_cod[feature]\n",
    "    cod_cat[feature].update({cods[index]:cat})\n"
   ]
  },
  {
   "cell_type": "markdown",
   "metadata": {},
   "source": [
    "Escolhendo as 10 melhores features"
   ]
  },
  {
   "cell_type": "code",
   "execution_count": 37,
   "metadata": {},
   "outputs": [
    {
     "name": "stdout",
     "output_type": "stream",
     "text": [
      "os atributos escolhidos foram:\n",
      "['Mês', 'Estação', 'Trecho', 'Trecho macro', 'Tipo De Pistas', 'Numero de Pistas', 'Numero de Faixas', 'Velocidade Maxima', 'Local', 'Faixa de Quilometragem']\n",
      "(13096, 10)\n"
     ]
    }
   ],
   "source": [
    "from sklearn.feature_selection import SelectKBest, f_regression,  chi2\n",
    "\n",
    "features = []\n",
    "for i in X:\n",
    "    features.append(i)\n",
    "\n",
    "k = 10 # seleciona 10 features\n",
    "\n",
    "sel_chi2 = SelectKBest(chi2, k = 10)\n",
    "\n",
    "X_train_novo = sel_chi2.fit_transform(X, y)\n",
    "\n",
    "print(\"os atributos escolhidos foram:\")\n",
    "atributosSelect = []\n",
    "for j in sel_chi2.get_support(indices=True):\n",
    "    atributosSelect.append(features[j])\n",
    "    \n",
    "print(atributosSelect)\n",
    "\n",
    "colums = [animal]\n",
    "col2 = []\n",
    "for i in range(k):\n",
    "    colums.append(i)\n",
    "    col2.append(i)\n",
    "\n",
    "print(X_train_novo.shape)\n",
    "\n",
    "novoDf = pd.DataFrame(X_train_novo, y).reset_index()\n",
    "novoDf.columns = [colums]\n",
    "\n",
    "novoX = novoDf[col2]\n",
    "novoY = novoDf[animal]\n"
   ]
  },
  {
   "cell_type": "code",
   "execution_count": 38,
   "metadata": {},
   "outputs": [
    {
     "data": {
      "text/plain": [
       "<BarContainer object of 2 artists>"
      ]
     },
     "execution_count": 38,
     "metadata": {},
     "output_type": "execute_result"
    },
    {
     "data": {
      "image/png": "[encoded data removed]",
      "text/plain": [
       "<Figure size 432x288 with 1 Axes>"
      ]
     },
     "metadata": {
      "needs_background": "light"
     },
     "output_type": "display_data"
    }
   ],
   "source": [
    "import numpy as np\n",
    "from sklearn.model_selection import train_test_split\n",
    "\n",
    "dadosTreino, dadosTeste = train_test_split(novoDf, test_size = 0.33, random_state = 0)\n",
    "\n",
    "countTreino = dadosTreino[animal].value_counts()\n",
    "\n",
    "countTeste = dadosTeste[animal].value_counts()\n",
    "\n",
    "plt.bar([0, 1], countTreino) \n",
    "plt.bar([0, 1], countTeste) "
   ]
  },
  {
   "cell_type": "code",
   "execution_count": 39,
   "metadata": {},
   "outputs": [],
   "source": [
    "treino_y = dadosTreino.pop(animal)\n",
    "treino_x = dadosTreino\n",
    "\n",
    "teste_y = dadosTeste.pop(animal)\n",
    "teste_x = dadosTeste\n"
   ]
  },
  {
   "cell_type": "code",
   "execution_count": 40,
   "metadata": {},
   "outputs": [],
   "source": [
    "from imblearn.over_sampling import SMOTE\n",
    "sm = SMOTE(random_state=42)\n",
    "X_res, y_res = sm.fit_resample(treino_x, treino_y)"
   ]
  },
  {
   "cell_type": "code",
   "execution_count": 41,
   "metadata": {},
   "outputs": [
    {
     "name": "stdout",
     "output_type": "stream",
     "text": [
      "0.6397501156871819\n"
     ]
    },
    {
     "name": "stderr",
     "output_type": "stream",
     "text": [
      "c:\\Users\\rayss\\miniconda3\\lib\\site-packages\\sklearn\\ensemble\\_bagging.py:760: DataConversionWarning: A column-vector y was passed when a 1d array was expected. Please change the shape of y to (n_samples, ), for example using ravel().\n",
      "  y = column_or_1d(y, warn=True)\n"
     ]
    }
   ],
   "source": [
    "from sklearn.tree import DecisionTreeClassifier\n",
    "decisionTree = DecisionTreeClassifier(max_depth=3)\n",
    "\n",
    "from sklearn.ensemble import BaggingClassifier\n",
    "bag = BaggingClassifier(base_estimator=decisionTree, n_estimators=10)\n",
    "\n",
    "bag_model = bag.fit(X_res, y_res)\n",
    "\n",
    "y_predict = bag.predict(teste_x)\n",
    "\n",
    "score = bag_model.score(teste_x,teste_y)\n",
    "print(score)"
   ]
  },
  {
   "cell_type": "code",
   "execution_count": 42,
   "metadata": {},
   "outputs": [
    {
     "name": "stdout",
     "output_type": "stream",
     "text": [
      "              precision    recall  f1-score   support\n",
      "\n",
      "           0       1.00      0.64      0.78      4270\n",
      "           1       0.03      0.81      0.05        52\n",
      "\n",
      "    accuracy                           0.64      4322\n",
      "   macro avg       0.51      0.72      0.41      4322\n",
      "weighted avg       0.98      0.64      0.77      4322\n",
      "\n",
      "Matriz de confusão\n"
     ]
    },
    {
     "data": {
      "image/png": "[encoded data removed]",
      "text/plain": [
       "<Figure size 432x288 with 2 Axes>"
      ]
     },
     "metadata": {
      "needs_background": "light"
     },
     "output_type": "display_data"
    },
    {
     "data": {
      "image/png": "[encoded data removed]",
      "text/plain": [
       "<Figure size 432x288 with 2 Axes>"
      ]
     },
     "metadata": {
      "needs_background": "light"
     },
     "output_type": "display_data"
    },
    {
     "data": {
      "image/png": "[encoded data removed]",
      "text/plain": [
       "<Figure size 432x288 with 1 Axes>"
      ]
     },
     "metadata": {
      "needs_background": "light"
     },
     "output_type": "display_data"
    }
   ],
   "source": [
    "from sklearn.metrics import confusion_matrix, ConfusionMatrixDisplay, classification_report\n",
    "import matplotlib.pyplot as plt\n",
    "import seaborn as sns\n",
    "\n",
    "print(classification_report(teste_y, y_predict, zero_division=0))\n",
    "y_true = teste_y\n",
    "\n",
    "print(\"Matriz de confusão\")\n",
    "matriz_confusaoPorc = confusion_matrix(y_true, y_predict, normalize = 'true')\n",
    "matrizPorc = ConfusionMatrixDisplay(matriz_confusaoPorc)\n",
    "matrizPorc.plot()\n",
    "\n",
    "matriz_confusao = confusion_matrix(y_true, y_predict)\n",
    "matriz = ConfusionMatrixDisplay(matriz_confusao)\n",
    "matriz.plot()\n",
    "plt.show()\n",
    "\n",
    "def plot_roc_curve(fper, tper):\n",
    "    plt.plot(fper, tper, color='red', label='ROC')\n",
    "    plt.plot([0, 1], [0, 1], color='green', linestyle='--')\n",
    "    plt.xlabel('False Positive Rate')\n",
    "    plt.ylabel('True Positive Rate')\n",
    "    plt.title('Receiver Operating Characteristic Curve')\n",
    "    plt.legend()\n",
    "    plt.show()\n",
    "    \n",
    "from sklearn.metrics import roc_curve\n",
    "\n",
    "TargetVarScore = bag.predict_proba(teste_x)\n",
    "fper, tper, thresholds = roc_curve(teste_y, TargetVarScore[:, 1])\n",
    "plot_roc_curve(fper, tper)"
   ]
  }
 ],
 "metadata": {
  "interpreter": {
   "hash": "e4f2e29d4792ba744ec37cfe5d9e06cb1682524f233fc37b58180c94e420ae9c"
  },
  "kernelspec": {
   "display_name": "Python 3.9.12 ('base')",
   "language": "python",
   "name": "python3"
  },
  "language_info": {
   "codemirror_mode": {
    "name": "ipython",
    "version": 3
   },
   "file_extension": ".py",
   "mimetype": "text/x-python",
   "name": "python",
   "nbconvert_exporter": "python",
   "pygments_lexer": "ipython3",
   "version": "3.9.12"
  },
  "orig_nbformat": 4
 },
 "nbformat": 4,
 "nbformat_minor": 2
}
