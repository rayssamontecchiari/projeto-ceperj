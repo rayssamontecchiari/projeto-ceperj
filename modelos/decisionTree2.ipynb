{
 "cells": [
  {
   "cell_type": "code",
   "execution_count": 1,
   "metadata": {},
   "outputs": [],
   "source": [
    "import pandas as pd\n",
    "import numpy as np\n",
    "\n",
    "dados = pd.read_csv('../dados/CSV_Completo.csv')\n",
    "\n",
    "animal = 'É animal mais atropelado'\n",
    "animalEscolhido = 'rã-manteiga'\n",
    "\n",
    "dados.loc[dados.Animal == animalEscolhido,animal] = 1\n",
    "dados.loc[dados.Animal != animalEscolhido,animal] = 0\n",
    "\n",
    "\n",
    "dados[animal] = dados[animal].astype(int)\n",
    " "
   ]
  },
  {
   "cell_type": "code",
   "execution_count": 2,
   "metadata": {},
   "outputs": [],
   "source": [
    "del(dados['Animal'])\n",
    "del(dados['Km'])\n",
    "del(dados['Hora da Coleta'])\n",
    "del(dados['Local'])\n",
    "del(dados['Tipo De Pistas'])"
   ]
  },
  {
   "cell_type": "code",
   "execution_count": 3,
   "metadata": {},
   "outputs": [],
   "source": [
    "y = dados.pop(animal)\n",
    "X = dados\n",
    "# print(X)"
   ]
  },
  {
   "cell_type": "code",
   "execution_count": 4,
   "metadata": {},
   "outputs": [],
   "source": [
    "from sklearn.preprocessing import LabelEncoder\n",
    "from collections import defaultdict\n",
    "\n",
    "d = defaultdict(LabelEncoder)\n",
    "# Encoding the variable\n",
    "X_encoded = X.apply(lambda x: d[x.name].fit_transform(x))\n"
   ]
  },
  {
   "cell_type": "code",
   "execution_count": 5,
   "metadata": {},
   "outputs": [
    {
     "name": "stdout",
     "output_type": "stream",
     "text": [
      "os atributos escolhidos foram:\n",
      "['Mês', 'Estação', 'Trecho', 'Sentido', 'Trecho macro', 'Numero de Pistas', 'Numero de Faixas', 'Velocidade Maxima', 'Floresta', 'Faixa de Quilometragem']\n",
      "(13096, 10)\n"
     ]
    }
   ],
   "source": [
    "from sklearn.feature_selection import SelectKBest, chi2\n",
    "\n",
    "features = []\n",
    "\n",
    "for i in X_encoded:\n",
    "    features.append(i)\n",
    "\n",
    "k = 10 # seleciona 10 features\n",
    "\n",
    "sel_chi2 = SelectKBest(chi2, k = 10)\n",
    "X_train_novo = sel_chi2.fit_transform(X_encoded, y)\n",
    "\n",
    "print(\"os atributos escolhidos foram:\")\n",
    "atributosSelect = []\n",
    "for j in sel_chi2.get_support(indices=True):\n",
    "    atributosSelect.append(features[j])\n",
    "    \n",
    "print(atributosSelect)\n",
    "\n",
    "colums = [\"target\"]\n",
    "col2 = []\n",
    "for i in range(k):\n",
    "    colums.append(i)\n",
    "    col2.append(i)\n",
    "\n",
    "print(X_train_novo.shape)\n",
    "\n",
    "novoDf = pd.DataFrame(X_train_novo, y).reset_index()\n",
    "novoDf.columns = [colums]\n",
    "\n",
    "novoX = novoDf[col2]\n",
    "novoY = novoDf[\"target\"]"
   ]
  },
  {
   "cell_type": "code",
   "execution_count": 6,
   "metadata": {},
   "outputs": [],
   "source": [
    "# Inverse the encoded\n",
    "X_decoded = X_encoded.apply(lambda x: d[x.name].inverse_transform(x))\n",
    "# print(X_decoded)\n",
    "dados_filtrados = pd.DataFrame()\n",
    "\n",
    "for i in atributosSelect:\n",
    "    dados_filtrados[i] = X_decoded[i]\n",
    "    \n",
    "dados_filtrados[animal] = y"
   ]
  },
  {
   "cell_type": "code",
   "execution_count": 7,
   "metadata": {},
   "outputs": [
    {
     "name": "stdout",
     "output_type": "stream",
     "text": [
      "['Mês', 'Trecho', 'Estação_Inverno', 'Estação_Outono', 'Estação_Primavera', 'Estação_Verão', 'Sentido_JF', 'Sentido_RJ', 'Trecho macro_Baixada', 'Trecho macro_Planalto', 'Trecho macro_Serra', 'Numero de Pistas_0', 'Numero de Pistas_1', 'Numero de Pistas_2', 'Numero de Pistas_3', 'Numero de Pistas_4', 'Numero de Pistas_5', 'Numero de Pistas_6', 'Numero de Pistas_Desconhecido', 'Numero de Faixas_0', 'Numero de Faixas_1', 'Numero de Faixas_2', 'Numero de Faixas_3', 'Numero de Faixas_4', 'Numero de Faixas_5', 'Numero de Faixas_6', 'Numero de Faixas_7', 'Numero de Faixas_8', 'Numero de Faixas_9', 'Numero de Faixas_Desconhecido', 'Velocidade Maxima_0', 'Velocidade Maxima_100', 'Velocidade Maxima_11', 'Velocidade Maxima_110', 'Velocidade Maxima_119', 'Velocidade Maxima_20', 'Velocidade Maxima_30', 'Velocidade Maxima_40', 'Velocidade Maxima_50', 'Velocidade Maxima_60', 'Velocidade Maxima_70', 'Velocidade Maxima_72', 'Velocidade Maxima_80', 'Velocidade Maxima_90', 'Velocidade Maxima_Desconhecido', 'Floresta_Desconhecido', 'Floresta_não', 'Floresta_sim', 'Faixa de Quilometragem_Entre 0 e 25', 'Faixa de Quilometragem_Entre 100 e 125', 'Faixa de Quilometragem_Entre 25 e 50', 'Faixa de Quilometragem_Entre 50 e 75', 'Faixa de Quilometragem_Entre 75 e 100', 'Faixa de Quilometragem_Entre 750 e 775', 'Faixa de Quilometragem_Entre 775 e 800', 'Faixa de Quilometragem_Entre 800 e 825', 'Faixa de Quilometragem_Entre 825 e 850']\n"
     ]
    }
   ],
   "source": [
    "dadosEncod = pd.get_dummies(dados_filtrados)\n",
    "\n",
    "# dadosEncod['target'] = y\n",
    "\n",
    "dummies_names = []\n",
    "\n",
    "x_codificado = dadosEncod\n",
    "\n",
    "for i in x_codificado:\n",
    "    dummies_names.append(i)\n",
    "    # print(i)\n",
    "    \n",
    "dummies_names.remove(animal)\n",
    "\n",
    "print(dummies_names)"
   ]
  },
  {
   "cell_type": "code",
   "execution_count": 8,
   "metadata": {},
   "outputs": [
    {
     "data": {
      "text/plain": [
       "<BarContainer object of 2 artists>"
      ]
     },
     "execution_count": 8,
     "metadata": {},
     "output_type": "execute_result"
    },
    {
     "data": {
      "image/png": "[encoded data removed]",
      "text/plain": [
       "<Figure size 432x288 with 1 Axes>"
      ]
     },
     "metadata": {
      "needs_background": "light"
     },
     "output_type": "display_data"
    }
   ],
   "source": [
    "from sklearn.model_selection import train_test_split\n",
    "import numpy as np\n",
    "import matplotlib.pyplot as plt\n",
    "\n",
    "dadosTreino, dadosTeste = train_test_split(dadosEncod, test_size = 0.33, random_state = 0)\n",
    "\n",
    "# countTreino = dadosTreino[animal].value_counts()\n",
    "# countTeste = dadosTeste[animal].value_counts()\n",
    "\n",
    "countTreino = dadosTreino[animal].value_counts()\n",
    "countTeste = dadosTeste[animal].value_counts()\n",
    "plt.bar([0, 1], countTreino) \n",
    "plt.bar([0, 1], countTeste) \n",
    "\n"
   ]
  },
  {
   "cell_type": "code",
   "execution_count": 9,
   "metadata": {},
   "outputs": [],
   "source": [
    "treino_y = dadosTreino.pop(animal)\n",
    "treino_x = dadosTreino\n",
    "\n",
    "teste_y = dadosTeste.pop(animal)\n",
    "teste_x = dadosTeste"
   ]
  },
  {
   "cell_type": "markdown",
   "metadata": {},
   "source": [
    "Balanceamento:"
   ]
  },
  {
   "cell_type": "code",
   "execution_count": 10,
   "metadata": {},
   "outputs": [],
   "source": [
    "from imblearn.over_sampling import SMOTE\n",
    "sm = SMOTE(random_state=42)\n",
    "X_res, y_res = sm.fit_resample(treino_x, treino_y)"
   ]
  },
  {
   "cell_type": "markdown",
   "metadata": {},
   "source": [
    "O classificador é inicializado com max depth = 3 e random state = 20. O argumento max depth controla a profundidade máxima da árvore"
   ]
  },
  {
   "cell_type": "code",
   "execution_count": 11,
   "metadata": {},
   "outputs": [],
   "source": [
    "from sklearn.tree import DecisionTreeClassifier\n",
    "\n",
    "modelo = DecisionTreeClassifier(max_depth=4)\n",
    "modelo.fit(X_res, y_res)\n",
    "previsoes = modelo.predict(teste_x)\n"
   ]
  },
  {
   "cell_type": "code",
   "execution_count": 17,
   "metadata": {},
   "outputs": [
    {
     "name": "stdout",
     "output_type": "stream",
     "text": [
      "|--- Estação_Primavera <= 0.50\n",
      "|   |--- Mês <= 2.50\n",
      "|   |   |--- Floresta_sim <= 0.50\n",
      "|   |   |   |--- Velocidade Maxima_90 <= 0.50\n",
      "|   |   |   |   |--- class: 1\n",
      "|   |   |   |--- Velocidade Maxima_90 >  0.50\n",
      "|   |   |   |   |--- class: 0\n",
      "|   |   |--- Floresta_sim >  0.50\n",
      "|   |   |   |--- Trecho <= 3.50\n",
      "|   |   |   |   |--- class: 1\n",
      "|   |   |   |--- Trecho >  3.50\n",
      "|   |   |   |   |--- class: 0\n",
      "|   |--- Mês >  2.50\n",
      "|   |   |--- Mês <= 8.50\n",
      "|   |   |   |--- Mês <= 4.50\n",
      "|   |   |   |   |--- class: 0\n",
      "|   |   |   |--- Mês >  4.50\n",
      "|   |   |   |   |--- class: 0\n",
      "|   |   |--- Mês >  8.50\n",
      "|   |   |   |--- Estação_Inverno <= 0.50\n",
      "|   |   |   |   |--- class: 1\n",
      "|   |   |   |--- Estação_Inverno >  0.50\n",
      "|   |   |   |   |--- class: 0\n",
      "|--- Estação_Primavera >  0.50\n",
      "|   |--- Numero de Pistas_1 <= 0.50\n",
      "|   |   |--- Velocidade Maxima_90 <= 0.50\n",
      "|   |   |   |--- Floresta_sim <= 0.50\n",
      "|   |   |   |   |--- class: 1\n",
      "|   |   |   |--- Floresta_sim >  0.50\n",
      "|   |   |   |   |--- class: 0\n",
      "|   |   |--- Velocidade Maxima_90 >  0.50\n",
      "|   |   |   |--- Faixa de Quilometragem_Entre 50 e 75 <= 0.50\n",
      "|   |   |   |   |--- class: 0\n",
      "|   |   |   |--- Faixa de Quilometragem_Entre 50 e 75 >  0.50\n",
      "|   |   |   |   |--- class: 0\n",
      "|   |--- Numero de Pistas_1 >  0.50\n",
      "|   |   |--- Trecho <= 3.50\n",
      "|   |   |   |--- Mês <= 10.50\n",
      "|   |   |   |   |--- class: 0\n",
      "|   |   |   |--- Mês >  10.50\n",
      "|   |   |   |   |--- class: 1\n",
      "|   |   |--- Trecho >  3.50\n",
      "|   |   |   |--- class: 0\n",
      "\n"
     ]
    }
   ],
   "source": [
    "from sklearn import tree\n",
    "from sklearn.tree import export_text\n",
    "import graphviz\n",
    "\n",
    "# figura, eixos = plt.subplots(nrows=1,ncols=1,figsize=(300,300))\n",
    "# tree.plot_tree(modelo, feature_names=dummies_names, filled = True)\n",
    "\n",
    "false = \"não é \" + animalEscolhido\n",
    "true = \"é \" + animalEscolhido\n",
    "\n",
    "targets = {0: false, 1: true}\n",
    "\n",
    "dot_data = tree.export_graphviz(modelo, out_file=None,\n",
    "                         feature_names=dummies_names,\n",
    "                         class_names=targets,\n",
    "                         filled=True, rounded=True,\n",
    "                         special_characters=True, leaves_parallel=True)\n",
    "graph = graphviz.Source(dot_data)\n",
    "graph.render(animalEscolhido)\n",
    "\n",
    "r = export_text(modelo, feature_names=dummies_names)\n",
    "print(r)"
   ]
  },
  {
   "cell_type": "code",
   "execution_count": 18,
   "metadata": {},
   "outputs": [
    {
     "name": "stdout",
     "output_type": "stream",
     "text": [
      "              precision    recall  f1-score   support\n",
      "\n",
      "           0       1.00      0.74      0.85      4270\n",
      "           1       0.03      0.71      0.06        52\n",
      "\n",
      "    accuracy                           0.74      4322\n",
      "   macro avg       0.51      0.72      0.45      4322\n",
      "weighted avg       0.98      0.74      0.84      4322\n",
      "\n",
      "Matriz de confusão\n"
     ]
    },
    {
     "data": {
      "image/png": "[encoded data removed]",
      "text/plain": [
       "<Figure size 432x288 with 2 Axes>"
      ]
     },
     "metadata": {
      "needs_background": "light"
     },
     "output_type": "display_data"
    },
    {
     "data": {
      "image/png": "[encoded data removed]",
      "text/plain": [
       "<Figure size 432x288 with 2 Axes>"
      ]
     },
     "metadata": {
      "needs_background": "light"
     },
     "output_type": "display_data"
    },
    {
     "data": {
      "image/png": "[encoded data removed]",
      "text/plain": [
       "<Figure size 432x288 with 1 Axes>"
      ]
     },
     "metadata": {
      "needs_background": "light"
     },
     "output_type": "display_data"
    }
   ],
   "source": [
    "from sklearn.metrics import confusion_matrix, ConfusionMatrixDisplay, classification_report\n",
    "import matplotlib.pyplot as plt\n",
    "import seaborn as sns\n",
    "\n",
    "print(classification_report(teste_y, previsoes, zero_division=0))\n",
    "\n",
    "print(\"Matriz de confusão\")\n",
    "matriz_confusaoPorc = confusion_matrix(teste_y, previsoes, normalize = 'true')\n",
    "matrizPorc = ConfusionMatrixDisplay(matriz_confusaoPorc)\n",
    "matrizPorc.plot()\n",
    "\n",
    "matriz_confusao = confusion_matrix(teste_y, previsoes)\n",
    "matriz = ConfusionMatrixDisplay(matriz_confusao)\n",
    "matriz.plot()\n",
    "plt.show()\n",
    "\n",
    "def plot_roc_curve(fper, tper):\n",
    "    plt.plot(fper, tper, color='red', label='ROC')\n",
    "    plt.plot([0, 1], [0, 1], color='green', linestyle='--')\n",
    "    plt.xlabel('False Positive Rate')\n",
    "    plt.ylabel('True Positive Rate')\n",
    "    plt.title('Receiver Operating Characteristic Curve')\n",
    "    plt.legend()\n",
    "    plt.show()\n",
    "    \n",
    "from sklearn.metrics import roc_curve\n",
    "\n",
    "TargetVarScore = modelo.predict_proba(teste_x)\n",
    "fper, tper, thresholds = roc_curve(teste_y, TargetVarScore[:, 1])\n",
    "plot_roc_curve(fper, tper)"
   ]
  },
  {
   "cell_type": "markdown",
   "metadata": {},
   "source": [
    "Obtendo regras de forma mais legível"
   ]
  },
  {
   "cell_type": "code",
   "execution_count": 19,
   "metadata": {},
   "outputs": [],
   "source": [
    "from sklearn.tree import _tree\n",
    "\n",
    "def get_rules(tree, feature_names, class_names):\n",
    "    tree_ = tree.tree_\n",
    "    feature_name = [\n",
    "        feature_names[i] if i != _tree.TREE_UNDEFINED else \"undefined!\"\n",
    "        for i in tree_.feature\n",
    "    ]\n",
    "\n",
    "    paths = []\n",
    "    path = []\n",
    "    \n",
    "    def recurse(node, path, paths):\n",
    "        \n",
    "        if tree_.feature[node] != _tree.TREE_UNDEFINED:\n",
    "            name = feature_name[node]\n",
    "            threshold = tree_.threshold[node]\n",
    "            p1, p2 = list(path), list(path)\n",
    "            p1 += [f\"({name} <= {np.round(threshold, 3)})\"]\n",
    "            recurse(tree_.children_left[node], p1, paths)\n",
    "            p2 += [f\"({name} > {np.round(threshold, 3)})\"]\n",
    "            recurse(tree_.children_right[node], p2, paths)\n",
    "        else:\n",
    "            path += [(tree_.value[node], tree_.n_node_samples[node])]\n",
    "            paths += [path]\n",
    "            \n",
    "    recurse(0, path, paths)\n",
    "\n",
    "    # sort by samples count\n",
    "    samples_count = [p[-1][1] for p in paths]\n",
    "    ii = list(np.argsort(samples_count))\n",
    "    paths = [paths[i] for i in reversed(ii)]\n",
    "    \n",
    "    rules = []\n",
    "    for path in paths:\n",
    "        rule = \"if \"\n",
    "        \n",
    "        for p in path[:-1]:\n",
    "            if rule != \"if \":\n",
    "                rule += \" and \"\n",
    "            rule += str(p)\n",
    "        rule += \" then \"\n",
    "        if class_names is None:\n",
    "            rule += \"response: \"+str(np.round(path[-1][0][0][0],3))\n",
    "        else:\n",
    "            classes = path[-1][0][0]\n",
    "            l = np.argmax(classes)\n",
    "            rule += f\"class: {class_names[l]} (proba: {np.round(100.0*classes[l]/np.sum(classes),2)}%)\"\n",
    "        rule += f\" | based on {path[-1][1]:,} samples\"\n",
    "        rules += [rule]\n",
    "        \n",
    "    return rules"
   ]
  },
  {
   "cell_type": "code",
   "execution_count": 20,
   "metadata": {},
   "outputs": [
    {
     "name": "stdout",
     "output_type": "stream",
     "text": [
      "if (Estação_Primavera = true) and (Numero de Pistas_1 = false) and (Velocidade Maxima_90 = false) and (Floresta_sim = false) then class: é rã-manteiga (proba: 82.3%) | based on 6,519 samples\n",
      "if (Estação_Primavera = false) and (Mês <= 2.5) and (Floresta_sim = false) and (Velocidade Maxima_90 = false) then class: é rã-manteiga (proba: 73.19%) | based on 3,130 samples\n",
      "if (Estação_Primavera = false) and (Mês > 2.5) and (Mês <= 8.5) and (Mês > 4.5) then class: não é rã-manteiga (proba: 99.01%) | based on 2,628 samples\n",
      "if (Estação_Primavera = false) and (Mês > 2.5) and (Mês <= 8.5) and (Mês <= 4.5) then class: não é rã-manteiga (proba: 90.53%) | based on 1,531 samples\n",
      "if (Estação_Primavera = false) and (Mês > 2.5) and (Mês > 8.5) and (Estação_Inverno = true) then class: não é rã-manteiga (proba: 94.4%) | based on 536 samples\n",
      "if (Estação_Primavera = true) and (Numero de Pistas_1 = true) and (Trecho > 3.5) then class: não é rã-manteiga (proba: 100.0%) | based on 513 samples\n",
      "if (Estação_Primavera = false) and (Mês > 2.5) and (Mês > 8.5) and (Estação_Inverno = false) then class: é rã-manteiga (proba: 63.55%) | based on 502 samples\n",
      "if (Estação_Primavera = false) and (Mês <= 2.5) and (Floresta_sim = true) and (Trecho > 3.5) then class: não é rã-manteiga (proba: 99.79%) | based on 474 samples\n",
      "if (Estação_Primavera = true) and (Numero de Pistas_1 = false) and (Velocidade Maxima_90 = true) and (Faixa de Quilometragem_Entre 50 e 75 = false) then class: não é rã-manteiga (proba: 58.0%) | based on 469 samples\n",
      "if (Estação_Primavera = true) and (Numero de Pistas_1 = false) and (Velocidade Maxima_90 = false) and (Floresta_sim = true) then class: não é rã-manteiga (proba: 71.48%) | based on 284 samples\n",
      "if (Estação_Primavera = false) and (Mês <= 2.5) and (Floresta_sim = false) and (Velocidade Maxima_90 = true) then class: não é rã-manteiga (proba: 88.16%) | based on 245 samples\n",
      "if (Estação_Primavera = false) and (Mês <= 2.5) and (Floresta_sim = true) and (Trecho <= 3.5) then class: é rã-manteiga (proba: 64.24%) | based on 151 samples\n",
      "if (Estação_Primavera = true) and (Numero de Pistas_1 = false) and (Velocidade Maxima_90 = true) and (Faixa de Quilometragem_Entre 50 e 75 = true) then class: não é rã-manteiga (proba: 100.0%) | based on 131 samples\n",
      "if (Estação_Primavera = true) and (Numero de Pistas_1 = true) and (Trecho <= 3.5) and (Mês > 10.5) then class: é rã-manteiga (proba: 55.17%) | based on 116 samples\n",
      "if (Estação_Primavera = true) and (Numero de Pistas_1 = true) and (Trecho <= 3.5) and (Mês <= 10.5) then class: não é rã-manteiga (proba: 100.0%) | based on 61 samples\n"
     ]
    }
   ],
   "source": [
    "rules = get_rules(modelo, dummies_names, targets)\n",
    "\n",
    "# > 0.5 = true\n",
    "# <= 0.5 = false\n",
    "\n",
    "for r in rules:\n",
    "    str(r)\n",
    "    new_r = r.replace('> 0.5', \"= true\").replace('<= 0.5', \"= false\")\n",
    "    print(new_r)"
   ]
  }
 ],
 "metadata": {
  "interpreter": {
   "hash": "e4f2e29d4792ba744ec37cfe5d9e06cb1682524f233fc37b58180c94e420ae9c"
  },
  "kernelspec": {
   "display_name": "Python 3.9.12 ('base')",
   "language": "python",
   "name": "python3"
  },
  "language_info": {
   "codemirror_mode": {
    "name": "ipython",
    "version": 3
   },
   "file_extension": ".py",
   "mimetype": "text/x-python",
   "name": "python",
   "nbconvert_exporter": "python",
   "pygments_lexer": "ipython3",
   "version": "3.9.12"
  },
  "orig_nbformat": 4
 },
 "nbformat": 4,
 "nbformat_minor": 2
}
