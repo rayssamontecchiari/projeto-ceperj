{
 "cells": [
  {
   "cell_type": "code",
   "execution_count": 183,
   "metadata": {},
   "outputs": [
    {
     "data": {
      "text/html": [
       "<div>\n",
       "<style scoped>\n",
       "    .dataframe tbody tr th:only-of-type {\n",
       "        vertical-align: middle;\n",
       "    }\n",
       "\n",
       "    .dataframe tbody tr th {\n",
       "        vertical-align: top;\n",
       "    }\n",
       "\n",
       "    .dataframe thead th {\n",
       "        text-align: right;\n",
       "    }\n",
       "</style>\n",
       "<table border=\"1\" class=\"dataframe\">\n",
       "  <thead>\n",
       "    <tr style=\"text-align: right;\">\n",
       "      <th></th>\n",
       "      <th>Mes</th>\n",
       "      <th>Estacao</th>\n",
       "      <th>Trecho</th>\n",
       "      <th>Sentido</th>\n",
       "      <th>Trecho macro</th>\n",
       "      <th>Tipo De Pistas</th>\n",
       "      <th>Numero de Pistas</th>\n",
       "      <th>Tipo de Pavimento</th>\n",
       "      <th>Numero de Faixas</th>\n",
       "      <th>Velocidade Maxima</th>\n",
       "      <th>...</th>\n",
       "      <th>Agua?</th>\n",
       "      <th>Vegetacao Baixa?</th>\n",
       "      <th>capimAlto</th>\n",
       "      <th>Arbustos</th>\n",
       "      <th>Floresta</th>\n",
       "      <th>Local</th>\n",
       "      <th>Com filhotes?</th>\n",
       "      <th>Faixa Horario da Coleta</th>\n",
       "      <th>Faixa de Quilometragem</th>\n",
       "      <th>anfibio mais atropelado?</th>\n",
       "    </tr>\n",
       "  </thead>\n",
       "  <tbody>\n",
       "    <tr>\n",
       "      <th>0</th>\n",
       "      <td>4</td>\n",
       "      <td>Outono</td>\n",
       "      <td>2</td>\n",
       "      <td>JF</td>\n",
       "      <td>Baixada</td>\n",
       "      <td>Sem divisão</td>\n",
       "      <td>1</td>\n",
       "      <td>Pavimento flexível (asfalto)</td>\n",
       "      <td>4</td>\n",
       "      <td>110</td>\n",
       "      <td>...</td>\n",
       "      <td>sim</td>\n",
       "      <td>Desconhecido</td>\n",
       "      <td>Desconhecido</td>\n",
       "      <td>Desconhecido</td>\n",
       "      <td>Desconhecido</td>\n",
       "      <td>Pista de rolamento</td>\n",
       "      <td>Desconhecido</td>\n",
       "      <td>Entre 00 e 06</td>\n",
       "      <td>Entre 100 e 125</td>\n",
       "      <td>0</td>\n",
       "    </tr>\n",
       "    <tr>\n",
       "      <th>1</th>\n",
       "      <td>4</td>\n",
       "      <td>Outono</td>\n",
       "      <td>4</td>\n",
       "      <td>JF</td>\n",
       "      <td>Serra</td>\n",
       "      <td>Sem divisão</td>\n",
       "      <td>1</td>\n",
       "      <td>Pavimento rígido</td>\n",
       "      <td>2</td>\n",
       "      <td>60</td>\n",
       "      <td>...</td>\n",
       "      <td>sim</td>\n",
       "      <td>Desconhecido</td>\n",
       "      <td>Desconhecido</td>\n",
       "      <td>Desconhecido</td>\n",
       "      <td>Desconhecido</td>\n",
       "      <td>Pista de rolamento</td>\n",
       "      <td>Desconhecido</td>\n",
       "      <td>Entre 06 e 12</td>\n",
       "      <td>Entre 75 e 100</td>\n",
       "      <td>0</td>\n",
       "    </tr>\n",
       "    <tr>\n",
       "      <th>2</th>\n",
       "      <td>5</td>\n",
       "      <td>Outono</td>\n",
       "      <td>5</td>\n",
       "      <td>JF</td>\n",
       "      <td>Serra</td>\n",
       "      <td>Sem divisão</td>\n",
       "      <td>1</td>\n",
       "      <td>Pavimento semi-flexível</td>\n",
       "      <td>2</td>\n",
       "      <td>60</td>\n",
       "      <td>...</td>\n",
       "      <td>sim</td>\n",
       "      <td>Desconhecido</td>\n",
       "      <td>Desconhecido</td>\n",
       "      <td>Desconhecido</td>\n",
       "      <td>Desconhecido</td>\n",
       "      <td>Desconhecido</td>\n",
       "      <td>Desconhecido</td>\n",
       "      <td>Entre 12 e 18</td>\n",
       "      <td>Entre 75 e 100</td>\n",
       "      <td>0</td>\n",
       "    </tr>\n",
       "    <tr>\n",
       "      <th>3</th>\n",
       "      <td>6</td>\n",
       "      <td>Outono</td>\n",
       "      <td>7</td>\n",
       "      <td>RJ</td>\n",
       "      <td>Planalto</td>\n",
       "      <td>Defensa Metálica</td>\n",
       "      <td>2</td>\n",
       "      <td>Pavimento flexível (asfalto)</td>\n",
       "      <td>4</td>\n",
       "      <td>60</td>\n",
       "      <td>...</td>\n",
       "      <td>sim</td>\n",
       "      <td>Desconhecido</td>\n",
       "      <td>Desconhecido</td>\n",
       "      <td>Desconhecido</td>\n",
       "      <td>Desconhecido</td>\n",
       "      <td>Acostamento</td>\n",
       "      <td>Desconhecido</td>\n",
       "      <td>Entre 06 e 12</td>\n",
       "      <td>Entre 50 e 75</td>\n",
       "      <td>0</td>\n",
       "    </tr>\n",
       "    <tr>\n",
       "      <th>4</th>\n",
       "      <td>6</td>\n",
       "      <td>Outono</td>\n",
       "      <td>3</td>\n",
       "      <td>RJ</td>\n",
       "      <td>Serra</td>\n",
       "      <td>Defensa Metálica</td>\n",
       "      <td>2</td>\n",
       "      <td>Pavimento flexível (asfalto)</td>\n",
       "      <td>4</td>\n",
       "      <td>80</td>\n",
       "      <td>...</td>\n",
       "      <td>não</td>\n",
       "      <td>Desconhecido</td>\n",
       "      <td>Desconhecido</td>\n",
       "      <td>Desconhecido</td>\n",
       "      <td>Desconhecido</td>\n",
       "      <td>Acesso/ Retorno</td>\n",
       "      <td>Desconhecido</td>\n",
       "      <td>Entre 12 e 18</td>\n",
       "      <td>Entre 100 e 125</td>\n",
       "      <td>0</td>\n",
       "    </tr>\n",
       "  </tbody>\n",
       "</table>\n",
       "<p>5 rows × 23 columns</p>\n",
       "</div>"
      ],
      "text/plain": [
       "   Mes Estacao  Trecho Sentido Trecho macro    Tipo De Pistas  \\\n",
       "0    4  Outono       2      JF      Baixada       Sem divisão   \n",
       "1    4  Outono       4      JF        Serra       Sem divisão   \n",
       "2    5  Outono       5      JF        Serra       Sem divisão   \n",
       "3    6  Outono       7      RJ     Planalto  Defensa Metálica   \n",
       "4    6  Outono       3      RJ        Serra  Defensa Metálica   \n",
       "\n",
       "  Numero de Pistas             Tipo de Pavimento Numero de Faixas  \\\n",
       "0                1  Pavimento flexível (asfalto)                4   \n",
       "1                1              Pavimento rígido                2   \n",
       "2                1       Pavimento semi-flexível                2   \n",
       "3                2  Pavimento flexível (asfalto)                4   \n",
       "4                2  Pavimento flexível (asfalto)                4   \n",
       "\n",
       "  Velocidade Maxima  ... Agua? Vegetacao Baixa?     capimAlto      Arbustos  \\\n",
       "0               110  ...   sim     Desconhecido  Desconhecido  Desconhecido   \n",
       "1                60  ...   sim     Desconhecido  Desconhecido  Desconhecido   \n",
       "2                60  ...   sim     Desconhecido  Desconhecido  Desconhecido   \n",
       "3                60  ...   sim     Desconhecido  Desconhecido  Desconhecido   \n",
       "4                80  ...   não     Desconhecido  Desconhecido  Desconhecido   \n",
       "\n",
       "       Floresta               Local Com filhotes? Faixa Horario da Coleta  \\\n",
       "0  Desconhecido  Pista de rolamento  Desconhecido           Entre 00 e 06   \n",
       "1  Desconhecido  Pista de rolamento  Desconhecido           Entre 06 e 12   \n",
       "2  Desconhecido        Desconhecido  Desconhecido           Entre 12 e 18   \n",
       "3  Desconhecido         Acostamento  Desconhecido           Entre 06 e 12   \n",
       "4  Desconhecido     Acesso/ Retorno  Desconhecido           Entre 12 e 18   \n",
       "\n",
       "  Faixa de Quilometragem anfibio mais atropelado?  \n",
       "0        Entre 100 e 125                        0  \n",
       "1         Entre 75 e 100                        0  \n",
       "2         Entre 75 e 100                        0  \n",
       "3          Entre 50 e 75                        0  \n",
       "4        Entre 100 e 125                        0  \n",
       "\n",
       "[5 rows x 23 columns]"
      ]
     },
     "execution_count": 183,
     "metadata": {},
     "output_type": "execute_result"
    }
   ],
   "source": [
    "import pandas as pd\n",
    "\n",
    "# seleciona os dados do arquivos\n",
    "# data frame (df) - molde de dados\n",
    "dados = pd.read_csv('CSV_Anfibios_Cortada.csv')\n",
    "dados.head()"
   ]
  },
  {
   "cell_type": "code",
   "execution_count": 184,
   "metadata": {},
   "outputs": [],
   "source": [
    "Y_df = dados['anfibio mais atropelado?']  \n",
    "X_df = dados[[\"Mes\", \"Estacao\", \n",
    "              \"Trecho\", \"Sentido\", \"Trecho macro\",\n",
    "              \"Tipo De Pistas\", \"Numero de Pistas\",\n",
    "              \"Tipo de Pavimento\", \"Numero de Faixas\",\n",
    "              \"Velocidade Maxima\", \"Tipo da Chuva\",\"Intervencao\",\n",
    "              \"Vazamento\", \"Agua?\", \"Vegetacao Baixa?\",\"capimAlto\",\n",
    "              \"Arbustos\",\"Floresta\",\"Local\",\"Com filhotes?\",\n",
    "              \"Faixa Horario da Coleta\",\"Faixa de Quilometragem\"]]\n",
    "\n",
    "atributos = [\"Mes\", \"Estacao\", \n",
    "              \"Trecho\", \"Sentido\", \"Trecho macro\",\n",
    "              \"Tipo De Pistas\", \"Numero de Pistas\",\n",
    "              \"Tipo de Pavimento\", \"Numero de Faixas\",\n",
    "              \"Velocidade Maxima\", \"Tipo da Chuva\",\"Intervencao\",\n",
    "              \"Vazamento\", \"Agua?\", \"Vegetacao Baixa?\",\"capimAlto\",\n",
    "              \"Arbustos\",\"Floresta\",\"Local\",\"Com filhotes?\",\n",
    "              \"Faixa Horario da Coleta\",\"Faixa de Quilometragem\"]\n",
    "\n",
    "valores = []\n",
    "\n",
    "for i in X_df:\n",
    "    auxi = X_df[i].unique()\n",
    "    valores.append(auxi)\n",
    "    "
   ]
  },
  {
   "cell_type": "markdown",
   "metadata": {},
   "source": [
    "Como nossas variáveis são majoritariamente categóricas, vamos criar uma versão numérica delas."
   ]
  },
  {
   "cell_type": "code",
   "execution_count": 185,
   "metadata": {},
   "outputs": [
    {
     "name": "stdout",
     "output_type": "stream",
     "text": [
      "x: (13096, 22)\n",
      "y (13096, 2)\n"
     ]
    }
   ],
   "source": [
    "from sklearn import preprocessing\n",
    "import numpy as np\n",
    "from sklearn.preprocessing import LabelEncoder\n",
    "\n",
    "\n",
    "X_encoded = X_df.apply(LabelEncoder().fit_transform)\n",
    "X = X_encoded.values\n",
    "print(\"x:\", X.shape)\n",
    "\n",
    "lb = preprocessing.LabelBinarizer()\n",
    "y_ = lb.fit_transform(Y_df)\n",
    "\n",
    "if y_.shape[1] == 1:\n",
    "    y_ = np.concatenate((1 - y_, y_), axis=1)\n",
    "\n",
    "\n",
    "print(\"y\", y_.shape)"
   ]
  },
  {
   "cell_type": "markdown",
   "metadata": {},
   "source": [
    "Dividir em treino e teste"
   ]
  },
  {
   "cell_type": "code",
   "execution_count": 186,
   "metadata": {},
   "outputs": [],
   "source": [
    "import numpy as np\n",
    "from sklearn.model_selection import train_test_split\n",
    "\n",
    "SEED = 5\n",
    "np.random.seed(SEED)\n",
    "treino_x, teste_x, treino_y, teste_y = train_test_split(X, Y_df, test_size = 0.33,\n",
    "                                                         stratify = Y_df)"
   ]
  },
  {
   "cell_type": "code",
   "execution_count": 187,
   "metadata": {},
   "outputs": [],
   "source": [
    "from sklearn.naive_bayes import MultinomialNB\n",
    "\n",
    "multinomial = MultinomialNB ()\n",
    "\n",
    "multinomial.fit(treino_x, treino_y)\n",
    "    \n",
    "# testa modelo\n",
    "y_predict = multinomial.predict(teste_x) # Pega as previsoes do modelo para os valores X de teste\n",
    "y_true = teste_y\n"
   ]
  },
  {
   "cell_type": "code",
   "execution_count": 188,
   "metadata": {},
   "outputs": [
    {
     "name": "stdout",
     "output_type": "stream",
     "text": [
      "              precision    recall  f1-score   support\n",
      "\n",
      "           0       0.99      0.99      0.99      4262\n",
      "           1       0.13      0.13      0.13        60\n",
      "\n",
      "    accuracy                           0.98      4322\n",
      "   macro avg       0.56      0.56      0.56      4322\n",
      "weighted avg       0.98      0.98      0.98      4322\n",
      "\n",
      "Matriz de confusão\n"
     ]
    },
    {
     "data": {
      "image/png": "[encoded data removed]",
      "text/plain": [
       "<Figure size 432x288 with 2 Axes>"
      ]
     },
     "metadata": {
      "needs_background": "light"
     },
     "output_type": "display_data"
    }
   ],
   "source": [
    "from sklearn.metrics import confusion_matrix, ConfusionMatrixDisplay, classification_report\n",
    "import matplotlib.pyplot as plt\n",
    "import seaborn as sns\n",
    "\n",
    "print(classification_report(teste_y, y_predict))\n",
    "\n",
    "print(\"Matriz de confusão\")\n",
    "matriz_confusao = confusion_matrix(y_true, y_predict)\n",
    "matriz = ConfusionMatrixDisplay(matriz_confusao)\n",
    "matriz.plot()\n",
    "plt.show()\n",
    "\n"
   ]
  },
  {
   "cell_type": "markdown",
   "metadata": {},
   "source": [
    "Recall: De todas as classes positivas, quantas instâncias foram identificadas corretamente."
   ]
  },
  {
   "cell_type": "code",
   "execution_count": 189,
   "metadata": {},
   "outputs": [],
   "source": [
    "def plot_roc_curve(fper, tper):\n",
    "    plt.plot(fper, tper, color='red', label='ROC')\n",
    "    plt.plot([0, 1], [0, 1], color='green', linestyle='--')\n",
    "    plt.xlabel('False Positive Rate')\n",
    "    plt.ylabel('True Positive Rate')\n",
    "    plt.title('Receiver Operating Characteristic Curve')\n",
    "    plt.legend()\n",
    "    plt.show()"
   ]
  },
  {
   "cell_type": "code",
   "execution_count": 190,
   "metadata": {},
   "outputs": [
    {
     "data": {
      "image/png": "[encoded data removed]",
      "text/plain": [
       "<Figure size 432x288 with 1 Axes>"
      ]
     },
     "metadata": {
      "needs_background": "light"
     },
     "output_type": "display_data"
    }
   ],
   "source": [
    "from sklearn.metrics import roc_curve\n",
    "\n",
    "TargetVarScore = multinomial.predict_proba(teste_x)\n",
    "fper, tper, thresholds = roc_curve(teste_y, TargetVarScore[:, 1])\n",
    "plot_roc_curve(fper, tper)"
   ]
  },
  {
   "cell_type": "markdown",
   "metadata": {},
   "source": [
    "Balanceando utilizando SMOTE. Primeiramente, vamos acrescentar registros que tenham a classe minoritária."
   ]
  },
  {
   "cell_type": "code",
   "execution_count": 191,
   "metadata": {},
   "outputs": [
    {
     "name": "stdout",
     "output_type": "stream",
     "text": [
      "Antes do balanceamento, contagem de '1': 121\n",
      "Antes do balanceamento, contagem de '0': 8653 \n",
      "\n",
      "Depois do balanceamento, dimensão de treino_X: (17306, 22)\n",
      "Depois do balanceamento, dimensão de treino_y: (17306,) \n",
      "\n",
      "Depois do balanceamento, contagem de '1': 8653\n",
      "Depois do balanceamento, contagem de '0': 8653\n"
     ]
    }
   ],
   "source": [
    "from imblearn.over_sampling import SMOTE\n",
    "sm = SMOTE(random_state=42)\n",
    "X_res, y_res = sm.fit_resample(treino_x, treino_y)\n",
    "\n",
    "print(\"Antes do balanceamento, contagem de '1': {}\".format(sum(treino_y == 1)))\n",
    "print(\"Antes do balanceamento, contagem de '0': {} \\n\".format(sum(treino_y == 0)))\n",
    "\n",
    "print('Depois do balanceamento, dimensão de treino_X: {}'.format(X_res.shape))\n",
    "print('Depois do balanceamento, dimensão de treino_y: {} \\n'.format(y_res.shape))\n",
    "  \n",
    "print(\"Depois do balanceamento, contagem de '1': {}\".format(sum(y_res == 1)))\n",
    "print(\"Depois do balanceamento, contagem de '0': {}\".format(sum(y_res == 0)))"
   ]
  },
  {
   "cell_type": "code",
   "execution_count": 192,
   "metadata": {},
   "outputs": [
    {
     "name": "stdout",
     "output_type": "stream",
     "text": [
      "Matriz de confusão\n"
     ]
    },
    {
     "data": {
      "image/png": "[encoded data removed]",
      "text/plain": [
       "<Figure size 432x288 with 2 Axes>"
      ]
     },
     "metadata": {
      "needs_background": "light"
     },
     "output_type": "display_data"
    },
    {
     "name": "stdout",
     "output_type": "stream",
     "text": [
      "              precision    recall  f1-score   support\n",
      "\n",
      "           0       0.99      0.62      0.76      4262\n",
      "           1       0.03      0.73      0.05        60\n",
      "\n",
      "    accuracy                           0.62      4322\n",
      "   macro avg       0.51      0.68      0.41      4322\n",
      "weighted avg       0.98      0.62      0.75      4322\n",
      "\n"
     ]
    }
   ],
   "source": [
    "multinomialBalanced = MultinomialNB()\n",
    "\n",
    "# treina o modelo com os dados balanceados\n",
    "multinomialBalanced.fit(X_res, y_res )\n",
    "\n",
    "# testa model\n",
    "y_predict = multinomialBalanced.predict(teste_x) # Pega as previsoes do modelo para os valores X de teste\n",
    "y_true = teste_y\n",
    "\n",
    "print(\"Matriz de confusão\")\n",
    "matriz_confusao = confusion_matrix(y_true, y_predict)\n",
    "matriz = ConfusionMatrixDisplay(matriz_confusao)\n",
    "matriz.plot()\n",
    "plt.show()\n",
    "\n",
    "print(classification_report(teste_y, y_predict))\n"
   ]
  },
  {
   "cell_type": "code",
   "execution_count": 193,
   "metadata": {},
   "outputs": [
    {
     "data": {
      "image/png": "[encoded data removed]",
      "text/plain": [
       "<Figure size 432x288 with 1 Axes>"
      ]
     },
     "metadata": {
      "needs_background": "light"
     },
     "output_type": "display_data"
    }
   ],
   "source": [
    "\n",
    "from sklearn.metrics import roc_curve\n",
    "\n",
    "TargetVarScore = multinomial.predict_proba(teste_x)\n",
    "fper, tper, thresholds = roc_curve(y_true, TargetVarScore[:, 1])\n",
    "plot_roc_curve(fper, tper)"
   ]
  },
  {
   "cell_type": "markdown",
   "metadata": {},
   "source": [
    "\n",
    "Agora queremos obter os resultados de fato, isso é a influencia de cada atributo na classe final."
   ]
  },
  {
   "cell_type": "code",
   "execution_count": 194,
   "metadata": {},
   "outputs": [
    {
     "name": "stdout",
     "output_type": "stream",
     "text": [
      "(13096, 2)\n",
      "(2, 22)\n",
      "                  Atributos  Probabilidade de ser 1  Probabilidade de ser 0\n",
      "0                       Mes                0.125364                0.095501\n",
      "1                   Estacao                0.038730                0.026847\n",
      "2                    Trecho                0.160454                0.140150\n",
      "3                   Sentido                0.007571                0.008365\n",
      "4              Trecho macro                0.018928                0.022058\n",
      "5            Tipo De Pistas                0.090565                0.097201\n",
      "6          Numero de Pistas                0.038439                0.031034\n",
      "7         Tipo de Pavimento                0.035527                0.034996\n",
      "8          Numero de Faixas                0.068433                0.059765\n",
      "9         Velocidade Maxima                0.103524                0.122671\n",
      "10            Tipo da Chuva                0.048923                0.049887\n",
      "11              Intervencao                0.017909                0.018328\n",
      "12                Vazamento                0.018783                0.018562\n",
      "13                    Agua?                0.024607                0.023485\n",
      "14         Vegetacao Baixa?                0.025917                0.021827\n",
      "15                capimAlto                0.021112                0.017931\n",
      "16                 Arbustos                0.020967                0.020356\n",
      "17                 Floresta                0.018055                0.019963\n",
      "18                    Local                0.037711                0.077430\n",
      "19            Com filhotes?                0.015579                0.014767\n",
      "20  Faixa Horario da Coleta                0.020676                0.021729\n",
      "21   Faixa de Quilometragem                0.042225                0.057146\n"
     ]
    }
   ],
   "source": [
    "y_proba = multinomial.predict_proba(X)\n",
    "print(y_proba.shape)\n",
    "\n",
    "y_prob = multinomial.feature_log_prob_\n",
    "print(y_prob.shape)\n",
    "\n",
    "classe0 = []\n",
    "for i in y_prob[0]:\n",
    "    prob = np.exp(i)\n",
    "    classe0.append(prob)\n",
    "\n",
    "classe1 = []\n",
    "for i in y_prob[1]:\n",
    "    prob = np.exp(i)\n",
    "    classe1.append(prob)\n",
    "    \n",
    "resultados_df = pd.DataFrame()\n",
    "\n",
    "resultados_df['Atributos'] = atributos\n",
    "# resultados_df['Valores'] = valores\n",
    "resultados_df['Probabilidade de ser 1'] = classe1\n",
    "resultados_df['Probabilidade de ser 0'] = classe0\n",
    "\n",
    "print(resultados_df)\n",
    "\n"
   ]
  },
  {
   "cell_type": "code",
   "execution_count": 195,
   "metadata": {},
   "outputs": [
    {
     "name": "stdout",
     "output_type": "stream",
     "text": [
      "1. Faixa de Quilometragem (0.002545)\n",
      "2. Mes (0.001666)\n",
      "3. Local (0.000463)\n",
      "4. Sentido (0.000278)\n",
      "5. Floresta (0.000139)\n",
      "6. Arbustos (0.000046)\n",
      "7. Tipo da Chuva (0.000046)\n",
      "8. Vazamento (0.000046)\n",
      "9. Intervencao (0.000000)\n",
      "10. Faixa Horario da Coleta (0.000000)\n",
      "11. Agua? (-0.000046)\n",
      "12. Tipo de Pavimento (-0.000046)\n",
      "13. Com filhotes? (-0.000046)\n",
      "14. capimAlto (-0.000278)\n",
      "15. Tipo De Pistas (-0.000370)\n",
      "16. Trecho macro (-0.000602)\n",
      "17. Numero de Pistas (-0.000648)\n",
      "18. Estacao (-0.000740)\n",
      "19. Vegetacao Baixa? (-0.001527)\n",
      "20. Numero de Faixas (-0.001990)\n",
      "21. Trecho (-0.002591)\n",
      "22. Velocidade Maxima (-0.004026)\n"
     ]
    },
    {
     "data": {
      "image/png": "[encoded data removed]",
      "text/plain": [
       "<Figure size 720x504 with 1 Axes>"
      ]
     },
     "metadata": {
      "needs_background": "light"
     },
     "output_type": "display_data"
    },
    {
     "name": "stdout",
     "output_type": "stream",
     "text": [
      "Matriz de correlação:\n"
     ]
    },
    {
     "data": {
      "image/png": "[encoded data removed]",
      "text/plain": [
       "<Figure size 432x288 with 2 Axes>"
      ]
     },
     "metadata": {
      "needs_background": "light"
     },
     "output_type": "display_data"
    }
   ],
   "source": [
    "from sklearn.inspection import permutation_importance\n",
    "\n",
    "imps = permutation_importance(multinomial, teste_x, teste_y)\n",
    "importances = imps.importances_mean\n",
    "std = imps.importances_std\n",
    "indices = np.argsort(importances)[::-1]\n",
    "\n",
    "for f in range(teste_x.shape[1]):\n",
    "    print(\"%d. %s (%f)\" % (f + 1, atributos[indices[f]], importances[indices[f]]))\n",
    "    \n",
    "plt.figure(figsize=(10, 7))\n",
    "plt.title(\"Feature importances\")\n",
    "plt.bar(range(teste_x.shape[1]), importances[indices], color=\"r\", yerr=std[indices], align=\"center\")\n",
    "# plt.xticks(range(teste_x.shape[1]), [features[indices[i]] for i in range(6)])\n",
    "plt.xlim([-1, teste_x.shape[1]])\n",
    "plt.show()\n",
    "\n",
    "\n",
    "print(\"Matriz de correlação:\")\n",
    "mask = np.triu(np.ones_like(X_encoded.corr()))\n",
    "sns.heatmap(X_encoded.corr(),\n",
    "            mask=mask,\n",
    "            cmap='Blues')\n",
    "plt.title('Correlação entre variáveis do dataset')\n",
    "plt.show()\n"
   ]
  },
  {
   "cell_type": "markdown",
   "metadata": {},
   "source": [
    "Vamos selecionar aqui as melhores features de acordo com o algoritmo SelectKBest:"
   ]
  },
  {
   "cell_type": "code",
   "execution_count": 196,
   "metadata": {},
   "outputs": [
    {
     "name": "stdout",
     "output_type": "stream",
     "text": [
      "os atributos escolhidos foram:\n",
      "Mes\n",
      "Estacao\n",
      "Trecho\n",
      "Trecho macro\n",
      "Tipo De Pistas\n",
      "Numero de Pistas\n",
      "Numero de Faixas\n",
      "Velocidade Maxima\n",
      "Local\n",
      "Faixa de Quilometragem\n"
     ]
    }
   ],
   "source": [
    "from sklearn.feature_selection import SelectKBest, chi2\n",
    "\n",
    "sel_chi2 = SelectKBest(chi2, k=10)    # seleciona 10 features\n",
    "X_train_chi2 = sel_chi2.fit_transform(X, Y_df)\n",
    "# print(sel_chi2.get_support(indices=True))\n",
    "\n",
    "print(\"os atributos escolhidos foram:\")\n",
    "for j in sel_chi2.get_support(indices=True):\n",
    "    print(atributos[j])\n",
    "        \n",
    "\n",
    "# print(X_train_chi2.shape)\n",
    "\n",
    "novoDf = pd.DataFrame(X_train_chi2, Y_df).reset_index()\n",
    "novoDf.columns = ['target', 0,1,2,3,4,5,6,7,8,9]\n",
    "\n",
    "novoX = novoDf[[0,1,2,3,4,5,6,7,8,9]]\n",
    "novoY = novoDf[\"target\"]\n",
    "\n",
    "\n",
    "# novoDf.head()"
   ]
  },
  {
   "cell_type": "code",
   "execution_count": 197,
   "metadata": {},
   "outputs": [],
   "source": [
    "SEED = 20\n",
    "np.random.seed(SEED)\n",
    "treino_x, teste_x, treino_y, teste_y = train_test_split(novoX, novoY, test_size = 0.33,\n",
    "                                                         stratify = Y_df)"
   ]
  },
  {
   "cell_type": "code",
   "execution_count": 198,
   "metadata": {},
   "outputs": [
    {
     "name": "stdout",
     "output_type": "stream",
     "text": [
      "              precision    recall  f1-score   support\n",
      "\n",
      "           0       0.99      0.98      0.98      4262\n",
      "           1       0.12      0.20      0.15        60\n",
      "\n",
      "    accuracy                           0.97      4322\n",
      "   macro avg       0.55      0.59      0.57      4322\n",
      "weighted avg       0.98      0.97      0.97      4322\n",
      "\n",
      "Matriz de confusão\n"
     ]
    },
    {
     "data": {
      "image/png": "[encoded data removed]",
      "text/plain": [
       "<Figure size 432x288 with 2 Axes>"
      ]
     },
     "metadata": {
      "needs_background": "light"
     },
     "output_type": "display_data"
    },
    {
     "data": {
      "image/png": "[encoded data removed]",
      "text/plain": [
       "<Figure size 432x288 with 1 Axes>"
      ]
     },
     "metadata": {
      "needs_background": "light"
     },
     "output_type": "display_data"
    }
   ],
   "source": [
    "multinomial.fit(treino_x, treino_y)\n",
    "    \n",
    "# testa modelo\n",
    "y_predict = multinomial.predict(teste_x) # Pega as previsoes do modelo para os valores X de teste\n",
    "y_true = teste_y\n",
    "\n",
    "print(classification_report(teste_y, y_predict, zero_division=0))\n",
    "\n",
    "print(\"Matriz de confusão\")\n",
    "matriz_confusao = confusion_matrix(y_true, y_predict)\n",
    "matriz = ConfusionMatrixDisplay(matriz_confusao)\n",
    "matriz.plot()\n",
    "plt.show()\n",
    "\n",
    "TargetVarScore = multinomial.predict_proba(teste_x)\n",
    "fper, tper, thresholds = roc_curve(teste_y, TargetVarScore[:, 1])\n",
    "plot_roc_curve(fper, tper)"
   ]
  },
  {
   "cell_type": "code",
   "execution_count": null,
   "metadata": {},
   "outputs": [],
   "source": []
  }
 ],
 "metadata": {
  "interpreter": {
   "hash": "e4f2e29d4792ba744ec37cfe5d9e06cb1682524f233fc37b58180c94e420ae9c"
  },
  "kernelspec": {
   "display_name": "Python 3.9.12 ('base')",
   "language": "python",
   "name": "python3"
  },
  "language_info": {
   "codemirror_mode": {
    "name": "ipython",
    "version": 3
   },
   "file_extension": ".py",
   "mimetype": "text/x-python",
   "name": "python",
   "nbconvert_exporter": "python",
   "pygments_lexer": "ipython3",
   "version": "3.9.12"
  },
  "orig_nbformat": 4
 },
 "nbformat": 4,
 "nbformat_minor": 2
}
