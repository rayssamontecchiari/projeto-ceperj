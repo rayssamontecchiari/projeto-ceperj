{
 "cells": [
  {
   "cell_type": "code",
   "execution_count": 2,
   "metadata": {},
   "outputs": [],
   "source": [
    "import pandas as pd\n",
    "import numpy as np\n",
    "\n",
    "dados = pd.read_csv('../dados/CSV_Completo.csv')\n",
    "\n",
    "animal = 'É animal mais atropelado'\n",
    "animalEscolhido = 'pomba-de-asa-branca'\n",
    "\n",
    "dados.loc[dados.Animal == animalEscolhido,animal] = 1\n",
    "dados.loc[dados.Animal != animalEscolhido,animal] = 0\n",
    "\n",
    "\n",
    "dados[animal] = dados[animal].astype(int)\n",
    " "
   ]
  },
  {
   "cell_type": "code",
   "execution_count": 3,
   "metadata": {},
   "outputs": [],
   "source": [
    "del(dados['Animal'])\n",
    "del(dados['Km'])\n",
    "del(dados['Hora da Coleta'])\n",
    "del(dados['Local'])\n",
    "del(dados['Tipo De Pistas'])"
   ]
  },
  {
   "cell_type": "code",
   "execution_count": 4,
   "metadata": {},
   "outputs": [],
   "source": [
    "y = dados.pop(animal)\n",
    "X = dados\n",
    "# print(X)"
   ]
  },
  {
   "cell_type": "code",
   "execution_count": 5,
   "metadata": {},
   "outputs": [],
   "source": [
    "# from sklearn.preprocessing import LabelEncoder\n",
    "# from collections import defaultdict\n",
    "\n",
    "# d = defaultdict(LabelEncoder)\n",
    "# # Encoding the variable\n",
    "# X_encoded = X.apply(lambda x: d[x.name].fit_transform(x))\n"
   ]
  },
  {
   "cell_type": "code",
   "execution_count": 6,
   "metadata": {},
   "outputs": [],
   "source": [
    "# from sklearn.feature_selection import SelectKBest, chi2\n",
    "\n",
    "# features = []\n",
    "\n",
    "# for i in X_encoded:\n",
    "#     features.append(i)\n",
    "\n",
    "# k = 10 # seleciona 10 features\n",
    "\n",
    "# sel_chi2 = SelectKBest(chi2, k = 10)\n",
    "# X_train_novo = sel_chi2.fit_transform(X_encoded, y)\n",
    "\n",
    "# print(\"os atributos escolhidos foram:\")\n",
    "# atributosSelect = []\n",
    "# for j in sel_chi2.get_support(indices=True):\n",
    "#     atributosSelect.append(features[j])\n",
    "    \n",
    "# print(atributosSelect)\n",
    "\n",
    "# colums = [\"target\"]\n",
    "# col2 = []\n",
    "# for i in range(k):\n",
    "#     colums.append(i)\n",
    "#     col2.append(i)\n",
    "\n",
    "# print(X_train_novo.shape)\n",
    "\n",
    "# novoDf = pd.DataFrame(X_train_novo, y).reset_index()\n",
    "# novoDf.columns = [colums]\n",
    "\n",
    "# novoX = novoDf[col2]\n",
    "# novoY = novoDf[\"target\"]"
   ]
  },
  {
   "cell_type": "code",
   "execution_count": 7,
   "metadata": {},
   "outputs": [],
   "source": [
    "# # Inverse the encoded\n",
    "# X_decoded = X_encoded.apply(lambda x: d[x.name].inverse_transform(x))\n",
    "# # print(X_decoded)\n",
    "# dados_filtrados = pd.DataFrame()\n",
    "\n",
    "# for i in atributosSelect:\n",
    "#     dados_filtrados[i] = X_decoded[i]\n",
    "    \n",
    "# dados_filtrados[animal] = y"
   ]
  },
  {
   "cell_type": "code",
   "execution_count": 9,
   "metadata": {},
   "outputs": [
    {
     "name": "stdout",
     "output_type": "stream",
     "text": [
      "<class 'pandas.core.frame.DataFrame'>\n",
      "RangeIndex: 13096 entries, 0 to 13095\n",
      "Data columns (total 95 columns):\n",
      " #   Column                                          Non-Null Count  Dtype\n",
      "---  ------                                          --------------  -----\n",
      " 0   Mês                                             13096 non-null  int64\n",
      " 1   Trecho                                          13096 non-null  int64\n",
      " 2   Estação_Inverno                                 13096 non-null  uint8\n",
      " 3   Estação_Outono                                  13096 non-null  uint8\n",
      " 4   Estação_Primavera                               13096 non-null  uint8\n",
      " 5   Estação_Verão                                   13096 non-null  uint8\n",
      " 6   Sentido_JF                                      13096 non-null  uint8\n",
      " 7   Sentido_RJ                                      13096 non-null  uint8\n",
      " 8   Trecho macro_Baixada                            13096 non-null  uint8\n",
      " 9   Trecho macro_Planalto                           13096 non-null  uint8\n",
      " 10  Trecho macro_Serra                              13096 non-null  uint8\n",
      " 11  Numero de Pistas_0                              13096 non-null  uint8\n",
      " 12  Numero de Pistas_1                              13096 non-null  uint8\n",
      " 13  Numero de Pistas_2                              13096 non-null  uint8\n",
      " 14  Numero de Pistas_3                              13096 non-null  uint8\n",
      " 15  Numero de Pistas_4                              13096 non-null  uint8\n",
      " 16  Numero de Pistas_5                              13096 non-null  uint8\n",
      " 17  Numero de Pistas_6                              13096 non-null  uint8\n",
      " 18  Numero de Pistas_Desconhecido                   13096 non-null  uint8\n",
      " 19  Tipo de Pavimento_Desconhecido                  13096 non-null  uint8\n",
      " 20  Tipo de Pavimento_Pavimento flexível (asfalto)  13096 non-null  uint8\n",
      " 21  Tipo de Pavimento_Pavimento rígido              13096 non-null  uint8\n",
      " 22  Tipo de Pavimento_Pavimento semi-flexível       13096 non-null  uint8\n",
      " 23  Numero de Faixas_0                              13096 non-null  uint8\n",
      " 24  Numero de Faixas_1                              13096 non-null  uint8\n",
      " 25  Numero de Faixas_2                              13096 non-null  uint8\n",
      " 26  Numero de Faixas_3                              13096 non-null  uint8\n",
      " 27  Numero de Faixas_4                              13096 non-null  uint8\n",
      " 28  Numero de Faixas_5                              13096 non-null  uint8\n",
      " 29  Numero de Faixas_6                              13096 non-null  uint8\n",
      " 30  Numero de Faixas_7                              13096 non-null  uint8\n",
      " 31  Numero de Faixas_8                              13096 non-null  uint8\n",
      " 32  Numero de Faixas_9                              13096 non-null  uint8\n",
      " 33  Numero de Faixas_Desconhecido                   13096 non-null  uint8\n",
      " 34  Velocidade Maxima_0                             13096 non-null  uint8\n",
      " 35  Velocidade Maxima_100                           13096 non-null  uint8\n",
      " 36  Velocidade Maxima_11                            13096 non-null  uint8\n",
      " 37  Velocidade Maxima_110                           13096 non-null  uint8\n",
      " 38  Velocidade Maxima_119                           13096 non-null  uint8\n",
      " 39  Velocidade Maxima_20                            13096 non-null  uint8\n",
      " 40  Velocidade Maxima_30                            13096 non-null  uint8\n",
      " 41  Velocidade Maxima_40                            13096 non-null  uint8\n",
      " 42  Velocidade Maxima_50                            13096 non-null  uint8\n",
      " 43  Velocidade Maxima_60                            13096 non-null  uint8\n",
      " 44  Velocidade Maxima_70                            13096 non-null  uint8\n",
      " 45  Velocidade Maxima_72                            13096 non-null  uint8\n",
      " 46  Velocidade Maxima_80                            13096 non-null  uint8\n",
      " 47  Velocidade Maxima_90                            13096 non-null  uint8\n",
      " 48  Velocidade Maxima_Desconhecido                  13096 non-null  uint8\n",
      " 49  Tipo da Chuva_Chuva fina                        13096 non-null  uint8\n",
      " 50  Tipo da Chuva_Chuva forte                       13096 non-null  uint8\n",
      " 51  Tipo da Chuva_Desconhecido                      13096 non-null  uint8\n",
      " 52  Tipo da Chuva_Sem chuva                         13096 non-null  uint8\n",
      " 53  Intervencao_Desconhecido                        13096 non-null  uint8\n",
      " 54  Intervencao_não                                 13096 non-null  uint8\n",
      " 55  Intervencao_sim                                 13096 non-null  uint8\n",
      " 56  Vazamento_Desconhecido                          13096 non-null  uint8\n",
      " 57  Vazamento_não                                   13096 non-null  uint8\n",
      " 58  Vazamento_sim                                   13096 non-null  uint8\n",
      " 59  Agua?_Desconhecido                              13096 non-null  uint8\n",
      " 60  Agua?_não                                       13096 non-null  uint8\n",
      " 61  Agua?_sim                                       13096 non-null  uint8\n",
      " 62  Vegetação Baixa?_Desconhecido                   13096 non-null  uint8\n",
      " 63  Vegetação Baixa?_não                            13096 non-null  uint8\n",
      " 64  Vegetação Baixa?_sim                            13096 non-null  uint8\n",
      " 65  capimAlto_Desconhecido                          13096 non-null  uint8\n",
      " 66  capimAlto_não                                   13096 non-null  uint8\n",
      " 67  capimAlto_sim                                   13096 non-null  uint8\n",
      " 68  Arbustos_Desconhecido                           13096 non-null  uint8\n",
      " 69  Arbustos_não                                    13096 non-null  uint8\n",
      " 70  Arbustos_sim                                    13096 non-null  uint8\n",
      " 71  Floresta_Desconhecido                           13096 non-null  uint8\n",
      " 72  Floresta_não                                    13096 non-null  uint8\n",
      " 73  Floresta_sim                                    13096 non-null  uint8\n",
      " 74  Com filhotes?_Desconhecido                      13096 non-null  uint8\n",
      " 75  Com filhotes?_não                               13096 non-null  uint8\n",
      " 76  Com filhotes?_sim                               13096 non-null  uint8\n",
      " 77  Faixa de Horario_Desconhecido                   13096 non-null  uint8\n",
      " 78  Faixa de Horario_Entre 00 e 03                  13096 non-null  uint8\n",
      " 79  Faixa de Horario_Entre 03 e 06                  13096 non-null  uint8\n",
      " 80  Faixa de Horario_Entre 06 e 09                  13096 non-null  uint8\n",
      " 81  Faixa de Horario_Entre 09 e 12                  13096 non-null  uint8\n",
      " 82  Faixa de Horario_Entre 12 e 15                  13096 non-null  uint8\n",
      " 83  Faixa de Horario_Entre 15 e 18                  13096 non-null  uint8\n",
      " 84  Faixa de Horario_Entre 18 e 21                  13096 non-null  uint8\n",
      " 85  Faixa de Horario_Entre 21 e 00                  13096 non-null  uint8\n",
      " 86  Faixa de Quilometragem_Entre 0 e 25             13096 non-null  uint8\n",
      " 87  Faixa de Quilometragem_Entre 100 e 125          13096 non-null  uint8\n",
      " 88  Faixa de Quilometragem_Entre 25 e 50            13096 non-null  uint8\n",
      " 89  Faixa de Quilometragem_Entre 50 e 75            13096 non-null  uint8\n",
      " 90  Faixa de Quilometragem_Entre 75 e 100           13096 non-null  uint8\n",
      " 91  Faixa de Quilometragem_Entre 750 e 775          13096 non-null  uint8\n",
      " 92  Faixa de Quilometragem_Entre 775 e 800          13096 non-null  uint8\n",
      " 93  Faixa de Quilometragem_Entre 800 e 825          13096 non-null  uint8\n",
      " 94  Faixa de Quilometragem_Entre 825 e 850          13096 non-null  uint8\n",
      "dtypes: int64(2), uint8(93)\n",
      "memory usage: 1.4 MB\n",
      "None\n"
     ]
    }
   ],
   "source": [
    "# dadosEncod = pd.get_dummies(dados_filtrados)\n",
    "dadosEncod = pd.get_dummies(dados)\n",
    "# dadosEncod['target'] = y\n",
    "\n",
    "dummies_names = []\n",
    "\n",
    "x_codificado = dadosEncod\n",
    "\n",
    "for i in x_codificado:\n",
    "    dummies_names.append(i)\n",
    "    # print(i)\n",
    "    \n",
    "# dummies_names.remove(animal)\n",
    "\n",
    "print(dadosEncod.info())\n"
   ]
  },
  {
   "cell_type": "code",
   "execution_count": null,
   "metadata": {},
   "outputs": [
    {
     "name": "stdout",
     "output_type": "stream",
     "text": [
      "os atributos escolhidos foram:\n",
      "['Trecho', 'Estação_Inverno', 'Estação_Verão', 'Trecho macro_Planalto', 'Trecho macro_Serra', 'Numero de Pistas_1', 'Tipo de Pavimento_Pavimento semi-flexível', 'Numero de Faixas_2', 'Numero de Faixas_4', 'Intervencao_sim', 'Floresta_não', 'Floresta_sim', 'Faixa de Quilometragem_Entre 0 e 25', 'Faixa de Quilometragem_Entre 25 e 50', 'Faixa de Quilometragem_Entre 75 e 100']\n",
      "(13096, 15)\n"
     ]
    }
   ],
   "source": [
    "from sklearn.feature_selection import SelectKBest, chi2\n",
    "\n",
    "features = dummies_names\n",
    "\n",
    "# for i in x_codificado:\n",
    "#     features.append(i)\n",
    "\n",
    "k = 15 # seleciona 15 features\n",
    "\n",
    "sel_chi2 = SelectKBest(chi2, k = 15)\n",
    "X_train_novo = sel_chi2.fit_transform(x_codificado, y)\n",
    "\n",
    "print(\"os atributos escolhidos foram:\")\n",
    "atributosSelect = []\n",
    "for j in sel_chi2.get_support(indices=True):\n",
    "    atributosSelect.append(features[j])\n",
    "    \n",
    "print(atributosSelect)\n",
    "\n",
    "colums = [\"target\"]\n",
    "col2 = []\n",
    "for i in range(k):\n",
    "    colums.append(i)\n",
    "    col2.append(i)\n",
    "\n",
    "print(X_train_novo.shape)\n",
    "\n",
    "novoDf = pd.DataFrame(X_train_novo, y).reset_index()\n",
    "novoDf.columns = [colums]\n",
    "\n",
    "novoX = novoDf[col2]\n",
    "novoY = novoDf[\"target\"]"
   ]
  },
  {
   "cell_type": "code",
   "execution_count": null,
   "metadata": {},
   "outputs": [
    {
     "data": {
      "text/plain": [
       "<BarContainer object of 2 artists>"
      ]
     },
     "execution_count": 9,
     "metadata": {},
     "output_type": "execute_result"
    },
    {
     "data": {
      "image/png": "[encoded data removed]",
      "text/plain": [
       "<Figure size 432x288 with 1 Axes>"
      ]
     },
     "metadata": {
      "needs_background": "light"
     },
     "output_type": "display_data"
    }
   ],
   "source": [
    "from sklearn.model_selection import train_test_split\n",
    "import numpy as np\n",
    "import matplotlib.pyplot as plt\n",
    "\n",
    "dadosTreino, dadosTeste = train_test_split(novoDf, test_size = 0.33, random_state = 0)\n",
    "\n",
    "# countTreino = dadosTreino[animal].value_counts()\n",
    "# countTeste = dadosTeste[animal].value_counts()\n",
    "\n",
    "countTreino = dadosTreino[\"target\"].value_counts()\n",
    "countTeste = dadosTeste[\"target\"].value_counts()\n",
    "plt.bar([0, 1], countTreino) \n",
    "plt.bar([0, 1], countTeste) \n",
    "\n"
   ]
  },
  {
   "cell_type": "code",
   "execution_count": null,
   "metadata": {},
   "outputs": [],
   "source": [
    "treino_y = dadosTreino.pop(\"target\")\n",
    "treino_x = dadosTreino\n",
    "\n",
    "teste_y = dadosTeste.pop(\"target\")\n",
    "teste_x = dadosTeste"
   ]
  },
  {
   "cell_type": "markdown",
   "metadata": {},
   "source": [
    "Balanceamento:"
   ]
  },
  {
   "cell_type": "code",
   "execution_count": null,
   "metadata": {},
   "outputs": [],
   "source": [
    "from imblearn.over_sampling import SMOTE\n",
    "sm = SMOTE(random_state=42)\n",
    "X_res, y_res = sm.fit_resample(treino_x, treino_y)"
   ]
  },
  {
   "cell_type": "markdown",
   "metadata": {},
   "source": [
    "O classificador é inicializado com max depth = 3 e random state = 20. O argumento max depth controla a profundidade máxima da árvore"
   ]
  },
  {
   "cell_type": "code",
   "execution_count": null,
   "metadata": {},
   "outputs": [],
   "source": [
    "from sklearn.tree import DecisionTreeClassifier\n",
    "\n",
    "modelo = DecisionTreeClassifier(max_depth=2)\n",
    "modelo.fit(X_res, y_res)\n",
    "previsoes = modelo.predict(teste_x)\n"
   ]
  },
  {
   "cell_type": "code",
   "execution_count": null,
   "metadata": {},
   "outputs": [
    {
     "name": "stdout",
     "output_type": "stream",
     "text": [
      "|--- Numero de Faixas_2 <= 0.50\n",
      "|   |--- Estação_Verão <= 0.50\n",
      "|   |   |--- class: 1\n",
      "|   |--- Estação_Verão >  0.50\n",
      "|   |   |--- class: 0\n",
      "|--- Numero de Faixas_2 >  0.50\n",
      "|   |--- Numero de Pistas_1 <= 0.50\n",
      "|   |   |--- class: 0\n",
      "|   |--- Numero de Pistas_1 >  0.50\n",
      "|   |   |--- class: 0\n",
      "\n"
     ]
    }
   ],
   "source": [
    "from sklearn import tree\n",
    "from sklearn.tree import export_text\n",
    "import graphviz\n",
    "\n",
    "# figura, eixos = plt.subplots(nrows=1,ncols=1,figsize=(300,300))\n",
    "# tree.plot_tree(modelo, feature_names=dummies_names, filled = True)\n",
    "\n",
    "targets = {0: \"nao atropelado\", 1: \"atropelado\"}\n",
    "\n",
    "dot_data = tree.export_graphviz(modelo, out_file=None,\n",
    "                        #  feature_names=dummies_names,\n",
    "                         feature_names=atributosSelect,\n",
    "                         class_names=targets,\n",
    "                         filled=True, rounded=True,\n",
    "                         special_characters=True, leaves_parallel=True)\n",
    "graph = graphviz.Source(dot_data)\n",
    "graph.render(animalEscolhido)\n",
    "\n",
    "r = export_text(modelo, feature_names=atributosSelect)\n",
    "print(r)"
   ]
  },
  {
   "cell_type": "code",
   "execution_count": null,
   "metadata": {},
   "outputs": [
    {
     "name": "stdout",
     "output_type": "stream",
     "text": [
      "              precision    recall  f1-score   support\n",
      "\n",
      "           0       0.99      0.49      0.65      4221\n",
      "           1       0.04      0.82      0.07       101\n",
      "\n",
      "    accuracy                           0.50      4322\n",
      "   macro avg       0.51      0.66      0.36      4322\n",
      "weighted avg       0.97      0.50      0.64      4322\n",
      "\n",
      "Matriz de confusão\n"
     ]
    },
    {
     "data": {
      "image/png": "[encoded data removed]",
      "text/plain": [
       "<Figure size 432x288 with 2 Axes>"
      ]
     },
     "metadata": {
      "needs_background": "light"
     },
     "output_type": "display_data"
    },
    {
     "data": {
      "image/png": "[encoded data removed]",
      "text/plain": [
       "<Figure size 432x288 with 2 Axes>"
      ]
     },
     "metadata": {
      "needs_background": "light"
     },
     "output_type": "display_data"
    },
    {
     "data": {
      "image/png": "[encoded data removed]",
      "text/plain": [
       "<Figure size 432x288 with 1 Axes>"
      ]
     },
     "metadata": {
      "needs_background": "light"
     },
     "output_type": "display_data"
    },
    {
     "name": "stdout",
     "output_type": "stream",
     "text": [
      "Área sob a curva ROC: 0.6628\n"
     ]
    }
   ],
   "source": [
    "from sklearn.metrics import confusion_matrix, ConfusionMatrixDisplay, classification_report\n",
    "import matplotlib.pyplot as plt\n",
    "import seaborn as sns\n",
    "\n",
    "print(classification_report(teste_y, previsoes, zero_division=0))\n",
    "\n",
    "print(\"Matriz de confusão\")\n",
    "matriz_confusaoPorc = confusion_matrix(teste_y, previsoes, normalize = 'true')\n",
    "matrizPorc = ConfusionMatrixDisplay(matriz_confusaoPorc)\n",
    "matrizPorc.plot()\n",
    "\n",
    "matriz_confusao = confusion_matrix(teste_y, previsoes)\n",
    "matriz = ConfusionMatrixDisplay(matriz_confusao)\n",
    "matriz.plot()\n",
    "plt.show()\n",
    "\n",
    "def plot_roc_curve(fper, tper):\n",
    "    plt.plot(fper, tper, color='red', label='ROC')\n",
    "    plt.plot([0, 1], [0, 1], color='green', linestyle='--')\n",
    "    plt.xlabel('False Positive Rate')\n",
    "    plt.ylabel('True Positive Rate')\n",
    "    plt.title('Receiver Operating Characteristic Curve')\n",
    "    plt.legend()\n",
    "    plt.show()\n",
    "    \n",
    "from sklearn.metrics import roc_curve\n",
    "\n",
    "TargetVarScore = modelo.predict_proba(teste_x)\n",
    "fper, tper, thresholds = roc_curve(teste_y, TargetVarScore[:, 1])\n",
    "plot_roc_curve(fper, tper)\n",
    "\n",
    "# https://medium.com/data-hackers/como-avaliar-seu-modelo-de-classifica%C3%A7%C3%A3o-34e6f6011108#:~:text=Uma%20m%C3%A9trica%20para%20medir%20essa,podemos%20usar%20a%20fun%C3%A7%C3%A3o%20roc_auc_score%20.&text=Quanto%20mais%20pr%C3%B3ximo%20de%201.0,ROC%2C%20melhor%20%C3%A9%20o%20modelo.\n",
    "from sklearn.metrics import roc_auc_score\n",
    "print('Área sob a curva ROC: {:.4f}'\n",
    "      .format(roc_auc_score(teste_y, TargetVarScore[:, 1])))"
   ]
  },
  {
   "cell_type": "markdown",
   "metadata": {},
   "source": [
    "Obtendo regras de forma mais legível"
   ]
  },
  {
   "cell_type": "code",
   "execution_count": null,
   "metadata": {},
   "outputs": [],
   "source": [
    "from sklearn.tree import _tree\n",
    "\n",
    "def get_rules(tree, feature_names, class_names):\n",
    "    tree_ = tree.tree_\n",
    "    feature_name = [\n",
    "        feature_names[i] if i != _tree.TREE_UNDEFINED else \"undefined!\"\n",
    "        for i in tree_.feature\n",
    "    ]\n",
    "\n",
    "    paths = []\n",
    "    path = []\n",
    "    \n",
    "    def recurse(node, path, paths):\n",
    "        \n",
    "        if tree_.feature[node] != _tree.TREE_UNDEFINED:\n",
    "            name = feature_name[node]\n",
    "            threshold = tree_.threshold[node]\n",
    "            p1, p2 = list(path), list(path)\n",
    "            p1 += [f\"({name} <= {np.round(threshold, 3)})\"]\n",
    "            recurse(tree_.children_left[node], p1, paths)\n",
    "            p2 += [f\"({name} > {np.round(threshold, 3)})\"]\n",
    "            recurse(tree_.children_right[node], p2, paths)\n",
    "        else:\n",
    "            path += [(tree_.value[node], tree_.n_node_samples[node])]\n",
    "            paths += [path]\n",
    "            \n",
    "    recurse(0, path, paths)\n",
    "\n",
    "    # sort by samples count\n",
    "    samples_count = [p[-1][1] for p in paths]\n",
    "    ii = list(np.argsort(samples_count))\n",
    "    paths = [paths[i] for i in reversed(ii)]\n",
    "    \n",
    "    rules = []\n",
    "    for path in paths:\n",
    "        rule = \"if \"\n",
    "        \n",
    "        for p in path[:-1]:\n",
    "            if rule != \"if \":\n",
    "                rule += \" and \"\n",
    "            rule += str(p)\n",
    "        rule += \" then \"\n",
    "        if class_names is None:\n",
    "            rule += \"response: \"+str(np.round(path[-1][0][0][0],3))\n",
    "        else:\n",
    "            classes = path[-1][0][0]\n",
    "            l = np.argmax(classes)\n",
    "            rule += f\"class: {class_names[l]} (proba: {np.round(100.0*classes[l]/np.sum(classes),2)}%)\"\n",
    "        rule += f\" | based on {path[-1][1]:,} samples\"\n",
    "        rules += [rule]\n",
    "        \n",
    "    return rules"
   ]
  },
  {
   "cell_type": "code",
   "execution_count": null,
   "metadata": {},
   "outputs": [
    {
     "name": "stdout",
     "output_type": "stream",
     "text": [
      "if (Sentido_RJ = false) and (Estação_Inverno = false) then class: atropelado (proba: 63.4%) | based on 12,225 samples\n",
      "if (Sentido_RJ = true) and (Estação_Verão = true) then class: nao atropelado (proba: 93.8%) | based on 2,355 samples\n",
      "if (Sentido_RJ = false) and (Estação_Inverno = true) then class: nao atropelado (proba: 72.33%) | based on 2,147 samples\n",
      "if (Sentido_RJ = true) and (Estação_Verão = false) then class: nao atropelado (proba: 80.14%) | based on 423 samples\n"
     ]
    }
   ],
   "source": [
    "rules = get_rules(modelo, dummies_names, targets)\n",
    "\n",
    "# > 0.5 = true\n",
    "# <= 0.5 = false\n",
    "\n",
    "for r in rules:\n",
    "    str(r)\n",
    "    new_r = r.replace('> 0.5', \"= true\").replace('<= 0.5', \"= false\")\n",
    "    print(new_r)"
   ]
  },
  {
   "cell_type": "markdown",
   "metadata": {},
   "source": [
    "Analizando a probabilidade de cada atributo na feature"
   ]
  },
  {
   "cell_type": "code",
   "execution_count": null,
   "metadata": {},
   "outputs": [
    {
     "name": "stdout",
     "output_type": "stream",
     "text": [
      "[0 1]\n",
      "17150\n"
     ]
    }
   ],
   "source": [
    "print(modelo.classes_)\n",
    "\n",
    "feat_log_prob = modelo.predict_log_proba(X_res)\n",
    "print(len(feat_log_prob))"
   ]
  }
 ],
 "metadata": {
  "interpreter": {
   "hash": "e4f2e29d4792ba744ec37cfe5d9e06cb1682524f233fc37b58180c94e420ae9c"
  },
  "kernelspec": {
   "display_name": "Python 3.9.12 ('base')",
   "language": "python",
   "name": "python3"
  },
  "language_info": {
   "codemirror_mode": {
    "name": "ipython",
    "version": 3
   },
   "file_extension": ".py",
   "mimetype": "text/x-python",
   "name": "python",
   "nbconvert_exporter": "python",
   "pygments_lexer": "ipython3",
   "version": "3.9.12"
  },
  "orig_nbformat": 4
 },
 "nbformat": 4,
 "nbformat_minor": 2
}
