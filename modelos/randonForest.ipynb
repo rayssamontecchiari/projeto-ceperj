{
 "cells": [
  {
   "cell_type": "code",
   "execution_count": 1,
   "metadata": {},
   "outputs": [],
   "source": [
    "import pandas as pd\n",
    "\n",
    "dados = pd.read_csv('../dados/CSV_Completo.csv')\n",
    "\n",
    "animal = 'É animal mais atropelado'\n",
    "animalEscolhido = 'rã-manteiga'\n",
    "\n",
    "dados.loc[dados.Animal == animalEscolhido,animal] = 1\n",
    "dados.loc[dados.Animal != animalEscolhido,animal] = 0\n",
    "\n",
    "\n",
    "dados[animal] = dados[animal].astype(int)\n",
    "\n",
    "del(dados['Animal'])\n",
    "del(dados['Km'])\n",
    "del(dados['Hora da Coleta'])\n"
   ]
  },
  {
   "cell_type": "code",
   "execution_count": 2,
   "metadata": {},
   "outputs": [
    {
     "name": "stdout",
     "output_type": "stream",
     "text": [
      "<class 'pandas.core.frame.DataFrame'>\n",
      "RangeIndex: 13096 entries, 0 to 13095\n",
      "Data columns (total 23 columns):\n",
      " #   Column                    Non-Null Count  Dtype\n",
      "---  ------                    --------------  -----\n",
      " 0   Mês                       13096 non-null  int64\n",
      " 1   Estação                   13096 non-null  int32\n",
      " 2   Trecho                    13096 non-null  int64\n",
      " 3   Sentido                   13096 non-null  int32\n",
      " 4   Trecho macro              13096 non-null  int32\n",
      " 5   Tipo De Pistas            13096 non-null  int32\n",
      " 6   Numero de Pistas          13096 non-null  int32\n",
      " 7   Tipo de Pavimento         13096 non-null  int32\n",
      " 8   Numero de Faixas          13096 non-null  int32\n",
      " 9   Velocidade Maxima         13096 non-null  int32\n",
      " 10  Tipo da Chuva             13096 non-null  int32\n",
      " 11  Intervencao               13096 non-null  int32\n",
      " 12  Vazamento                 13096 non-null  int32\n",
      " 13  Agua?                     13096 non-null  int32\n",
      " 14  Vegetação Baixa?          13096 non-null  int32\n",
      " 15  capimAlto                 13096 non-null  int32\n",
      " 16  Arbustos                  13096 non-null  int32\n",
      " 17  Floresta                  13096 non-null  int32\n",
      " 18  Local                     13096 non-null  int32\n",
      " 19  Com filhotes?             13096 non-null  int32\n",
      " 20  Faixa de Horario          13096 non-null  int32\n",
      " 21  Faixa de Quilometragem    13096 non-null  int32\n",
      " 22  É animal mais atropelado  13096 non-null  int64\n",
      "dtypes: int32(20), int64(3)\n",
      "memory usage: 1.3 MB\n"
     ]
    }
   ],
   "source": [
    "from collections import OrderedDict\n",
    "\n",
    "categorias = {}\n",
    "# categorias['Mês'] = dados['Mês']\n",
    "\n",
    "for i in dados:\n",
    "      categorias[i] = dados[i]\n",
    "      # categorias[i] = i\n",
    "      \n",
    "\n",
    "for feature in categorias:\n",
    "  categorias[feature] = list(OrderedDict.fromkeys(categorias[feature]))\n",
    "  \n",
    "from sklearn.preprocessing import LabelEncoder\n",
    "le = LabelEncoder()\n",
    "\n",
    "for i in dados:\n",
    "    dados[i] = le.fit_transform(dados[i])\n",
    "    \n",
    "# print(dados)\n",
    "\n",
    "categorias_cod = {}\n",
    "\n",
    "for i in dados:\n",
    "    categorias_cod[i] = dados[i]\n",
    "    \n",
    "for feature in categorias_cod:\n",
    "  categorias_cod[feature] = list(OrderedDict.fromkeys(categorias_cod[feature]))\n",
    "  \n",
    "dados.info()"
   ]
  },
  {
   "cell_type": "code",
   "execution_count": 3,
   "metadata": {},
   "outputs": [
    {
     "name": "stdout",
     "output_type": "stream",
     "text": [
      "0    12915\n",
      "1      181\n",
      "Name: É animal mais atropelado, dtype: int64\n"
     ]
    },
    {
     "data": {
      "text/plain": [
       "<BarContainer object of 2 artists>"
      ]
     },
     "execution_count": 3,
     "metadata": {},
     "output_type": "execute_result"
    },
    {
     "data": {
      "image/png": "[encoded data removed]",
      "text/plain": [
       "<Figure size 432x288 with 1 Axes>"
      ]
     },
     "metadata": {
      "needs_background": "light"
     },
     "output_type": "display_data"
    }
   ],
   "source": [
    "X = dados.iloc[:,:-1]\n",
    "y = dados.iloc[:,-1]\n",
    "\n",
    "import matplotlib.pyplot as plt\n",
    "\n",
    "count = dados[animal].value_counts()\n",
    "print(count)\n",
    "plt.bar([0, 1], count) "
   ]
  },
  {
   "cell_type": "code",
   "execution_count": 4,
   "metadata": {},
   "outputs": [],
   "source": [
    "cod_cat = {}\n",
    "\n",
    "for feature in categorias:\n",
    "  cod_cat[feature] = {}\n",
    "  for index, cat in enumerate(categorias[feature]):\n",
    "    cods = categorias_cod[feature]\n",
    "    cod_cat[feature].update({cods[index]:cat})\n"
   ]
  },
  {
   "cell_type": "markdown",
   "metadata": {},
   "source": [
    "Escolhendo as 10 melhores features"
   ]
  },
  {
   "cell_type": "code",
   "execution_count": 5,
   "metadata": {},
   "outputs": [
    {
     "name": "stdout",
     "output_type": "stream",
     "text": [
      "os atributos escolhidos foram:\n",
      "['Mês', 'Estação', 'Trecho', 'Numero de Pistas', 'Numero de Faixas', 'Velocidade Maxima', 'Local', 'Faixa de Quilometragem']\n",
      "(13096, 8)\n"
     ]
    }
   ],
   "source": [
    "from sklearn.feature_selection import SelectKBest, f_regression,  chi2\n",
    "\n",
    "features = []\n",
    "for i in X:\n",
    "    features.append(i)\n",
    "\n",
    "k = 8 # seleciona 8 features\n",
    "\n",
    "sel_chi2 = SelectKBest(chi2, k = 8)\n",
    "\n",
    "X_train_novo = sel_chi2.fit_transform(X, y)\n",
    "\n",
    "print(\"os atributos escolhidos foram:\")\n",
    "atributosSelect = []\n",
    "for j in sel_chi2.get_support(indices=True):\n",
    "    atributosSelect.append(features[j])\n",
    "    \n",
    "print(atributosSelect)\n",
    "\n",
    "colums = [animal]\n",
    "col2 = []\n",
    "for i in range(k):\n",
    "    colums.append(i)\n",
    "    col2.append(i)\n",
    "\n",
    "print(X_train_novo.shape)\n",
    "\n",
    "novoDf = pd.DataFrame(X_train_novo, y).reset_index()\n",
    "novoDf.columns = [colums]\n",
    "\n",
    "novoX = novoDf[col2]\n",
    "novoY = novoDf[animal]\n"
   ]
  },
  {
   "cell_type": "code",
   "execution_count": 6,
   "metadata": {},
   "outputs": [
    {
     "data": {
      "text/plain": [
       "<BarContainer object of 2 artists>"
      ]
     },
     "execution_count": 6,
     "metadata": {},
     "output_type": "execute_result"
    },
    {
     "data": {
      "image/png": "[encoded data removed]",
      "text/plain": [
       "<Figure size 432x288 with 1 Axes>"
      ]
     },
     "metadata": {
      "needs_background": "light"
     },
     "output_type": "display_data"
    }
   ],
   "source": [
    "import numpy as np\n",
    "from sklearn.model_selection import train_test_split\n",
    "\n",
    "dadosTreino, dadosTeste = train_test_split(novoDf, test_size = 0.33, random_state = 0)\n",
    "\n",
    "countTreino = dadosTreino[animal].value_counts()\n",
    "\n",
    "countTeste = dadosTeste[animal].value_counts()\n",
    "\n",
    "plt.bar([0, 1], countTreino) \n",
    "plt.bar([0, 1], countTeste) "
   ]
  },
  {
   "cell_type": "code",
   "execution_count": 7,
   "metadata": {},
   "outputs": [],
   "source": [
    "treino_y = dadosTreino.pop(animal)\n",
    "treino_x = dadosTreino\n",
    "\n",
    "teste_y = dadosTeste.pop(animal)\n",
    "teste_x = dadosTeste\n"
   ]
  },
  {
   "cell_type": "code",
   "execution_count": 8,
   "metadata": {},
   "outputs": [],
   "source": [
    "from imblearn.over_sampling import SMOTE\n",
    "sm = SMOTE(random_state=42)\n",
    "X_res, y_res = sm.fit_resample(treino_x, treino_y)"
   ]
  },
  {
   "cell_type": "code",
   "execution_count": 9,
   "metadata": {},
   "outputs": [
    {
     "name": "stdout",
     "output_type": "stream",
     "text": [
      "0.7889865802869042\n"
     ]
    },
    {
     "name": "stderr",
     "output_type": "stream",
     "text": [
      "C:\\Users\\rayss\\AppData\\Local\\Temp\\ipykernel_11752\\3005428260.py:4: DataConversionWarning: A column-vector y was passed when a 1d array was expected. Please change the shape of y to (n_samples,), for example using ravel().\n",
      "  clf_model = clf.fit(X_res, y_res)\n"
     ]
    }
   ],
   "source": [
    "from sklearn.ensemble import RandomForestClassifier\n",
    "clf = RandomForestClassifier(n_estimators=10, max_depth=4, criterion=\"entropy\")\n",
    "\n",
    "clf_model = clf.fit(X_res, y_res)\n",
    "\n",
    "y_predict = clf.predict(teste_x)\n",
    "\n",
    "score = clf_model.score(teste_x,teste_y)\n",
    "print(score)"
   ]
  },
  {
   "cell_type": "code",
   "execution_count": 10,
   "metadata": {},
   "outputs": [
    {
     "name": "stdout",
     "output_type": "stream",
     "text": [
      "              precision    recall  f1-score   support\n",
      "\n",
      "           0       1.00      0.79      0.88      4270\n",
      "           1       0.04      0.73      0.08        52\n",
      "\n",
      "    accuracy                           0.79      4322\n",
      "   macro avg       0.52      0.76      0.48      4322\n",
      "weighted avg       0.98      0.79      0.87      4322\n",
      "\n",
      "Matriz de confusão\n"
     ]
    },
    {
     "data": {
      "image/png": "[encoded data removed]",
      "text/plain": [
       "<Figure size 432x288 with 2 Axes>"
      ]
     },
     "metadata": {
      "needs_background": "light"
     },
     "output_type": "display_data"
    },
    {
     "data": {
      "image/png": "[encoded data removed]",
      "text/plain": [
       "<Figure size 432x288 with 2 Axes>"
      ]
     },
     "metadata": {
      "needs_background": "light"
     },
     "output_type": "display_data"
    },
    {
     "data": {
      "image/png": "[encoded data removed]",
      "text/plain": [
       "<Figure size 432x288 with 1 Axes>"
      ]
     },
     "metadata": {
      "needs_background": "light"
     },
     "output_type": "display_data"
    }
   ],
   "source": [
    "from sklearn.metrics import confusion_matrix, ConfusionMatrixDisplay, classification_report\n",
    "import matplotlib.pyplot as plt\n",
    "import seaborn as sns\n",
    "\n",
    "print(classification_report(teste_y, y_predict, zero_division=0))\n",
    "y_true = teste_y\n",
    "\n",
    "print(\"Matriz de confusão\")\n",
    "matriz_confusaoPorc = confusion_matrix(y_true, y_predict, normalize = 'true')\n",
    "matrizPorc = ConfusionMatrixDisplay(matriz_confusaoPorc)\n",
    "matrizPorc.plot()\n",
    "\n",
    "matriz_confusao = confusion_matrix(y_true, y_predict)\n",
    "matriz = ConfusionMatrixDisplay(matriz_confusao)\n",
    "matriz.plot()\n",
    "plt.show()\n",
    "\n",
    "def plot_roc_curve(fper, tper):\n",
    "    plt.plot(fper, tper, color='red', label='ROC')\n",
    "    plt.plot([0, 1], [0, 1], color='green', linestyle='--')\n",
    "    plt.xlabel('False Positive Rate')\n",
    "    plt.ylabel('True Positive Rate')\n",
    "    plt.title('Receiver Operating Characteristic Curve')\n",
    "    plt.legend()\n",
    "    plt.show()\n",
    "    \n",
    "from sklearn.metrics import roc_curve\n",
    "\n",
    "TargetVarScore = clf.predict_proba(teste_x)\n",
    "fper, tper, thresholds = roc_curve(teste_y, TargetVarScore[:, 1])\n",
    "plot_roc_curve(fper, tper)"
   ]
  },
  {
   "cell_type": "code",
   "execution_count": 11,
   "metadata": {},
   "outputs": [
    {
     "name": "stdout",
     "output_type": "stream",
     "text": [
      "TREE: 0\n",
      "0 NODE: if feature[6] < 8.5 then next=1 else next=16\n",
      "1 NODE: if feature[0] < 8.5 then next=2 else next=9\n",
      "2 NODE: if feature[7] < 2.5 then next=3 else next=6\n",
      "3 NODE: if feature[1] < 1.5 then next=4 else next=5\n",
      "4 LEAF: return class=0\n",
      "5 LEAF: return class=1\n",
      "6 NODE: if feature[1] < 1.5 then next=7 else next=8\n",
      "7 LEAF: return class=0\n",
      "8 LEAF: return class=0\n",
      "9 NODE: if feature[7] < 2.5 then next=10 else next=13\n",
      "10 NODE: if feature[5] < 12.5 then next=11 else next=12\n",
      "11 LEAF: return class=1\n",
      "12 LEAF: return class=1\n",
      "13 NODE: if feature[2] < 9.0 then next=14 else next=15\n",
      "14 LEAF: return class=0\n",
      "15 LEAF: return class=1\n",
      "16 NODE: if feature[0] < 8.5 then next=17 else next=24\n",
      "17 NODE: if feature[6] < 9.5 then next=18 else next=21\n",
      "18 NODE: if feature[2] < 10.5 then next=19 else next=20\n",
      "19 LEAF: return class=0\n",
      "20 LEAF: return class=0\n",
      "21 NODE: if feature[0] < 0.5 then next=22 else next=23\n",
      "22 LEAF: return class=0\n",
      "23 LEAF: return class=0\n",
      "24 NODE: if feature[7] < 1.5 then next=25 else next=28\n",
      "25 NODE: if feature[0] < 10.5 then next=26 else next=27\n",
      "26 LEAF: return class=1\n",
      "27 LEAF: return class=0\n",
      "28 NODE: if feature[5] < 6.5 then next=29 else next=30\n",
      "29 LEAF: return class=0\n",
      "30 LEAF: return class=0\n",
      "TREE: 1\n",
      "0 NODE: if feature[5] < 8.5 then next=1 else next=16\n",
      "1 NODE: if feature[0] < 8.5 then next=2 else next=9\n",
      "2 NODE: if feature[0] < 1.5 then next=3 else next=6\n",
      "3 NODE: if feature[7] < 2.5 then next=4 else next=5\n",
      "4 LEAF: return class=1\n",
      "5 LEAF: return class=0\n",
      "6 NODE: if feature[7] < 1.5 then next=7 else next=8\n",
      "7 LEAF: return class=0\n",
      "8 LEAF: return class=0\n",
      "9 NODE: if feature[0] < 10.5 then next=10 else next=13\n",
      "10 NODE: if feature[5] < 2.0 then next=11 else next=12\n",
      "11 LEAF: return class=0\n",
      "12 LEAF: return class=1\n",
      "13 NODE: if feature[2] < 11.5 then next=14 else next=15\n",
      "14 LEAF: return class=0\n",
      "15 LEAF: return class=0\n",
      "16 NODE: if feature[7] < 2.5 then next=17 else next=24\n",
      "17 NODE: if feature[5] < 12.5 then next=18 else next=21\n",
      "18 NODE: if feature[2] < 9.5 then next=19 else next=20\n",
      "19 LEAF: return class=1\n",
      "20 LEAF: return class=1\n",
      "21 NODE: if feature[7] < 1.5 then next=22 else next=23\n",
      "22 LEAF: return class=1\n",
      "23 LEAF: return class=0\n",
      "24 NODE: if feature[1] < 0.5 then next=25 else next=28\n",
      "25 NODE: if feature[6] < 2.0 then next=26 else next=27\n",
      "26 LEAF: return class=0\n",
      "27 LEAF: return class=0\n",
      "28 NODE: if feature[5] < 12.5 then next=29 else next=30\n",
      "29 LEAF: return class=0\n",
      "30 LEAF: return class=0\n",
      "TREE: 2\n",
      "0 NODE: if feature[1] < 1.5 then next=1 else next=10\n",
      "1 NODE: if feature[4] < 4.5 then next=2 else next=9\n",
      "2 NODE: if feature[5] < 12.5 then next=3 else next=6\n",
      "3 NODE: if feature[6] < 2.0 then next=4 else next=5\n",
      "4 LEAF: return class=0\n",
      "5 LEAF: return class=0\n",
      "6 NODE: if feature[2] < 6.5 then next=7 else next=8\n",
      "7 LEAF: return class=0\n",
      "8 LEAF: return class=0\n",
      "9 LEAF: return class=0\n",
      "10 NODE: if feature[5] < 8.5 then next=11 else next=16\n",
      "11 NODE: if feature[3] < 1.5 then next=12 else next=13\n",
      "12 LEAF: return class=0\n",
      "13 NODE: if feature[3] < 2.5 then next=14 else next=15\n",
      "14 LEAF: return class=1\n",
      "15 LEAF: return class=1\n",
      "16 NODE: if feature[2] < 2.5 then next=17 else next=20\n",
      "17 NODE: if feature[6] < 4.5 then next=18 else next=19\n",
      "18 LEAF: return class=1\n",
      "19 LEAF: return class=0\n",
      "20 NODE: if feature[4] < 2.5 then next=21 else next=22\n",
      "21 LEAF: return class=0\n",
      "22 LEAF: return class=1\n",
      "TREE: 3\n",
      "0 NODE: if feature[7] < 2.5 then next=1 else next=16\n",
      "1 NODE: if feature[6] < 8.5 then next=2 else next=9\n",
      "2 NODE: if feature[1] < 1.5 then next=3 else next=6\n",
      "3 NODE: if feature[2] < 10.5 then next=4 else next=5\n",
      "4 LEAF: return class=0\n",
      "5 LEAF: return class=0\n",
      "6 NODE: if feature[6] < 4.5 then next=7 else next=8\n",
      "7 LEAF: return class=1\n",
      "8 LEAF: return class=1\n",
      "9 NODE: if feature[2] < 6.5 then next=10 else next=13\n",
      "10 NODE: if feature[0] < 8.5 then next=11 else next=12\n",
      "11 LEAF: return class=0\n",
      "12 LEAF: return class=1\n",
      "13 NODE: if feature[1] < 1.5 then next=14 else next=15\n",
      "14 LEAF: return class=0\n",
      "15 LEAF: return class=0\n",
      "16 NODE: if feature[7] < 5.5 then next=17 else next=24\n",
      "17 NODE: if feature[2] < 2.5 then next=18 else next=21\n",
      "18 NODE: if feature[7] < 3.5 then next=19 else next=20\n",
      "19 LEAF: return class=1\n",
      "20 LEAF: return class=0\n",
      "21 NODE: if feature[6] < 8.5 then next=22 else next=23\n",
      "22 LEAF: return class=0\n",
      "23 LEAF: return class=0\n",
      "24 NODE: if feature[0] < 8.5 then next=25 else next=28\n",
      "25 NODE: if feature[1] < 1.5 then next=26 else next=27\n",
      "26 LEAF: return class=0\n",
      "27 LEAF: return class=0\n",
      "28 NODE: if feature[2] < 14.5 then next=29 else next=30\n",
      "29 LEAF: return class=1\n",
      "30 LEAF: return class=0\n",
      "TREE: 4\n",
      "0 NODE: if feature[3] < 1.5 then next=1 else next=8\n",
      "1 NODE: if feature[1] < 0.5 then next=2 else next=3\n",
      "2 LEAF: return class=0\n",
      "3 NODE: if feature[5] < 8.5 then next=4 else next=5\n",
      "4 LEAF: return class=0\n",
      "5 NODE: if feature[2] < 2.5 then next=6 else next=7\n",
      "6 LEAF: return class=1\n",
      "7 LEAF: return class=0\n",
      "8 NODE: if feature[2] < 14.5 then next=9 else next=16\n",
      "9 NODE: if feature[1] < 1.5 then next=10 else next=13\n",
      "10 NODE: if feature[0] < 7.5 then next=11 else next=12\n",
      "11 LEAF: return class=0\n",
      "12 LEAF: return class=0\n",
      "13 NODE: if feature[1] < 2.5 then next=14 else next=15\n",
      "14 LEAF: return class=1\n",
      "15 LEAF: return class=1\n",
      "16 NODE: if feature[2] < 16.5 then next=17 else next=20\n",
      "17 NODE: if feature[7] < 5.5 then next=18 else next=19\n",
      "18 LEAF: return class=1\n",
      "19 LEAF: return class=0\n",
      "20 NODE: if feature[6] < 3.0 then next=21 else next=22\n",
      "21 LEAF: return class=0\n",
      "22 LEAF: return class=0\n",
      "TREE: 5\n",
      "0 NODE: if feature[6] < 8.5 then next=1 else next=14\n",
      "1 NODE: if feature[3] < 1.5 then next=2 else next=7\n",
      "2 NODE: if feature[4] < 1.5 then next=3 else next=4\n",
      "3 LEAF: return class=0\n",
      "4 NODE: if feature[6] < 4.5 then next=5 else next=6\n",
      "5 LEAF: return class=0\n",
      "6 LEAF: return class=0\n",
      "7 NODE: if feature[5] < 12.5 then next=8 else next=11\n",
      "8 NODE: if feature[2] < 14.5 then next=9 else next=10\n",
      "9 LEAF: return class=1\n",
      "10 LEAF: return class=0\n",
      "11 NODE: if feature[1] < 1.5 then next=12 else next=13\n",
      "12 LEAF: return class=0\n",
      "13 LEAF: return class=1\n",
      "14 NODE: if feature[4] < 4.5 then next=15 else next=22\n",
      "15 NODE: if feature[7] < 1.5 then next=16 else next=19\n",
      "16 NODE: if feature[7] < 0.5 then next=17 else next=18\n",
      "17 LEAF: return class=0\n",
      "18 LEAF: return class=0\n",
      "19 NODE: if feature[2] < 8.5 then next=20 else next=21\n",
      "20 LEAF: return class=0\n",
      "21 LEAF: return class=0\n",
      "22 NODE: if feature[7] < 1.5 then next=23 else next=26\n",
      "23 NODE: if feature[2] < 7.5 then next=24 else next=25\n",
      "24 LEAF: return class=1\n",
      "25 LEAF: return class=0\n",
      "26 LEAF: return class=0\n",
      "TREE: 6\n",
      "0 NODE: if feature[6] < 8.5 then next=1 else next=16\n",
      "1 NODE: if feature[2] < 6.5 then next=2 else next=9\n",
      "2 NODE: if feature[0] < 8.5 then next=3 else next=6\n",
      "3 NODE: if feature[2] < 2.5 then next=4 else next=5\n",
      "4 LEAF: return class=1\n",
      "5 LEAF: return class=0\n",
      "6 NODE: if feature[3] < 1.5 then next=7 else next=8\n",
      "7 LEAF: return class=0\n",
      "8 LEAF: return class=1\n",
      "9 NODE: if feature[0] < 7.5 then next=10 else next=13\n",
      "10 NODE: if feature[7] < 1.5 then next=11 else next=12\n",
      "11 LEAF: return class=1\n",
      "12 LEAF: return class=0\n",
      "13 NODE: if feature[3] < 1.5 then next=14 else next=15\n",
      "14 LEAF: return class=0\n",
      "15 LEAF: return class=1\n",
      "16 NODE: if feature[7] < 1.5 then next=17 else next=22\n",
      "17 NODE: if feature[2] < 9.5 then next=18 else next=21\n",
      "18 NODE: if feature[1] < 1.5 then next=19 else next=20\n",
      "19 LEAF: return class=0\n",
      "20 LEAF: return class=1\n",
      "21 LEAF: return class=0\n",
      "22 NODE: if feature[0] < 0.5 then next=23 else next=26\n",
      "23 NODE: if feature[5] < 4.0 then next=24 else next=25\n",
      "24 LEAF: return class=0\n",
      "25 LEAF: return class=0\n",
      "26 NODE: if feature[1] < 1.5 then next=27 else next=28\n",
      "27 LEAF: return class=0\n",
      "28 LEAF: return class=0\n",
      "TREE: 7\n",
      "0 NODE: if feature[1] < 1.5 then next=1 else next=14\n",
      "1 NODE: if feature[0] < 7.5 then next=2 else next=7\n",
      "2 NODE: if feature[0] < 1.5 then next=3 else next=4\n",
      "3 LEAF: return class=1\n",
      "4 NODE: if feature[1] < 0.5 then next=5 else next=6\n",
      "5 LEAF: return class=0\n",
      "6 LEAF: return class=0\n",
      "7 NODE: if feature[2] < 6.5 then next=8 else next=11\n",
      "8 NODE: if feature[1] < 0.5 then next=9 else next=10\n",
      "9 LEAF: return class=0\n",
      "10 LEAF: return class=1\n",
      "11 NODE: if feature[6] < 3.0 then next=12 else next=13\n",
      "12 LEAF: return class=1\n",
      "13 LEAF: return class=0\n",
      "14 NODE: if feature[4] < 2.5 then next=15 else next=22\n",
      "15 NODE: if feature[0] < 0.5 then next=16 else next=19\n",
      "16 NODE: if feature[6] < 6.5 then next=17 else next=18\n",
      "17 LEAF: return class=1\n",
      "18 LEAF: return class=0\n",
      "19 NODE: if feature[2] < 5.5 then next=20 else next=21\n",
      "20 LEAF: return class=0\n",
      "21 LEAF: return class=1\n",
      "22 NODE: if feature[7] < 2.5 then next=23 else next=26\n",
      "23 NODE: if feature[2] < 6.5 then next=24 else next=25\n",
      "24 LEAF: return class=1\n",
      "25 LEAF: return class=1\n",
      "26 NODE: if feature[7] < 6.5 then next=27 else next=28\n",
      "27 LEAF: return class=0\n",
      "28 LEAF: return class=1\n",
      "TREE: 8\n",
      "0 NODE: if feature[7] < 2.5 then next=1 else next=14\n",
      "1 NODE: if feature[6] < 8.5 then next=2 else next=9\n",
      "2 NODE: if feature[1] < 1.5 then next=3 else next=6\n",
      "3 NODE: if feature[7] < 0.5 then next=4 else next=5\n",
      "4 LEAF: return class=0\n",
      "5 LEAF: return class=0\n",
      "6 NODE: if feature[1] < 2.5 then next=7 else next=8\n",
      "7 LEAF: return class=1\n",
      "8 LEAF: return class=1\n",
      "9 NODE: if feature[7] < 0.5 then next=10 else next=11\n",
      "10 LEAF: return class=0\n",
      "11 NODE: if feature[7] < 1.5 then next=12 else next=13\n",
      "12 LEAF: return class=1\n",
      "13 LEAF: return class=0\n",
      "14 NODE: if feature[6] < 8.5 then next=15 else next=22\n",
      "15 NODE: if feature[1] < 1.5 then next=16 else next=19\n",
      "16 NODE: if feature[0] < 8.5 then next=17 else next=18\n",
      "17 LEAF: return class=0\n",
      "18 LEAF: return class=1\n",
      "19 NODE: if feature[7] < 5.5 then next=20 else next=21\n",
      "20 LEAF: return class=0\n",
      "21 LEAF: return class=1\n",
      "22 NODE: if feature[7] < 5.5 then next=23 else next=26\n",
      "23 NODE: if feature[6] < 10.5 then next=24 else next=25\n",
      "24 LEAF: return class=0\n",
      "25 LEAF: return class=0\n",
      "26 NODE: if feature[3] < 2.5 then next=27 else next=28\n",
      "27 LEAF: return class=0\n",
      "28 LEAF: return class=1\n",
      "TREE: 9\n",
      "0 NODE: if feature[1] < 1.5 then next=1 else next=14\n",
      "1 NODE: if feature[2] < 10.5 then next=2 else next=9\n",
      "2 NODE: if feature[7] < 2.5 then next=3 else next=6\n",
      "3 NODE: if feature[6] < 2.5 then next=4 else next=5\n",
      "4 LEAF: return class=0\n",
      "5 LEAF: return class=0\n",
      "6 NODE: if feature[6] < 2.0 then next=7 else next=8\n",
      "7 LEAF: return class=0\n",
      "8 LEAF: return class=0\n",
      "9 NODE: if feature[7] < 2.0 then next=10 else next=11\n",
      "10 LEAF: return class=0\n",
      "11 NODE: if feature[2] < 14.5 then next=12 else next=13\n",
      "12 LEAF: return class=0\n",
      "13 LEAF: return class=0\n",
      "14 NODE: if feature[7] < 2.5 then next=15 else next=22\n",
      "15 NODE: if feature[1] < 2.5 then next=16 else next=19\n",
      "16 NODE: if feature[5] < 12.5 then next=17 else next=18\n",
      "17 LEAF: return class=1\n",
      "18 LEAF: return class=1\n",
      "19 NODE: if feature[7] < 1.5 then next=20 else next=21\n",
      "20 LEAF: return class=1\n",
      "21 LEAF: return class=1\n",
      "22 NODE: if feature[7] < 5.5 then next=23 else next=26\n",
      "23 NODE: if feature[0] < 0.5 then next=24 else next=25\n",
      "24 LEAF: return class=1\n",
      "25 LEAF: return class=0\n",
      "26 NODE: if feature[6] < 8.5 then next=27 else next=28\n",
      "27 LEAF: return class=1\n",
      "28 LEAF: return class=0\n"
     ]
    }
   ],
   "source": [
    "import numpy\n",
    "from sklearn.model_selection import train_test_split\n",
    "# from sklearn import metrics, datasets, ensemble\n",
    "\n",
    "def print_decision_rules(rf):\n",
    "\n",
    "    for tree_idx, est in enumerate(rf.estimators_):\n",
    "        tree = est.tree_\n",
    "        assert tree.value.shape[1] == 1 # no support for multi-output\n",
    "\n",
    "        print('TREE: {}'.format(tree_idx))\n",
    "\n",
    "        iterator = enumerate(zip(tree.children_left, tree.children_right, tree.feature, tree.threshold, tree.value))\n",
    "        for node_idx, data in iterator:\n",
    "            left, right, feature, th, value = data\n",
    "\n",
    "            # left: index of left child (if any)\n",
    "            # right: index of right child (if any)\n",
    "            # feature: index of the feature to check\n",
    "            # th: the threshold to compare against\n",
    "            # value: values associated with classes            \n",
    "\n",
    "            # for classifier, value is 0 except the index of the class to return\n",
    "            class_idx = numpy.argmax(value[0])\n",
    "\n",
    "            if left == -1 and right == -1:\n",
    "                print('{} LEAF: return class={}'.format(node_idx, class_idx))\n",
    "            else:\n",
    "                print('{} NODE: if feature[{}] < {} then next={} else next={}'.format(node_idx, feature, th, left, right))    \n",
    "\n",
    "\n",
    "\n",
    "# digits = datasets.load_digits()\n",
    "# Xtrain, Xtest, ytrain, ytest = train_test_split(digits.data, digits.target)\n",
    "# estimator = ensemble.RandomForestClassifier(n_estimators=3, max_depth=2)\n",
    "# estimator.fit(Xtrain, ytrain)\n",
    "\n",
    "print_decision_rules(clf_model)"
   ]
  }
 ],
 "metadata": {
  "interpreter": {
   "hash": "e4f2e29d4792ba744ec37cfe5d9e06cb1682524f233fc37b58180c94e420ae9c"
  },
  "kernelspec": {
   "display_name": "Python 3.9.12 ('base')",
   "language": "python",
   "name": "python3"
  },
  "language_info": {
   "codemirror_mode": {
    "name": "ipython",
    "version": 3
   },
   "file_extension": ".py",
   "mimetype": "text/x-python",
   "name": "python",
   "nbconvert_exporter": "python",
   "pygments_lexer": "ipython3",
   "version": "3.9.12"
  },
  "orig_nbformat": 4
 },
 "nbformat": 4,
 "nbformat_minor": 2
}
