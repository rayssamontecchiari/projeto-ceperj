{
 "cells": [
  {
   "cell_type": "markdown",
   "metadata": {},
   "source": [
    "Vamos começar obtendo os dados para análise. \n",
    "Nós acrescentamos uma classe chamada \"mais_atropelada\" e atribuimos 1 para o anfibio mais atropelado e 0 para todos os demais. "
   ]
  },
  {
   "cell_type": "code",
   "execution_count": 21,
   "metadata": {},
   "outputs": [
    {
     "data": {
      "text/html": [
       "<div>\n",
       "<style scoped>\n",
       "    .dataframe tbody tr th:only-of-type {\n",
       "        vertical-align: middle;\n",
       "    }\n",
       "\n",
       "    .dataframe tbody tr th {\n",
       "        vertical-align: top;\n",
       "    }\n",
       "\n",
       "    .dataframe thead th {\n",
       "        text-align: right;\n",
       "    }\n",
       "</style>\n",
       "<table border=\"1\" class=\"dataframe\">\n",
       "  <thead>\n",
       "    <tr style=\"text-align: right;\">\n",
       "      <th></th>\n",
       "      <th>Mês</th>\n",
       "      <th>Estação</th>\n",
       "      <th>Trecho</th>\n",
       "      <th>Sentido</th>\n",
       "      <th>Trecho macro</th>\n",
       "      <th>Tipo De Pistas</th>\n",
       "      <th>Numero de Pistas</th>\n",
       "      <th>Tipo de Pavimento</th>\n",
       "      <th>Numero de Faixas</th>\n",
       "      <th>Velocidade Maxima</th>\n",
       "      <th>...</th>\n",
       "      <th>Agua?</th>\n",
       "      <th>Vegetação Baixa?</th>\n",
       "      <th>capimAlto</th>\n",
       "      <th>Arbustos</th>\n",
       "      <th>Floresta</th>\n",
       "      <th>Local</th>\n",
       "      <th>Com filhotes?</th>\n",
       "      <th>Faixa Horário da Coleta</th>\n",
       "      <th>Faixa de Quilometragem</th>\n",
       "      <th>É anfíbio mais atropelado?</th>\n",
       "    </tr>\n",
       "  </thead>\n",
       "  <tbody>\n",
       "    <tr>\n",
       "      <th>0</th>\n",
       "      <td>4</td>\n",
       "      <td>Outono</td>\n",
       "      <td>2</td>\n",
       "      <td>JF</td>\n",
       "      <td>Baixada</td>\n",
       "      <td>Sem divisão</td>\n",
       "      <td>1</td>\n",
       "      <td>Pavimento flexível (asfalto)</td>\n",
       "      <td>4</td>\n",
       "      <td>110</td>\n",
       "      <td>...</td>\n",
       "      <td>sim</td>\n",
       "      <td>Desconhecido</td>\n",
       "      <td>Desconhecido</td>\n",
       "      <td>Desconhecido</td>\n",
       "      <td>Desconhecido</td>\n",
       "      <td>Pista de rolamento</td>\n",
       "      <td>Desconhecido</td>\n",
       "      <td>Entre 00 e 06</td>\n",
       "      <td>Entre 100 e 125</td>\n",
       "      <td>0</td>\n",
       "    </tr>\n",
       "    <tr>\n",
       "      <th>1</th>\n",
       "      <td>4</td>\n",
       "      <td>Outono</td>\n",
       "      <td>4</td>\n",
       "      <td>JF</td>\n",
       "      <td>Serra</td>\n",
       "      <td>Sem divisão</td>\n",
       "      <td>1</td>\n",
       "      <td>Pavimento rígido</td>\n",
       "      <td>2</td>\n",
       "      <td>60</td>\n",
       "      <td>...</td>\n",
       "      <td>sim</td>\n",
       "      <td>Desconhecido</td>\n",
       "      <td>Desconhecido</td>\n",
       "      <td>Desconhecido</td>\n",
       "      <td>Desconhecido</td>\n",
       "      <td>Pista de rolamento</td>\n",
       "      <td>Desconhecido</td>\n",
       "      <td>Entre 06 e 12</td>\n",
       "      <td>Entre 75 e 100</td>\n",
       "      <td>0</td>\n",
       "    </tr>\n",
       "    <tr>\n",
       "      <th>2</th>\n",
       "      <td>5</td>\n",
       "      <td>Outono</td>\n",
       "      <td>5</td>\n",
       "      <td>JF</td>\n",
       "      <td>Serra</td>\n",
       "      <td>Sem divisão</td>\n",
       "      <td>1</td>\n",
       "      <td>Pavimento semi-flexível</td>\n",
       "      <td>2</td>\n",
       "      <td>60</td>\n",
       "      <td>...</td>\n",
       "      <td>sim</td>\n",
       "      <td>Desconhecido</td>\n",
       "      <td>Desconhecido</td>\n",
       "      <td>Desconhecido</td>\n",
       "      <td>Desconhecido</td>\n",
       "      <td>Desconhecido</td>\n",
       "      <td>Desconhecido</td>\n",
       "      <td>Entre 12 e 18</td>\n",
       "      <td>Entre 75 e 100</td>\n",
       "      <td>0</td>\n",
       "    </tr>\n",
       "    <tr>\n",
       "      <th>3</th>\n",
       "      <td>6</td>\n",
       "      <td>Outono</td>\n",
       "      <td>7</td>\n",
       "      <td>RJ</td>\n",
       "      <td>Planalto</td>\n",
       "      <td>Defensa Metálica</td>\n",
       "      <td>2</td>\n",
       "      <td>Pavimento flexível (asfalto)</td>\n",
       "      <td>4</td>\n",
       "      <td>60</td>\n",
       "      <td>...</td>\n",
       "      <td>sim</td>\n",
       "      <td>Desconhecido</td>\n",
       "      <td>Desconhecido</td>\n",
       "      <td>Desconhecido</td>\n",
       "      <td>Desconhecido</td>\n",
       "      <td>Acostamento</td>\n",
       "      <td>Desconhecido</td>\n",
       "      <td>Entre 06 e 12</td>\n",
       "      <td>Entre 50 e 75</td>\n",
       "      <td>0</td>\n",
       "    </tr>\n",
       "    <tr>\n",
       "      <th>4</th>\n",
       "      <td>6</td>\n",
       "      <td>Outono</td>\n",
       "      <td>3</td>\n",
       "      <td>RJ</td>\n",
       "      <td>Serra</td>\n",
       "      <td>Defensa Metálica</td>\n",
       "      <td>2</td>\n",
       "      <td>Pavimento flexível (asfalto)</td>\n",
       "      <td>4</td>\n",
       "      <td>80</td>\n",
       "      <td>...</td>\n",
       "      <td>não</td>\n",
       "      <td>Desconhecido</td>\n",
       "      <td>Desconhecido</td>\n",
       "      <td>Desconhecido</td>\n",
       "      <td>Desconhecido</td>\n",
       "      <td>Acesso/ Retorno</td>\n",
       "      <td>Desconhecido</td>\n",
       "      <td>Entre 12 e 18</td>\n",
       "      <td>Entre 100 e 125</td>\n",
       "      <td>0</td>\n",
       "    </tr>\n",
       "  </tbody>\n",
       "</table>\n",
       "<p>5 rows × 23 columns</p>\n",
       "</div>"
      ],
      "text/plain": [
       "   Mês Estação  Trecho Sentido Trecho macro    Tipo De Pistas  \\\n",
       "0    4  Outono       2      JF      Baixada       Sem divisão   \n",
       "1    4  Outono       4      JF        Serra       Sem divisão   \n",
       "2    5  Outono       5      JF        Serra       Sem divisão   \n",
       "3    6  Outono       7      RJ     Planalto  Defensa Metálica   \n",
       "4    6  Outono       3      RJ        Serra  Defensa Metálica   \n",
       "\n",
       "  Numero de Pistas             Tipo de Pavimento Numero de Faixas  \\\n",
       "0                1  Pavimento flexível (asfalto)                4   \n",
       "1                1              Pavimento rígido                2   \n",
       "2                1       Pavimento semi-flexível                2   \n",
       "3                2  Pavimento flexível (asfalto)                4   \n",
       "4                2  Pavimento flexível (asfalto)                4   \n",
       "\n",
       "  Velocidade Maxima  ... Agua? Vegetação Baixa?     capimAlto      Arbustos  \\\n",
       "0               110  ...   sim     Desconhecido  Desconhecido  Desconhecido   \n",
       "1                60  ...   sim     Desconhecido  Desconhecido  Desconhecido   \n",
       "2                60  ...   sim     Desconhecido  Desconhecido  Desconhecido   \n",
       "3                60  ...   sim     Desconhecido  Desconhecido  Desconhecido   \n",
       "4                80  ...   não     Desconhecido  Desconhecido  Desconhecido   \n",
       "\n",
       "       Floresta               Local Com filhotes? Faixa Horário da Coleta  \\\n",
       "0  Desconhecido  Pista de rolamento  Desconhecido           Entre 00 e 06   \n",
       "1  Desconhecido  Pista de rolamento  Desconhecido           Entre 06 e 12   \n",
       "2  Desconhecido        Desconhecido  Desconhecido           Entre 12 e 18   \n",
       "3  Desconhecido         Acostamento  Desconhecido           Entre 06 e 12   \n",
       "4  Desconhecido     Acesso/ Retorno  Desconhecido           Entre 12 e 18   \n",
       "\n",
       "  Faixa de Quilometragem É anfíbio mais atropelado?  \n",
       "0        Entre 100 e 125                          0  \n",
       "1         Entre 75 e 100                          0  \n",
       "2         Entre 75 e 100                          0  \n",
       "3          Entre 50 e 75                          0  \n",
       "4        Entre 100 e 125                          0  \n",
       "\n",
       "[5 rows x 23 columns]"
      ]
     },
     "execution_count": 21,
     "metadata": {},
     "output_type": "execute_result"
    }
   ],
   "source": [
    "import pandas as pd\n",
    "\n",
    "# seleciona os dados do arquivos\n",
    "# data frame (df) - molde de dados\n",
    "dados = pd.read_csv('CSV_Anfibios_Cortada.csv')\n",
    "dados.head()"
   ]
  },
  {
   "cell_type": "markdown",
   "metadata": {},
   "source": [
    "Agora vamos separar os atributos a serem estudados da classe a ser prevista. "
   ]
  },
  {
   "cell_type": "code",
   "execution_count": 22,
   "metadata": {},
   "outputs": [],
   "source": [
    "Y_df = dados['É anfíbio mais atropelado?']  \n",
    "X_df = dados[[\"Mês\", \"Estação\", \n",
    "              \"Trecho\", \"Sentido\", \"Trecho macro\",\n",
    "              \"Tipo De Pistas\", \"Numero de Pistas\",\n",
    "              \"Tipo de Pavimento\", \"Numero de Faixas\",\n",
    "              \"Velocidade Maxima\", \"Tipo da Chuva\",\"Intervencao\",\n",
    "              \"Vazamento\", \"Agua?\", \"Vegetação Baixa?\",\"capimAlto\",\n",
    "              \"Arbustos\",\"Floresta\",\"Local\",\"Com filhotes?\",\n",
    "              \"Faixa Horário da Coleta\",\"Faixa de Quilometragem\"]]\n",
    "\n",
    "features = [\"Mês\", \"Estação\", \n",
    "              \"Trecho\", \"Sentido\", \"Trecho macro\",\n",
    "              \"Tipo De Pistas\", \"Numero de Pistas\",\n",
    "              \"Tipo de Pavimento\", \"Numero de Faixas\",\n",
    "              \"Velocidade Maxima\", \"Tipo da Chuva\",\"Intervencao\",\n",
    "              \"Vazamento\", \"Agua?\", \"Vegetação Baixa?\",\"capimAlto\",\n",
    "              \"Arbustos\",\"Floresta\",\"Local\",\"Com filhotes?\",\n",
    "              \"Faixa Horário da Coleta\",\"Faixa de Quilometragem\"]"
   ]
  },
  {
   "cell_type": "markdown",
   "metadata": {},
   "source": [
    "Podemos analisar qual a proporção de atropelados para não atropelados."
   ]
  },
  {
   "cell_type": "code",
   "execution_count": 23,
   "metadata": {},
   "outputs": [
    {
     "data": {
      "text/plain": [
       "0    12915\n",
       "1      181\n",
       "Name: É anfíbio mais atropelado?, dtype: int64"
      ]
     },
     "execution_count": 23,
     "metadata": {},
     "output_type": "execute_result"
    }
   ],
   "source": [
    "Y_df.value_counts()"
   ]
  },
  {
   "cell_type": "code",
   "execution_count": 24,
   "metadata": {},
   "outputs": [],
   "source": [
    "#  Transformando em um array \n",
    "x = X_df.values\n",
    "y = Y_df.values"
   ]
  },
  {
   "cell_type": "markdown",
   "metadata": {},
   "source": [
    "Agora vamos preparar para o modelo, dividindo os dados para teste e para treino:"
   ]
  },
  {
   "cell_type": "code",
   "execution_count": 25,
   "metadata": {},
   "outputs": [],
   "source": [
    "# divide os dados 2/3 treino, 1/3 teste\n",
    "porcentagem_treino = 0.67\n",
    "porcentagem_teste  = 0.33\n",
    "\n",
    "tamanho_treino    = int(porcentagem_treino * len(y))\n",
    "tamanho_teste     = int(porcentagem_teste * len(y))\n",
    "\n",
    "# 0 ate 67% -> treino\n",
    "treino_x = x[0:tamanho_treino]\n",
    "treino_y = y[0:tamanho_treino]\n",
    "\n",
    "# 67 ate 100% - teste\n",
    "teste_x = x[tamanho_treino:]\n",
    "teste_y = y[tamanho_treino:]\n",
    "\n",
    "\n"
   ]
  },
  {
   "cell_type": "markdown",
   "metadata": {},
   "source": [
    "Vamos criar uma função que treina o modelo, faz as previsoes e retorna a taxa de acerto"
   ]
  },
  {
   "cell_type": "code",
   "execution_count": 26,
   "metadata": {},
   "outputs": [],
   "source": [
    "def fit_predict_model(nome, modelo):\n",
    "    # treina modelo\n",
    "    modelo.fit(treino_x, treino_y)\n",
    "    \n",
    "    # testa modelo\n",
    "    teste = modelo.predict(teste_x) # Pega as previsoes do modelo para os valores X de teste\n",
    "    acertos = teste == teste_y # Verifica se o modelo acertou\n",
    "\n",
    "    total_de_acertos = sum(acertos)\n",
    "    total_de_elementos = len(teste_x)\n",
    "\n",
    "    taxa_de_acerto = 100.0 * total_de_acertos / total_de_elementos\n",
    "\n",
    "    msg = \"A taxa de acerto do {} foi: {:.2f}%\".format(nome, taxa_de_acerto)\n",
    "    print(msg)\n",
    "\n",
    "    return taxa_de_acerto"
   ]
  },
  {
   "cell_type": "markdown",
   "metadata": {},
   "source": [
    "O Naive Bayes possui alguns tipos de algoritmos diferentes, vamos testar qual é o melhor.\n",
    "Vamos importar os modelos e chamar a função para cada um deles. "
   ]
  },
  {
   "cell_type": "code",
   "execution_count": 27,
   "metadata": {},
   "outputs": [
    {
     "ename": "ValueError",
     "evalue": "could not convert string to float: 'Outono'",
     "output_type": "error",
     "traceback": [
      "\u001b[1;31m---------------------------------------------------------------------------\u001b[0m",
      "\u001b[1;31mValueError\u001b[0m                                Traceback (most recent call last)",
      "\u001b[1;32mc:\\Users\\rayss\\Desktop\\Estagio Ceperj\\anfibio2.ipynb Cell 13'\u001b[0m in \u001b[0;36m<cell line: 6>\u001b[1;34m()\u001b[0m\n\u001b[0;32m      <a href='vscode-notebook-cell:/c%3A/Users/rayss/Desktop/Estagio%20Ceperj/anfibio2.ipynb#ch0000012?line=2'>3</a>\u001b[0m \u001b[39mfrom\u001b[39;00m \u001b[39msklearn\u001b[39;00m\u001b[39m.\u001b[39;00m\u001b[39mnaive_bayes\u001b[39;00m \u001b[39mimport\u001b[39;00m BernoulliNB\n\u001b[0;32m      <a href='vscode-notebook-cell:/c%3A/Users/rayss/Desktop/Estagio%20Ceperj/anfibio2.ipynb#ch0000012?line=4'>5</a>\u001b[0m modelo_multinomial \u001b[39m=\u001b[39m MultinomialNB ()\n\u001b[1;32m----> <a href='vscode-notebook-cell:/c%3A/Users/rayss/Desktop/Estagio%20Ceperj/anfibio2.ipynb#ch0000012?line=5'>6</a>\u001b[0m resultado_multinomial \u001b[39m=\u001b[39m fit_predict_model(\u001b[39m\"\u001b[39;49m\u001b[39mMultinomial\u001b[39;49m\u001b[39m\"\u001b[39;49m, modelo_multinomial)\n\u001b[0;32m      <a href='vscode-notebook-cell:/c%3A/Users/rayss/Desktop/Estagio%20Ceperj/anfibio2.ipynb#ch0000012?line=7'>8</a>\u001b[0m modelo_gaussiano \u001b[39m=\u001b[39m GaussianNB ()\n\u001b[0;32m      <a href='vscode-notebook-cell:/c%3A/Users/rayss/Desktop/Estagio%20Ceperj/anfibio2.ipynb#ch0000012?line=8'>9</a>\u001b[0m resultado_gaussiano \u001b[39m=\u001b[39m fit_predict_model(\u001b[39m\"\u001b[39m\u001b[39mgaussiano\u001b[39m\u001b[39m\"\u001b[39m, modelo_gaussiano)\n",
      "\u001b[1;32mc:\\Users\\rayss\\Desktop\\Estagio Ceperj\\anfibio2.ipynb Cell 11'\u001b[0m in \u001b[0;36mfit_predict_model\u001b[1;34m(nome, modelo)\u001b[0m\n\u001b[0;32m      <a href='vscode-notebook-cell:/c%3A/Users/rayss/Desktop/Estagio%20Ceperj/anfibio2.ipynb#ch0000010?line=0'>1</a>\u001b[0m \u001b[39mdef\u001b[39;00m \u001b[39mfit_predict_model\u001b[39m(nome, modelo):\n\u001b[0;32m      <a href='vscode-notebook-cell:/c%3A/Users/rayss/Desktop/Estagio%20Ceperj/anfibio2.ipynb#ch0000010?line=1'>2</a>\u001b[0m     \u001b[39m# treina modelo\u001b[39;00m\n\u001b[1;32m----> <a href='vscode-notebook-cell:/c%3A/Users/rayss/Desktop/Estagio%20Ceperj/anfibio2.ipynb#ch0000010?line=2'>3</a>\u001b[0m     modelo\u001b[39m.\u001b[39;49mfit(treino_x, treino_y)\n\u001b[0;32m      <a href='vscode-notebook-cell:/c%3A/Users/rayss/Desktop/Estagio%20Ceperj/anfibio2.ipynb#ch0000010?line=4'>5</a>\u001b[0m     \u001b[39m# testa modelo\u001b[39;00m\n\u001b[0;32m      <a href='vscode-notebook-cell:/c%3A/Users/rayss/Desktop/Estagio%20Ceperj/anfibio2.ipynb#ch0000010?line=5'>6</a>\u001b[0m     teste \u001b[39m=\u001b[39m modelo\u001b[39m.\u001b[39mpredict(teste_x) \u001b[39m# Pega as previsoes do modelo para os valores X de teste\u001b[39;00m\n",
      "File \u001b[1;32mc:\\Users\\rayss\\miniconda3\\lib\\site-packages\\sklearn\\naive_bayes.py:663\u001b[0m, in \u001b[0;36m_BaseDiscreteNB.fit\u001b[1;34m(self, X, y, sample_weight)\u001b[0m\n\u001b[0;32m    <a href='file:///c%3A/Users/rayss/miniconda3/lib/site-packages/sklearn/naive_bayes.py?line=642'>643</a>\u001b[0m \u001b[39mdef\u001b[39;00m \u001b[39mfit\u001b[39m(\u001b[39mself\u001b[39m, X, y, sample_weight\u001b[39m=\u001b[39m\u001b[39mNone\u001b[39;00m):\n\u001b[0;32m    <a href='file:///c%3A/Users/rayss/miniconda3/lib/site-packages/sklearn/naive_bayes.py?line=643'>644</a>\u001b[0m     \u001b[39m\"\"\"Fit Naive Bayes classifier according to X, y.\u001b[39;00m\n\u001b[0;32m    <a href='file:///c%3A/Users/rayss/miniconda3/lib/site-packages/sklearn/naive_bayes.py?line=644'>645</a>\u001b[0m \n\u001b[0;32m    <a href='file:///c%3A/Users/rayss/miniconda3/lib/site-packages/sklearn/naive_bayes.py?line=645'>646</a>\u001b[0m \u001b[39m    Parameters\u001b[39;00m\n\u001b[1;32m   (...)\u001b[0m\n\u001b[0;32m    <a href='file:///c%3A/Users/rayss/miniconda3/lib/site-packages/sklearn/naive_bayes.py?line=660'>661</a>\u001b[0m \u001b[39m        Returns the instance itself.\u001b[39;00m\n\u001b[0;32m    <a href='file:///c%3A/Users/rayss/miniconda3/lib/site-packages/sklearn/naive_bayes.py?line=661'>662</a>\u001b[0m \u001b[39m    \"\"\"\u001b[39;00m\n\u001b[1;32m--> <a href='file:///c%3A/Users/rayss/miniconda3/lib/site-packages/sklearn/naive_bayes.py?line=662'>663</a>\u001b[0m     X, y \u001b[39m=\u001b[39m \u001b[39mself\u001b[39;49m\u001b[39m.\u001b[39;49m_check_X_y(X, y)\n\u001b[0;32m    <a href='file:///c%3A/Users/rayss/miniconda3/lib/site-packages/sklearn/naive_bayes.py?line=663'>664</a>\u001b[0m     _, n_features \u001b[39m=\u001b[39m X\u001b[39m.\u001b[39mshape\n\u001b[0;32m    <a href='file:///c%3A/Users/rayss/miniconda3/lib/site-packages/sklearn/naive_bayes.py?line=665'>666</a>\u001b[0m     labelbin \u001b[39m=\u001b[39m LabelBinarizer()\n",
      "File \u001b[1;32mc:\\Users\\rayss\\miniconda3\\lib\\site-packages\\sklearn\\naive_bayes.py:523\u001b[0m, in \u001b[0;36m_BaseDiscreteNB._check_X_y\u001b[1;34m(self, X, y, reset)\u001b[0m\n\u001b[0;32m    <a href='file:///c%3A/Users/rayss/miniconda3/lib/site-packages/sklearn/naive_bayes.py?line=520'>521</a>\u001b[0m \u001b[39mdef\u001b[39;00m \u001b[39m_check_X_y\u001b[39m(\u001b[39mself\u001b[39m, X, y, reset\u001b[39m=\u001b[39m\u001b[39mTrue\u001b[39;00m):\n\u001b[0;32m    <a href='file:///c%3A/Users/rayss/miniconda3/lib/site-packages/sklearn/naive_bayes.py?line=521'>522</a>\u001b[0m     \u001b[39m\"\"\"Validate X and y in fit methods.\"\"\"\u001b[39;00m\n\u001b[1;32m--> <a href='file:///c%3A/Users/rayss/miniconda3/lib/site-packages/sklearn/naive_bayes.py?line=522'>523</a>\u001b[0m     \u001b[39mreturn\u001b[39;00m \u001b[39mself\u001b[39;49m\u001b[39m.\u001b[39;49m_validate_data(X, y, accept_sparse\u001b[39m=\u001b[39;49m\u001b[39m\"\u001b[39;49m\u001b[39mcsr\u001b[39;49m\u001b[39m\"\u001b[39;49m, reset\u001b[39m=\u001b[39;49mreset)\n",
      "File \u001b[1;32mc:\\Users\\rayss\\miniconda3\\lib\\site-packages\\sklearn\\base.py:576\u001b[0m, in \u001b[0;36mBaseEstimator._validate_data\u001b[1;34m(self, X, y, reset, validate_separately, **check_params)\u001b[0m\n\u001b[0;32m    <a href='file:///c%3A/Users/rayss/miniconda3/lib/site-packages/sklearn/base.py?line=573'>574</a>\u001b[0m         y \u001b[39m=\u001b[39m check_array(y, \u001b[39m*\u001b[39m\u001b[39m*\u001b[39mcheck_y_params)\n\u001b[0;32m    <a href='file:///c%3A/Users/rayss/miniconda3/lib/site-packages/sklearn/base.py?line=574'>575</a>\u001b[0m     \u001b[39melse\u001b[39;00m:\n\u001b[1;32m--> <a href='file:///c%3A/Users/rayss/miniconda3/lib/site-packages/sklearn/base.py?line=575'>576</a>\u001b[0m         X, y \u001b[39m=\u001b[39m check_X_y(X, y, \u001b[39m*\u001b[39m\u001b[39m*\u001b[39mcheck_params)\n\u001b[0;32m    <a href='file:///c%3A/Users/rayss/miniconda3/lib/site-packages/sklearn/base.py?line=576'>577</a>\u001b[0m     out \u001b[39m=\u001b[39m X, y\n\u001b[0;32m    <a href='file:///c%3A/Users/rayss/miniconda3/lib/site-packages/sklearn/base.py?line=578'>579</a>\u001b[0m \u001b[39mif\u001b[39;00m \u001b[39mnot\u001b[39;00m no_val_X \u001b[39mand\u001b[39;00m check_params\u001b[39m.\u001b[39mget(\u001b[39m\"\u001b[39m\u001b[39mensure_2d\u001b[39m\u001b[39m\"\u001b[39m, \u001b[39mTrue\u001b[39;00m):\n",
      "File \u001b[1;32mc:\\Users\\rayss\\miniconda3\\lib\\site-packages\\sklearn\\utils\\validation.py:956\u001b[0m, in \u001b[0;36mcheck_X_y\u001b[1;34m(X, y, accept_sparse, accept_large_sparse, dtype, order, copy, force_all_finite, ensure_2d, allow_nd, multi_output, ensure_min_samples, ensure_min_features, y_numeric, estimator)\u001b[0m\n\u001b[0;32m    <a href='file:///c%3A/Users/rayss/miniconda3/lib/site-packages/sklearn/utils/validation.py?line=952'>953</a>\u001b[0m \u001b[39mif\u001b[39;00m y \u001b[39mis\u001b[39;00m \u001b[39mNone\u001b[39;00m:\n\u001b[0;32m    <a href='file:///c%3A/Users/rayss/miniconda3/lib/site-packages/sklearn/utils/validation.py?line=953'>954</a>\u001b[0m     \u001b[39mraise\u001b[39;00m \u001b[39mValueError\u001b[39;00m(\u001b[39m\"\u001b[39m\u001b[39my cannot be None\u001b[39m\u001b[39m\"\u001b[39m)\n\u001b[1;32m--> <a href='file:///c%3A/Users/rayss/miniconda3/lib/site-packages/sklearn/utils/validation.py?line=955'>956</a>\u001b[0m X \u001b[39m=\u001b[39m check_array(\n\u001b[0;32m    <a href='file:///c%3A/Users/rayss/miniconda3/lib/site-packages/sklearn/utils/validation.py?line=956'>957</a>\u001b[0m     X,\n\u001b[0;32m    <a href='file:///c%3A/Users/rayss/miniconda3/lib/site-packages/sklearn/utils/validation.py?line=957'>958</a>\u001b[0m     accept_sparse\u001b[39m=\u001b[39;49maccept_sparse,\n\u001b[0;32m    <a href='file:///c%3A/Users/rayss/miniconda3/lib/site-packages/sklearn/utils/validation.py?line=958'>959</a>\u001b[0m     accept_large_sparse\u001b[39m=\u001b[39;49maccept_large_sparse,\n\u001b[0;32m    <a href='file:///c%3A/Users/rayss/miniconda3/lib/site-packages/sklearn/utils/validation.py?line=959'>960</a>\u001b[0m     dtype\u001b[39m=\u001b[39;49mdtype,\n\u001b[0;32m    <a href='file:///c%3A/Users/rayss/miniconda3/lib/site-packages/sklearn/utils/validation.py?line=960'>961</a>\u001b[0m     order\u001b[39m=\u001b[39;49morder,\n\u001b[0;32m    <a href='file:///c%3A/Users/rayss/miniconda3/lib/site-packages/sklearn/utils/validation.py?line=961'>962</a>\u001b[0m     copy\u001b[39m=\u001b[39;49mcopy,\n\u001b[0;32m    <a href='file:///c%3A/Users/rayss/miniconda3/lib/site-packages/sklearn/utils/validation.py?line=962'>963</a>\u001b[0m     force_all_finite\u001b[39m=\u001b[39;49mforce_all_finite,\n\u001b[0;32m    <a href='file:///c%3A/Users/rayss/miniconda3/lib/site-packages/sklearn/utils/validation.py?line=963'>964</a>\u001b[0m     ensure_2d\u001b[39m=\u001b[39;49mensure_2d,\n\u001b[0;32m    <a href='file:///c%3A/Users/rayss/miniconda3/lib/site-packages/sklearn/utils/validation.py?line=964'>965</a>\u001b[0m     allow_nd\u001b[39m=\u001b[39;49mallow_nd,\n\u001b[0;32m    <a href='file:///c%3A/Users/rayss/miniconda3/lib/site-packages/sklearn/utils/validation.py?line=965'>966</a>\u001b[0m     ensure_min_samples\u001b[39m=\u001b[39;49mensure_min_samples,\n\u001b[0;32m    <a href='file:///c%3A/Users/rayss/miniconda3/lib/site-packages/sklearn/utils/validation.py?line=966'>967</a>\u001b[0m     ensure_min_features\u001b[39m=\u001b[39;49mensure_min_features,\n\u001b[0;32m    <a href='file:///c%3A/Users/rayss/miniconda3/lib/site-packages/sklearn/utils/validation.py?line=967'>968</a>\u001b[0m     estimator\u001b[39m=\u001b[39;49mestimator,\n\u001b[0;32m    <a href='file:///c%3A/Users/rayss/miniconda3/lib/site-packages/sklearn/utils/validation.py?line=968'>969</a>\u001b[0m )\n\u001b[0;32m    <a href='file:///c%3A/Users/rayss/miniconda3/lib/site-packages/sklearn/utils/validation.py?line=970'>971</a>\u001b[0m y \u001b[39m=\u001b[39m _check_y(y, multi_output\u001b[39m=\u001b[39mmulti_output, y_numeric\u001b[39m=\u001b[39my_numeric)\n\u001b[0;32m    <a href='file:///c%3A/Users/rayss/miniconda3/lib/site-packages/sklearn/utils/validation.py?line=972'>973</a>\u001b[0m check_consistent_length(X, y)\n",
      "File \u001b[1;32mc:\\Users\\rayss\\miniconda3\\lib\\site-packages\\sklearn\\utils\\validation.py:738\u001b[0m, in \u001b[0;36mcheck_array\u001b[1;34m(array, accept_sparse, accept_large_sparse, dtype, order, copy, force_all_finite, ensure_2d, allow_nd, ensure_min_samples, ensure_min_features, estimator)\u001b[0m\n\u001b[0;32m    <a href='file:///c%3A/Users/rayss/miniconda3/lib/site-packages/sklearn/utils/validation.py?line=735'>736</a>\u001b[0m         array \u001b[39m=\u001b[39m array\u001b[39m.\u001b[39mastype(dtype, casting\u001b[39m=\u001b[39m\u001b[39m\"\u001b[39m\u001b[39munsafe\u001b[39m\u001b[39m\"\u001b[39m, copy\u001b[39m=\u001b[39m\u001b[39mFalse\u001b[39;00m)\n\u001b[0;32m    <a href='file:///c%3A/Users/rayss/miniconda3/lib/site-packages/sklearn/utils/validation.py?line=736'>737</a>\u001b[0m     \u001b[39melse\u001b[39;00m:\n\u001b[1;32m--> <a href='file:///c%3A/Users/rayss/miniconda3/lib/site-packages/sklearn/utils/validation.py?line=737'>738</a>\u001b[0m         array \u001b[39m=\u001b[39m np\u001b[39m.\u001b[39;49masarray(array, order\u001b[39m=\u001b[39;49morder, dtype\u001b[39m=\u001b[39;49mdtype)\n\u001b[0;32m    <a href='file:///c%3A/Users/rayss/miniconda3/lib/site-packages/sklearn/utils/validation.py?line=738'>739</a>\u001b[0m \u001b[39mexcept\u001b[39;00m ComplexWarning \u001b[39mas\u001b[39;00m complex_warning:\n\u001b[0;32m    <a href='file:///c%3A/Users/rayss/miniconda3/lib/site-packages/sklearn/utils/validation.py?line=739'>740</a>\u001b[0m     \u001b[39mraise\u001b[39;00m \u001b[39mValueError\u001b[39;00m(\n\u001b[0;32m    <a href='file:///c%3A/Users/rayss/miniconda3/lib/site-packages/sklearn/utils/validation.py?line=740'>741</a>\u001b[0m         \u001b[39m\"\u001b[39m\u001b[39mComplex data not supported\u001b[39m\u001b[39m\\n\u001b[39;00m\u001b[39m{}\u001b[39;00m\u001b[39m\\n\u001b[39;00m\u001b[39m\"\u001b[39m\u001b[39m.\u001b[39mformat(array)\n\u001b[0;32m    <a href='file:///c%3A/Users/rayss/miniconda3/lib/site-packages/sklearn/utils/validation.py?line=741'>742</a>\u001b[0m     ) \u001b[39mfrom\u001b[39;00m \u001b[39mcomplex_warning\u001b[39;00m\n",
      "\u001b[1;31mValueError\u001b[0m: could not convert string to float: 'Outono'"
     ]
    }
   ],
   "source": [
    "from sklearn.naive_bayes import GaussianNB\n",
    "from sklearn.naive_bayes import MultinomialNB\n",
    "from sklearn.naive_bayes import BernoulliNB\n",
    "\n",
    "modelo_multinomial = MultinomialNB ()\n",
    "resultado_multinomial = fit_predict_model(\"Multinomial\", modelo_multinomial)\n",
    "\n",
    "modelo_gaussiano = GaussianNB ()\n",
    "resultado_gaussiano = fit_predict_model(\"gaussiano\", modelo_gaussiano)\n",
    "\n",
    "modelo_bernoulli = BernoulliNB ()\n",
    "resultado_bernoulli = fit_predict_model(\"bernoulli\", modelo_bernoulli)"
   ]
  },
  {
   "cell_type": "markdown",
   "metadata": {},
   "source": [
    "Ele nos retorna um erro, pois o Naive bayes só aceita variaveis numéricas, e possuimos muitas variaveis categóricas. Será necessário transformar cada uma delas em diferentes classes. Nossa sorte é que já existe um algoritmo que faz isso:"
   ]
  },
  {
   "cell_type": "code",
   "execution_count": 28,
   "metadata": {},
   "outputs": [
    {
     "name": "stdout",
     "output_type": "stream",
     "text": [
      "<class 'pandas.core.frame.DataFrame'>\n",
      "RangeIndex: 13096 entries, 0 to 13095\n",
      "Data columns (total 22 columns):\n",
      " #   Column                   Non-Null Count  Dtype\n",
      "---  ------                   --------------  -----\n",
      " 0   Mês                      13096 non-null  int64\n",
      " 1   Estação                  13096 non-null  int32\n",
      " 2   Trecho                   13096 non-null  int64\n",
      " 3   Sentido                  13096 non-null  int32\n",
      " 4   Trecho macro             13096 non-null  int32\n",
      " 5   Tipo De Pistas           13096 non-null  int32\n",
      " 6   Numero de Pistas         13096 non-null  int32\n",
      " 7   Tipo de Pavimento        13096 non-null  int32\n",
      " 8   Numero de Faixas         13096 non-null  int32\n",
      " 9   Velocidade Maxima        13096 non-null  int32\n",
      " 10  Tipo da Chuva            13096 non-null  int32\n",
      " 11  Intervencao              13096 non-null  int32\n",
      " 12  Vazamento                13096 non-null  int32\n",
      " 13  Agua?                    13096 non-null  int32\n",
      " 14  Vegetação Baixa?         13096 non-null  int32\n",
      " 15  capimAlto                13096 non-null  int32\n",
      " 16  Arbustos                 13096 non-null  int32\n",
      " 17  Floresta                 13096 non-null  int32\n",
      " 18  Local                    13096 non-null  int32\n",
      " 19  Com filhotes?            13096 non-null  int32\n",
      " 20  Faixa Horário da Coleta  13096 non-null  int32\n",
      " 21  Faixa de Quilometragem   13096 non-null  int32\n",
      "dtypes: int32(20), int64(2)\n",
      "memory usage: 1.2 MB\n"
     ]
    }
   ],
   "source": [
    "from sklearn.preprocessing import LabelEncoder\n",
    "\n",
    "X_encoded = X_df.apply(LabelEncoder().fit_transform)\n",
    "# X_encoded = pd.get_dummies(X_df)\n",
    " \n",
    "X_encoded.info()"
   ]
  },
  {
   "cell_type": "code",
   "execution_count": 29,
   "metadata": {},
   "outputs": [
    {
     "name": "stdout",
     "output_type": "stream",
     "text": [
      "A taxa de acerto do Multinomial foi: 96.85%\n",
      "A taxa de acerto do gaussiano foi: 91.12%\n",
      "A taxa de acerto do bernoulli foi: 79.85%\n"
     ]
    }
   ],
   "source": [
    "# Redefinindo os valores de x \n",
    "x = X_encoded.values\n",
    "y = Y_df.values \n",
    "\n",
    "# divide os dados 2/3 treino, 1/3 teste  \n",
    "porcentagem_treino = 0.67\n",
    "porcentagem_teste  = 0.33\n",
    "\n",
    "tamanho_treino    = int(porcentagem_treino * len(y))\n",
    "tamanho_teste     = int(porcentagem_teste * len(y))\n",
    "\n",
    "# 0 ate 60% -> treino\n",
    "treino_x = x[0:tamanho_treino]\n",
    "treino_y = y[0:tamanho_treino]\n",
    "\n",
    "# 60 ate 100% - teste\n",
    "teste_x = x[tamanho_treino:]\n",
    "teste_y = y[tamanho_treino:]\n",
    "\n",
    "from sklearn.naive_bayes import GaussianNB\n",
    "from sklearn.naive_bayes import MultinomialNB\n",
    "from sklearn.naive_bayes import BernoulliNB\n",
    "\n",
    "modelo_multinomial = MultinomialNB ()\n",
    "resultado_multinomial = fit_predict_model(\"Multinomial\", modelo_multinomial)\n",
    "\n",
    "modelo_gaussiano = GaussianNB ()\n",
    "resultado_gaussiano = fit_predict_model(\"gaussiano\", modelo_gaussiano)\n",
    "\n",
    "modelo_bernoulli = BernoulliNB ()\n",
    "resultado_bernoulli = fit_predict_model(\"bernoulli\", modelo_bernoulli)"
   ]
  },
  {
   "cell_type": "markdown",
   "metadata": {},
   "source": [
    "Até agora estamos separando o modelo de forma sequencial, para melhorar o resultado, podemos separá-lo de forma aleatória e mantendo a proporção de respostas positivas e negativas."
   ]
  },
  {
   "cell_type": "code",
   "execution_count": 30,
   "metadata": {},
   "outputs": [],
   "source": [
    "import numpy as np\n",
    "from sklearn.model_selection import train_test_split\n",
    "\n",
    "SEED = 5\n",
    "np.random.seed(SEED)\n",
    "treino_x, teste_x, treino_y, teste_y = train_test_split(x, y, test_size = 0.33,\n",
    "                                                         stratify = y)\n"
   ]
  },
  {
   "cell_type": "markdown",
   "metadata": {},
   "source": [
    "Aplicando novamente no modelo:"
   ]
  },
  {
   "cell_type": "code",
   "execution_count": 31,
   "metadata": {},
   "outputs": [
    {
     "name": "stdout",
     "output_type": "stream",
     "text": [
      "A taxa de acerto do Multinomial foi: 97.55%\n",
      "A taxa de acerto do gaussiano foi: 96.53%\n",
      "A taxa de acerto do bernoulli foi: 98.61%\n"
     ]
    }
   ],
   "source": [
    "modelo_multinomial = MultinomialNB ()\n",
    "resultado_multinomial = fit_predict_model(\"Multinomial\", modelo_multinomial)\n",
    "\n",
    "modelo_gaussiano = GaussianNB ()\n",
    "resultado_gaussiano = fit_predict_model(\"gaussiano\", modelo_gaussiano)\n",
    "\n",
    "modelo_bernoulli = BernoulliNB ()\n",
    "resultado_bernoulli = fit_predict_model(\"bernoulli\", modelo_bernoulli)"
   ]
  },
  {
   "cell_type": "markdown",
   "metadata": {},
   "source": [
    "Vamos analisar esses resultados."
   ]
  },
  {
   "cell_type": "markdown",
   "metadata": {},
   "source": [
    "Aqui analisamos a acurácia, que mede a taxa de acerto em relação ao total de elementos.\n",
    "A precisão, que é a razão tp / (tp + fp) onde tp é o número de verdadeiros positivos e fp o número de falsos positivos. A precisão é intuitivamente a capacidade do classificador não rotular como positiva uma amostra que é negativa. O melhor valor é 1 e o pior valor é 0.\n",
    "A matriz de confusão que mostra explicitamente quantos o algoritmo acertou e errou das classes 1 e 0.\n"
   ]
  },
  {
   "cell_type": "code",
   "execution_count": 32,
   "metadata": {},
   "outputs": [],
   "source": [
    "from sklearn.metrics import accuracy_score, confusion_matrix, ConfusionMatrixDisplay, precision_score, average_precision_score\n",
    "import matplotlib.pyplot as plt\n",
    "import seaborn as sns\n",
    "from sklearn import metrics\n",
    "\n",
    "def testeQualidade(nome, modelo):\n",
    "    # treina modelo\n",
    "    modelo.fit(treino_x, treino_y)\n",
    "\n",
    "    # testa modelo\n",
    "    y_predict = modelo.predict(teste_x) # Pega as previsoes do modelo para os valores X de teste\n",
    "    y_true = teste_y\n",
    "    \n",
    "    print(\"Para o modelo \", nome, \":\")\n",
    "\n",
    "    acuracia = accuracy_score(y_true, y_predict)\n",
    "    msg_acuracia = \"A acuracia foi de {:.2f}%\".format(acuracia*100)\n",
    "    print(msg_acuracia)\n",
    "\n",
    "    print(\"Precisão do modelo\")\n",
    "    y_score = modelo.fit(treino_x, treino_y).predict_proba(teste_x)\n",
    "    # print(y_score)\n",
    "    precision = precision_score(y_true, y_predict, average='weighted', zero_division=1)\n",
    "    print(precision)\n",
    "    \n",
    "        \n",
    "    print(\"Matriz de confusão\")\n",
    "    matriz_confusao = confusion_matrix(y_true, y_predict)\n",
    "    matriz = ConfusionMatrixDisplay(matriz_confusao)\n",
    "    matriz.plot()\n",
    "    plt.show()\n",
    "    \n",
    "\n"
   ]
  },
  {
   "cell_type": "code",
   "execution_count": 33,
   "metadata": {},
   "outputs": [
    {
     "name": "stdout",
     "output_type": "stream",
     "text": [
      "Para o modelo  Multinomial :\n",
      "A acuracia foi de 97.55%\n",
      "Precisão do modelo\n",
      "0.9758717080838342\n",
      "Matriz de confusão\n"
     ]
    },
    {
     "data": {
      "image/png": "[encoded data removed]",
      "text/plain": [
       "<Figure size 432x288 with 2 Axes>"
      ]
     },
     "metadata": {
      "needs_background": "light"
     },
     "output_type": "display_data"
    },
    {
     "name": "stdout",
     "output_type": "stream",
     "text": [
      "Para o modelo  gaussiano :\n",
      "A acuracia foi de 96.53%\n",
      "Precisão do modelo\n",
      "0.9753399072789475\n",
      "Matriz de confusão\n"
     ]
    },
    {
     "data": {
      "image/png": "[encoded data removed]",
      "text/plain": [
       "<Figure size 432x288 with 2 Axes>"
      ]
     },
     "metadata": {
      "needs_background": "light"
     },
     "output_type": "display_data"
    },
    {
     "name": "stdout",
     "output_type": "stream",
     "text": [
      "Para o modelo  bernoulli :\n",
      "A acuracia foi de 98.61%\n",
      "Precisão do modelo\n",
      "0.9863102609230435\n",
      "Matriz de confusão\n"
     ]
    },
    {
     "data": {
      "image/png": "[encoded data removed]",
      "text/plain": [
       "<Figure size 432x288 with 2 Axes>"
      ]
     },
     "metadata": {
      "needs_background": "light"
     },
     "output_type": "display_data"
    }
   ],
   "source": [
    "metricas_multinomial = testeQualidade(\"Multinomial\", modelo_multinomial)\n",
    "\n",
    "metricas_gaussiano = testeQualidade(\"gaussiano\", modelo_gaussiano)\n",
    "\n",
    "metricas_bernoulli = testeQualidade(\"bernoulli\", modelo_bernoulli)"
   ]
  },
  {
   "cell_type": "markdown",
   "metadata": {},
   "source": [
    "Queremos também saber quais são as variaveis preditoras mais relevantes no nosso modelo, e qual a correlação entre elas."
   ]
  },
  {
   "cell_type": "code",
   "execution_count": 36,
   "metadata": {},
   "outputs": [
    {
     "name": "stdout",
     "output_type": "stream",
     "text": [
      "Matriz de correlação:\n"
     ]
    },
    {
     "data": {
      "image/png": "[encoded data removed]",
      "text/plain": [
       "<Figure size 432x288 with 2 Axes>"
      ]
     },
     "metadata": {
      "needs_background": "light"
     },
     "output_type": "display_data"
    },
    {
     "name": "stdout",
     "output_type": "stream",
     "text": [
      "1. Faixa de Quilometragem (0.003239)\n",
      "2. Mês (0.001111)\n",
      "3. Local (0.000833)\n",
      "4. Sentido (0.000463)\n",
      "5. Tipo da Chuva (0.000139)\n",
      "6. Tipo de Pavimento (0.000000)\n",
      "7. Faixa Horário da Coleta (-0.000046)\n",
      "8. Arbustos (-0.000046)\n",
      "9. Vazamento (-0.000046)\n",
      "10. Intervencao (-0.000046)\n",
      "11. Agua? (-0.000093)\n",
      "12. Com filhotes? (-0.000139)\n",
      "13. capimAlto (-0.000185)\n",
      "14. Floresta (-0.000185)\n",
      "15. Tipo De Pistas (-0.000509)\n",
      "16. Numero de Pistas (-0.000509)\n",
      "17. Trecho macro (-0.000740)\n",
      "18. Vegetação Baixa? (-0.000925)\n",
      "19. Trecho (-0.000972)\n",
      "20. Numero de Faixas (-0.001851)\n",
      "21. Estação (-0.002036)\n",
      "22. Velocidade Maxima (-0.003841)\n"
     ]
    },
    {
     "data": {
      "image/png": "[encoded data removed]",
      "text/plain": [
       "<Figure size 720x504 with 1 Axes>"
      ]
     },
     "metadata": {
      "needs_background": "light"
     },
     "output_type": "display_data"
    },
    {
     "name": "stdout",
     "output_type": "stream",
     "text": [
      "PredictionProbabilities (first 10)\n",
      "[5.25300355e-01 2.59739600e-06 2.16750926e-02 ... 7.47549071e-02\n",
      " 8.33121521e-04 3.72201010e-01]\n"
     ]
    }
   ],
   "source": [
    "from sklearn.inspection import permutation_importance\n",
    "\n",
    "\n",
    "print(\"Matriz de correlação:\")\n",
    "mask = np.triu(np.ones_like(X_encoded.corr()))\n",
    "sns.heatmap(X_encoded.corr(),\n",
    "            mask=mask,\n",
    "            cmap='Blues')\n",
    "plt.title('Correlação entre variáveis do dataset')\n",
    "plt.show()\n",
    "\n",
    "imps = permutation_importance(modelo_multinomial, teste_x, teste_y)\n",
    "importances = imps.importances_mean\n",
    "std = imps.importances_std\n",
    "indices = np.argsort(importances)[::-1]\n",
    "\n",
    "for f in range(teste_x.shape[1]):\n",
    "    print(\"%d. %s (%f)\" % (f + 1, features[indices[f]], importances[indices[f]]))\n",
    "    \n",
    "plt.figure(figsize=(10, 7))\n",
    "plt.title(\"Feature importances\")\n",
    "plt.bar(range(teste_x.shape[1]), importances[indices], color=\"r\", yerr=std[indices], align=\"center\")\n",
    "# plt.xticks(range(teste_x.shape[1]), [features[indices[i]] for i in range(6)])\n",
    "plt.xlim([-1, teste_x.shape[1]])\n",
    "plt.show()\n",
    "    \n",
    "print ('PredictionProbabilities (first 10)')\n",
    "probas = modelo_multinomial.predict_proba(teste_x)\n",
    "print (probas[0:,1])"
   ]
  },
  {
   "cell_type": "markdown",
   "metadata": {},
   "source": [
    "Os dados que estamos trabalhando estão desbalanceados:"
   ]
  },
  {
   "cell_type": "code",
   "execution_count": 35,
   "metadata": {},
   "outputs": [
    {
     "name": "stdout",
     "output_type": "stream",
     "text": [
      "O total de 0 é: 8653\n",
      "O total de 1 é: 121\n"
     ]
    }
   ],
   "source": [
    "total1 = 0\n",
    "total0 = 0\n",
    "\n",
    "for i in treino_y:\n",
    "    if i == 1:\n",
    "         total1 = total1 + 1\n",
    "         \n",
    "    if i == 0:\n",
    "        total0 = total0 + 1\n",
    "        \n",
    "        \n",
    "print(\"O total de 0 é:\", total0)\n",
    "print(\"O total de 1 é:\", total1)"
   ]
  },
  {
   "cell_type": "markdown",
   "metadata": {},
   "source": [
    "Referências\n",
    "\n",
    "https://blog.ineuron.ai/Feature-Importance-in-Naive-Bayes-Classifiers-5qob5d5sFW\n",
    "\n",
    "https://stackoverflow.com/questions/24458645/label-encoding-across-multiple-columns-in-scikit-learn"
   ]
  }
 ],
 "metadata": {
  "interpreter": {
   "hash": "e4f2e29d4792ba744ec37cfe5d9e06cb1682524f233fc37b58180c94e420ae9c"
  },
  "kernelspec": {
   "display_name": "Python 3.9.12 ('base')",
   "language": "python",
   "name": "python3"
  },
  "language_info": {
   "codemirror_mode": {
    "name": "ipython",
    "version": 3
   },
   "file_extension": ".py",
   "mimetype": "text/x-python",
   "name": "python",
   "nbconvert_exporter": "python",
   "pygments_lexer": "ipython3",
   "version": "3.9.12"
  },
  "orig_nbformat": 4
 },
 "nbformat": 4,
 "nbformat_minor": 2
}
