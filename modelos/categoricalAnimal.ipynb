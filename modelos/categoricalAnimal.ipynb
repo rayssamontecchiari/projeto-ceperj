{
 "cells": [
  {
   "cell_type": "code",
   "execution_count": 2,
   "metadata": {},
   "outputs": [
    {
     "data": {
      "text/html": [
       "<div>\n",
       "<style scoped>\n",
       "    .dataframe tbody tr th:only-of-type {\n",
       "        vertical-align: middle;\n",
       "    }\n",
       "\n",
       "    .dataframe tbody tr th {\n",
       "        vertical-align: top;\n",
       "    }\n",
       "\n",
       "    .dataframe thead th {\n",
       "        text-align: right;\n",
       "    }\n",
       "</style>\n",
       "<table border=\"1\" class=\"dataframe\">\n",
       "  <thead>\n",
       "    <tr style=\"text-align: right;\">\n",
       "      <th></th>\n",
       "      <th>Animal</th>\n",
       "      <th>Mês</th>\n",
       "      <th>Estação</th>\n",
       "      <th>Km</th>\n",
       "      <th>Trecho</th>\n",
       "      <th>Sentido</th>\n",
       "      <th>Trecho macro</th>\n",
       "      <th>Hora da Coleta</th>\n",
       "      <th>Tipo De Pistas</th>\n",
       "      <th>Numero de Pistas</th>\n",
       "      <th>...</th>\n",
       "      <th>Vazamento</th>\n",
       "      <th>Agua?</th>\n",
       "      <th>Vegetação Baixa?</th>\n",
       "      <th>capimAlto</th>\n",
       "      <th>Arbustos</th>\n",
       "      <th>Floresta</th>\n",
       "      <th>Local</th>\n",
       "      <th>Com filhotes?</th>\n",
       "      <th>Faixa de Horario</th>\n",
       "      <th>Faixa de Quilometragem</th>\n",
       "    </tr>\n",
       "  </thead>\n",
       "  <tbody>\n",
       "    <tr>\n",
       "      <th>0</th>\n",
       "      <td>jacaré-de-papo-amarelo</td>\n",
       "      <td>4</td>\n",
       "      <td>Outono</td>\n",
       "      <td>114</td>\n",
       "      <td>2</td>\n",
       "      <td>JF</td>\n",
       "      <td>Baixada</td>\n",
       "      <td>01:55:00</td>\n",
       "      <td>Sem divisão</td>\n",
       "      <td>1</td>\n",
       "      <td>...</td>\n",
       "      <td>Desconhecido</td>\n",
       "      <td>sim</td>\n",
       "      <td>Desconhecido</td>\n",
       "      <td>Desconhecido</td>\n",
       "      <td>Desconhecido</td>\n",
       "      <td>Desconhecido</td>\n",
       "      <td>Pista de rolamento</td>\n",
       "      <td>Desconhecido</td>\n",
       "      <td>Entre 00 e 03</td>\n",
       "      <td>Entre 100 e 125</td>\n",
       "    </tr>\n",
       "    <tr>\n",
       "      <th>1</th>\n",
       "      <td>jararacussu</td>\n",
       "      <td>4</td>\n",
       "      <td>Outono</td>\n",
       "      <td>87</td>\n",
       "      <td>4</td>\n",
       "      <td>JF</td>\n",
       "      <td>Serra</td>\n",
       "      <td>09:10:00</td>\n",
       "      <td>Sem divisão</td>\n",
       "      <td>1</td>\n",
       "      <td>...</td>\n",
       "      <td>Desconhecido</td>\n",
       "      <td>sim</td>\n",
       "      <td>Desconhecido</td>\n",
       "      <td>Desconhecido</td>\n",
       "      <td>Desconhecido</td>\n",
       "      <td>Desconhecido</td>\n",
       "      <td>Pista de rolamento</td>\n",
       "      <td>Desconhecido</td>\n",
       "      <td>Entre 09 e 12</td>\n",
       "      <td>Entre 75 e 100</td>\n",
       "    </tr>\n",
       "    <tr>\n",
       "      <th>2</th>\n",
       "      <td>sabiá-laranjeira</td>\n",
       "      <td>5</td>\n",
       "      <td>Outono</td>\n",
       "      <td>82</td>\n",
       "      <td>5</td>\n",
       "      <td>JF</td>\n",
       "      <td>Serra</td>\n",
       "      <td>16:30:00</td>\n",
       "      <td>Sem divisão</td>\n",
       "      <td>1</td>\n",
       "      <td>...</td>\n",
       "      <td>Desconhecido</td>\n",
       "      <td>sim</td>\n",
       "      <td>Desconhecido</td>\n",
       "      <td>Desconhecido</td>\n",
       "      <td>Desconhecido</td>\n",
       "      <td>Desconhecido</td>\n",
       "      <td>Desconhecido</td>\n",
       "      <td>Desconhecido</td>\n",
       "      <td>Entre 15 e 18</td>\n",
       "      <td>Entre 75 e 100</td>\n",
       "    </tr>\n",
       "    <tr>\n",
       "      <th>3</th>\n",
       "      <td>capivara</td>\n",
       "      <td>6</td>\n",
       "      <td>Outono</td>\n",
       "      <td>65</td>\n",
       "      <td>7</td>\n",
       "      <td>RJ</td>\n",
       "      <td>Planalto</td>\n",
       "      <td>06:47:00</td>\n",
       "      <td>Defensa Metálica</td>\n",
       "      <td>2</td>\n",
       "      <td>...</td>\n",
       "      <td>Desconhecido</td>\n",
       "      <td>sim</td>\n",
       "      <td>Desconhecido</td>\n",
       "      <td>Desconhecido</td>\n",
       "      <td>Desconhecido</td>\n",
       "      <td>Desconhecido</td>\n",
       "      <td>Acostamento</td>\n",
       "      <td>Desconhecido</td>\n",
       "      <td>Entre 06 e 09</td>\n",
       "      <td>Entre 50 e 75</td>\n",
       "    </tr>\n",
       "    <tr>\n",
       "      <th>4</th>\n",
       "      <td>tamanduá-mirim</td>\n",
       "      <td>6</td>\n",
       "      <td>Outono</td>\n",
       "      <td>102</td>\n",
       "      <td>3</td>\n",
       "      <td>RJ</td>\n",
       "      <td>Serra</td>\n",
       "      <td>15:55:00</td>\n",
       "      <td>Defensa Metálica</td>\n",
       "      <td>2</td>\n",
       "      <td>...</td>\n",
       "      <td>Desconhecido</td>\n",
       "      <td>não</td>\n",
       "      <td>Desconhecido</td>\n",
       "      <td>Desconhecido</td>\n",
       "      <td>Desconhecido</td>\n",
       "      <td>Desconhecido</td>\n",
       "      <td>Acesso/ Retorno</td>\n",
       "      <td>Desconhecido</td>\n",
       "      <td>Entre 15 e 18</td>\n",
       "      <td>Entre 100 e 125</td>\n",
       "    </tr>\n",
       "  </tbody>\n",
       "</table>\n",
       "<p>5 rows × 25 columns</p>\n",
       "</div>"
      ],
      "text/plain": [
       "                   Animal  Mês Estação   Km  Trecho Sentido Trecho macro  \\\n",
       "0  jacaré-de-papo-amarelo    4  Outono  114       2      JF      Baixada   \n",
       "1             jararacussu    4  Outono   87       4      JF        Serra   \n",
       "2        sabiá-laranjeira    5  Outono   82       5      JF        Serra   \n",
       "3                capivara    6  Outono   65       7      RJ     Planalto   \n",
       "4          tamanduá-mirim    6  Outono  102       3      RJ        Serra   \n",
       "\n",
       "  Hora da Coleta    Tipo De Pistas Numero de Pistas  ...     Vazamento Agua?  \\\n",
       "0       01:55:00       Sem divisão                1  ...  Desconhecido   sim   \n",
       "1       09:10:00       Sem divisão                1  ...  Desconhecido   sim   \n",
       "2       16:30:00       Sem divisão                1  ...  Desconhecido   sim   \n",
       "3       06:47:00  Defensa Metálica                2  ...  Desconhecido   sim   \n",
       "4       15:55:00  Defensa Metálica                2  ...  Desconhecido   não   \n",
       "\n",
       "  Vegetação Baixa?     capimAlto      Arbustos      Floresta  \\\n",
       "0     Desconhecido  Desconhecido  Desconhecido  Desconhecido   \n",
       "1     Desconhecido  Desconhecido  Desconhecido  Desconhecido   \n",
       "2     Desconhecido  Desconhecido  Desconhecido  Desconhecido   \n",
       "3     Desconhecido  Desconhecido  Desconhecido  Desconhecido   \n",
       "4     Desconhecido  Desconhecido  Desconhecido  Desconhecido   \n",
       "\n",
       "                Local Com filhotes? Faixa de Horario Faixa de Quilometragem  \n",
       "0  Pista de rolamento  Desconhecido    Entre 00 e 03        Entre 100 e 125  \n",
       "1  Pista de rolamento  Desconhecido    Entre 09 e 12         Entre 75 e 100  \n",
       "2        Desconhecido  Desconhecido    Entre 15 e 18         Entre 75 e 100  \n",
       "3         Acostamento  Desconhecido    Entre 06 e 09          Entre 50 e 75  \n",
       "4     Acesso/ Retorno  Desconhecido    Entre 15 e 18        Entre 100 e 125  \n",
       "\n",
       "[5 rows x 25 columns]"
      ]
     },
     "execution_count": 2,
     "metadata": {},
     "output_type": "execute_result"
    }
   ],
   "source": [
    "import pandas as pd\n",
    "\n",
    "dados = pd.read_csv('../dados/CSV_Completo.csv')\n",
    "dados.head()"
   ]
  },
  {
   "cell_type": "markdown",
   "metadata": {},
   "source": [
    "Escolher o animal para ser estudado"
   ]
  },
  {
   "cell_type": "code",
   "execution_count": 3,
   "metadata": {},
   "outputs": [],
   "source": [
    "animal = 'É animal mais atropelado'\n",
    "animalEscolhido = 'rã-manteiga'\n",
    "\n",
    "dados.loc[dados.Animal == animalEscolhido,animal] = 1\n",
    "dados.loc[dados.Animal != animalEscolhido,animal] = 0\n",
    "\n",
    "\n",
    "dados[animal] = dados[animal].astype(int)\n",
    " "
   ]
  },
  {
   "cell_type": "markdown",
   "metadata": {},
   "source": [
    "removendo colunas indesejadas"
   ]
  },
  {
   "cell_type": "code",
   "execution_count": 4,
   "metadata": {},
   "outputs": [
    {
     "data": {
      "text/html": [
       "<div>\n",
       "<style scoped>\n",
       "    .dataframe tbody tr th:only-of-type {\n",
       "        vertical-align: middle;\n",
       "    }\n",
       "\n",
       "    .dataframe tbody tr th {\n",
       "        vertical-align: top;\n",
       "    }\n",
       "\n",
       "    .dataframe thead th {\n",
       "        text-align: right;\n",
       "    }\n",
       "</style>\n",
       "<table border=\"1\" class=\"dataframe\">\n",
       "  <thead>\n",
       "    <tr style=\"text-align: right;\">\n",
       "      <th></th>\n",
       "      <th>Mês</th>\n",
       "      <th>Estação</th>\n",
       "      <th>Trecho</th>\n",
       "      <th>Sentido</th>\n",
       "      <th>Trecho macro</th>\n",
       "      <th>Tipo De Pistas</th>\n",
       "      <th>Numero de Pistas</th>\n",
       "      <th>Tipo de Pavimento</th>\n",
       "      <th>Numero de Faixas</th>\n",
       "      <th>Velocidade Maxima</th>\n",
       "      <th>...</th>\n",
       "      <th>Agua?</th>\n",
       "      <th>Vegetação Baixa?</th>\n",
       "      <th>capimAlto</th>\n",
       "      <th>Arbustos</th>\n",
       "      <th>Floresta</th>\n",
       "      <th>Local</th>\n",
       "      <th>Com filhotes?</th>\n",
       "      <th>Faixa de Horario</th>\n",
       "      <th>Faixa de Quilometragem</th>\n",
       "      <th>É animal mais atropelado</th>\n",
       "    </tr>\n",
       "  </thead>\n",
       "  <tbody>\n",
       "    <tr>\n",
       "      <th>0</th>\n",
       "      <td>4</td>\n",
       "      <td>Outono</td>\n",
       "      <td>2</td>\n",
       "      <td>JF</td>\n",
       "      <td>Baixada</td>\n",
       "      <td>Sem divisão</td>\n",
       "      <td>1</td>\n",
       "      <td>Pavimento flexível (asfalto)</td>\n",
       "      <td>4</td>\n",
       "      <td>110</td>\n",
       "      <td>...</td>\n",
       "      <td>sim</td>\n",
       "      <td>Desconhecido</td>\n",
       "      <td>Desconhecido</td>\n",
       "      <td>Desconhecido</td>\n",
       "      <td>Desconhecido</td>\n",
       "      <td>Pista de rolamento</td>\n",
       "      <td>Desconhecido</td>\n",
       "      <td>Entre 00 e 03</td>\n",
       "      <td>Entre 100 e 125</td>\n",
       "      <td>0</td>\n",
       "    </tr>\n",
       "    <tr>\n",
       "      <th>1</th>\n",
       "      <td>4</td>\n",
       "      <td>Outono</td>\n",
       "      <td>4</td>\n",
       "      <td>JF</td>\n",
       "      <td>Serra</td>\n",
       "      <td>Sem divisão</td>\n",
       "      <td>1</td>\n",
       "      <td>Pavimento rígido</td>\n",
       "      <td>2</td>\n",
       "      <td>60</td>\n",
       "      <td>...</td>\n",
       "      <td>sim</td>\n",
       "      <td>Desconhecido</td>\n",
       "      <td>Desconhecido</td>\n",
       "      <td>Desconhecido</td>\n",
       "      <td>Desconhecido</td>\n",
       "      <td>Pista de rolamento</td>\n",
       "      <td>Desconhecido</td>\n",
       "      <td>Entre 09 e 12</td>\n",
       "      <td>Entre 75 e 100</td>\n",
       "      <td>0</td>\n",
       "    </tr>\n",
       "    <tr>\n",
       "      <th>2</th>\n",
       "      <td>5</td>\n",
       "      <td>Outono</td>\n",
       "      <td>5</td>\n",
       "      <td>JF</td>\n",
       "      <td>Serra</td>\n",
       "      <td>Sem divisão</td>\n",
       "      <td>1</td>\n",
       "      <td>Pavimento semi-flexível</td>\n",
       "      <td>2</td>\n",
       "      <td>60</td>\n",
       "      <td>...</td>\n",
       "      <td>sim</td>\n",
       "      <td>Desconhecido</td>\n",
       "      <td>Desconhecido</td>\n",
       "      <td>Desconhecido</td>\n",
       "      <td>Desconhecido</td>\n",
       "      <td>Desconhecido</td>\n",
       "      <td>Desconhecido</td>\n",
       "      <td>Entre 15 e 18</td>\n",
       "      <td>Entre 75 e 100</td>\n",
       "      <td>0</td>\n",
       "    </tr>\n",
       "    <tr>\n",
       "      <th>3</th>\n",
       "      <td>6</td>\n",
       "      <td>Outono</td>\n",
       "      <td>7</td>\n",
       "      <td>RJ</td>\n",
       "      <td>Planalto</td>\n",
       "      <td>Defensa Metálica</td>\n",
       "      <td>2</td>\n",
       "      <td>Pavimento flexível (asfalto)</td>\n",
       "      <td>4</td>\n",
       "      <td>60</td>\n",
       "      <td>...</td>\n",
       "      <td>sim</td>\n",
       "      <td>Desconhecido</td>\n",
       "      <td>Desconhecido</td>\n",
       "      <td>Desconhecido</td>\n",
       "      <td>Desconhecido</td>\n",
       "      <td>Acostamento</td>\n",
       "      <td>Desconhecido</td>\n",
       "      <td>Entre 06 e 09</td>\n",
       "      <td>Entre 50 e 75</td>\n",
       "      <td>0</td>\n",
       "    </tr>\n",
       "    <tr>\n",
       "      <th>4</th>\n",
       "      <td>6</td>\n",
       "      <td>Outono</td>\n",
       "      <td>3</td>\n",
       "      <td>RJ</td>\n",
       "      <td>Serra</td>\n",
       "      <td>Defensa Metálica</td>\n",
       "      <td>2</td>\n",
       "      <td>Pavimento flexível (asfalto)</td>\n",
       "      <td>4</td>\n",
       "      <td>80</td>\n",
       "      <td>...</td>\n",
       "      <td>não</td>\n",
       "      <td>Desconhecido</td>\n",
       "      <td>Desconhecido</td>\n",
       "      <td>Desconhecido</td>\n",
       "      <td>Desconhecido</td>\n",
       "      <td>Acesso/ Retorno</td>\n",
       "      <td>Desconhecido</td>\n",
       "      <td>Entre 15 e 18</td>\n",
       "      <td>Entre 100 e 125</td>\n",
       "      <td>0</td>\n",
       "    </tr>\n",
       "  </tbody>\n",
       "</table>\n",
       "<p>5 rows × 23 columns</p>\n",
       "</div>"
      ],
      "text/plain": [
       "   Mês Estação  Trecho Sentido Trecho macro    Tipo De Pistas  \\\n",
       "0    4  Outono       2      JF      Baixada       Sem divisão   \n",
       "1    4  Outono       4      JF        Serra       Sem divisão   \n",
       "2    5  Outono       5      JF        Serra       Sem divisão   \n",
       "3    6  Outono       7      RJ     Planalto  Defensa Metálica   \n",
       "4    6  Outono       3      RJ        Serra  Defensa Metálica   \n",
       "\n",
       "  Numero de Pistas             Tipo de Pavimento Numero de Faixas  \\\n",
       "0                1  Pavimento flexível (asfalto)                4   \n",
       "1                1              Pavimento rígido                2   \n",
       "2                1       Pavimento semi-flexível                2   \n",
       "3                2  Pavimento flexível (asfalto)                4   \n",
       "4                2  Pavimento flexível (asfalto)                4   \n",
       "\n",
       "  Velocidade Maxima  ... Agua? Vegetação Baixa?     capimAlto      Arbustos  \\\n",
       "0               110  ...   sim     Desconhecido  Desconhecido  Desconhecido   \n",
       "1                60  ...   sim     Desconhecido  Desconhecido  Desconhecido   \n",
       "2                60  ...   sim     Desconhecido  Desconhecido  Desconhecido   \n",
       "3                60  ...   sim     Desconhecido  Desconhecido  Desconhecido   \n",
       "4                80  ...   não     Desconhecido  Desconhecido  Desconhecido   \n",
       "\n",
       "       Floresta               Local Com filhotes? Faixa de Horario  \\\n",
       "0  Desconhecido  Pista de rolamento  Desconhecido    Entre 00 e 03   \n",
       "1  Desconhecido  Pista de rolamento  Desconhecido    Entre 09 e 12   \n",
       "2  Desconhecido        Desconhecido  Desconhecido    Entre 15 e 18   \n",
       "3  Desconhecido         Acostamento  Desconhecido    Entre 06 e 09   \n",
       "4  Desconhecido     Acesso/ Retorno  Desconhecido    Entre 15 e 18   \n",
       "\n",
       "  Faixa de Quilometragem É animal mais atropelado  \n",
       "0        Entre 100 e 125                        0  \n",
       "1         Entre 75 e 100                        0  \n",
       "2         Entre 75 e 100                        0  \n",
       "3          Entre 50 e 75                        0  \n",
       "4        Entre 100 e 125                        0  \n",
       "\n",
       "[5 rows x 23 columns]"
      ]
     },
     "execution_count": 4,
     "metadata": {},
     "output_type": "execute_result"
    }
   ],
   "source": [
    "del(dados['Animal'])\n",
    "del(dados['Km'])\n",
    "del(dados['Hora da Coleta'])\n",
    "\n",
    "dados.head()"
   ]
  },
  {
   "cell_type": "code",
   "execution_count": 5,
   "metadata": {},
   "outputs": [],
   "source": [
    "from collections import OrderedDict\n",
    "\n",
    "categorias = {}\n",
    "# categorias['Mês'] = dados['Mês']\n",
    "\n",
    "for i in dados:\n",
    "      categorias[i] = dados[i]\n",
    "      # categorias[i] = i\n",
    "      \n",
    "\n",
    "for feature in categorias:\n",
    "  categorias[feature] = list(OrderedDict.fromkeys(categorias[feature]))"
   ]
  },
  {
   "cell_type": "code",
   "execution_count": 6,
   "metadata": {},
   "outputs": [],
   "source": [
    "from sklearn.preprocessing import LabelEncoder\n",
    "le = LabelEncoder()\n",
    "\n",
    "for i in dados:\n",
    "    dados[i] = le.fit_transform(dados[i])\n",
    "    \n",
    "# print(dados)\n"
   ]
  },
  {
   "cell_type": "code",
   "execution_count": 7,
   "metadata": {},
   "outputs": [],
   "source": [
    "categorias_cod = {}\n",
    "\n",
    "for i in dados:\n",
    "    categorias_cod[i] = dados[i]\n",
    "    \n",
    "for feature in categorias_cod:\n",
    "  categorias_cod[feature] = list(OrderedDict.fromkeys(categorias_cod[feature]))"
   ]
  },
  {
   "cell_type": "code",
   "execution_count": 8,
   "metadata": {},
   "outputs": [
    {
     "name": "stdout",
     "output_type": "stream",
     "text": [
      "<class 'pandas.core.frame.DataFrame'>\n",
      "RangeIndex: 13096 entries, 0 to 13095\n",
      "Data columns (total 23 columns):\n",
      " #   Column                    Non-Null Count  Dtype\n",
      "---  ------                    --------------  -----\n",
      " 0   Mês                       13096 non-null  int64\n",
      " 1   Estação                   13096 non-null  int32\n",
      " 2   Trecho                    13096 non-null  int64\n",
      " 3   Sentido                   13096 non-null  int32\n",
      " 4   Trecho macro              13096 non-null  int32\n",
      " 5   Tipo De Pistas            13096 non-null  int32\n",
      " 6   Numero de Pistas          13096 non-null  int32\n",
      " 7   Tipo de Pavimento         13096 non-null  int32\n",
      " 8   Numero de Faixas          13096 non-null  int32\n",
      " 9   Velocidade Maxima         13096 non-null  int32\n",
      " 10  Tipo da Chuva             13096 non-null  int32\n",
      " 11  Intervencao               13096 non-null  int32\n",
      " 12  Vazamento                 13096 non-null  int32\n",
      " 13  Agua?                     13096 non-null  int32\n",
      " 14  Vegetação Baixa?          13096 non-null  int32\n",
      " 15  capimAlto                 13096 non-null  int32\n",
      " 16  Arbustos                  13096 non-null  int32\n",
      " 17  Floresta                  13096 non-null  int32\n",
      " 18  Local                     13096 non-null  int32\n",
      " 19  Com filhotes?             13096 non-null  int32\n",
      " 20  Faixa de Horario          13096 non-null  int32\n",
      " 21  Faixa de Quilometragem    13096 non-null  int32\n",
      " 22  É animal mais atropelado  13096 non-null  int64\n",
      "dtypes: int32(20), int64(3)\n",
      "memory usage: 1.3 MB\n"
     ]
    }
   ],
   "source": [
    "dados.info()"
   ]
  },
  {
   "cell_type": "code",
   "execution_count": 9,
   "metadata": {},
   "outputs": [
    {
     "name": "stdout",
     "output_type": "stream",
     "text": [
      "0    12915\n",
      "1      181\n",
      "Name: É animal mais atropelado, dtype: int64\n"
     ]
    },
    {
     "data": {
      "text/plain": [
       "<BarContainer object of 2 artists>"
      ]
     },
     "execution_count": 9,
     "metadata": {},
     "output_type": "execute_result"
    },
    {
     "data": {
      "image/png": "[encoded data removed]",
      "text/plain": [
       "<Figure size 432x288 with 1 Axes>"
      ]
     },
     "metadata": {
      "needs_background": "light"
     },
     "output_type": "display_data"
    }
   ],
   "source": [
    "import numpy as np\n",
    "import matplotlib.pyplot as plt\n",
    "\n",
    "count = dados[animal].value_counts()\n",
    "print(count)\n",
    "plt.bar([0, 1], count) "
   ]
  },
  {
   "cell_type": "code",
   "execution_count": 10,
   "metadata": {},
   "outputs": [],
   "source": [
    "cod_cat = {}\n",
    "\n",
    "for feature in categorias:\n",
    "  cod_cat[feature] = {}\n",
    "  for index, cat in enumerate(categorias[feature]):\n",
    "    cods = categorias_cod[feature]\n",
    "    cod_cat[feature].update({cods[index]:cat})\n",
    "\n",
    "# print(cod_cat)"
   ]
  },
  {
   "cell_type": "code",
   "execution_count": 11,
   "metadata": {},
   "outputs": [
    {
     "data": {
      "text/plain": [
       "<BarContainer object of 2 artists>"
      ]
     },
     "execution_count": 11,
     "metadata": {},
     "output_type": "execute_result"
    },
    {
     "data": {
      "image/png": "[encoded data removed]",
      "text/plain": [
       "<Figure size 432x288 with 1 Axes>"
      ]
     },
     "metadata": {
      "needs_background": "light"
     },
     "output_type": "display_data"
    }
   ],
   "source": [
    "import numpy as np\n",
    "from sklearn.model_selection import train_test_split\n",
    "\n",
    "dadosTreino, dadosTeste = train_test_split(dados, test_size = 0.33, random_state = 0)\n",
    "\n",
    "countTreino = dadosTreino[animal].value_counts()\n",
    "\n",
    "countTeste = dadosTeste[animal].value_counts()\n",
    "\n",
    "plt.bar([0, 1], countTreino) \n",
    "plt.bar([0, 1], countTeste) "
   ]
  },
  {
   "cell_type": "markdown",
   "metadata": {},
   "source": [
    "Separando X e Y"
   ]
  },
  {
   "cell_type": "code",
   "execution_count": 12,
   "metadata": {},
   "outputs": [],
   "source": [
    "treino_y = dadosTreino.pop(animal)\n",
    "treino_x = dadosTreino\n",
    "\n",
    "teste_y = dadosTeste.pop(animal)\n",
    "teste_x = dadosTeste\n",
    "\n",
    "y = dados.pop(animal)\n",
    "X = dados"
   ]
  },
  {
   "cell_type": "code",
   "execution_count": 13,
   "metadata": {},
   "outputs": [],
   "source": [
    "from sklearn.naive_bayes import CategoricalNB\n",
    "\n",
    "Categorical = CategoricalNB (alpha=0.1, min_categories=18)\n",
    "\n",
    "Categorical.fit(treino_x, treino_y)\n",
    "    \n",
    "# testa modelo\n",
    "y_predict = Categorical.predict(teste_x) # Pega as previsoes do modelo para os valores X de teste\n",
    "y_true = teste_y\n"
   ]
  },
  {
   "cell_type": "code",
   "execution_count": 14,
   "metadata": {},
   "outputs": [
    {
     "name": "stdout",
     "output_type": "stream",
     "text": [
      "              precision    recall  f1-score   support\n",
      "\n",
      "           0       0.99      0.95      0.97      4270\n",
      "           1       0.10      0.44      0.16        52\n",
      "\n",
      "    accuracy                           0.95      4322\n",
      "   macro avg       0.55      0.70      0.57      4322\n",
      "weighted avg       0.98      0.95      0.96      4322\n",
      "\n",
      "Matriz de confusão\n"
     ]
    },
    {
     "data": {
      "image/png": "[encoded data removed]",
      "text/plain": [
       "<Figure size 432x288 with 2 Axes>"
      ]
     },
     "metadata": {
      "needs_background": "light"
     },
     "output_type": "display_data"
    },
    {
     "data": {
      "image/png": "[encoded data removed]",
      "text/plain": [
       "<Figure size 432x288 with 2 Axes>"
      ]
     },
     "metadata": {
      "needs_background": "light"
     },
     "output_type": "display_data"
    },
    {
     "data": {
      "image/png": "[encoded data removed]",
      "text/plain": [
       "<Figure size 432x288 with 1 Axes>"
      ]
     },
     "metadata": {
      "needs_background": "light"
     },
     "output_type": "display_data"
    }
   ],
   "source": [
    "from sklearn.metrics import confusion_matrix, ConfusionMatrixDisplay, classification_report\n",
    "import matplotlib.pyplot as plt\n",
    "import seaborn as sns\n",
    "\n",
    "print(classification_report(teste_y, y_predict, zero_division=0))\n",
    "\n",
    "print(\"Matriz de confusão\")\n",
    "matriz_confusaoPorc = confusion_matrix(y_true, y_predict, normalize = 'true')\n",
    "matrizPorc = ConfusionMatrixDisplay(matriz_confusaoPorc)\n",
    "matrizPorc.plot()\n",
    "\n",
    "matriz_confusao = confusion_matrix(y_true, y_predict)\n",
    "matriz = ConfusionMatrixDisplay(matriz_confusao)\n",
    "matriz.plot()\n",
    "plt.show()\n",
    "\n",
    "def plot_roc_curve(fper, tper):\n",
    "    plt.plot(fper, tper, color='red', label='ROC')\n",
    "    plt.plot([0, 1], [0, 1], color='green', linestyle='--')\n",
    "    plt.xlabel('False Positive Rate')\n",
    "    plt.ylabel('True Positive Rate')\n",
    "    plt.title('Receiver Operating Characteristic Curve')\n",
    "    plt.legend()\n",
    "    plt.show()\n",
    "    \n",
    "from sklearn.metrics import roc_curve\n",
    "\n",
    "TargetVarScore = Categorical.predict_proba(teste_x)\n",
    "fper, tper, thresholds = roc_curve(teste_y, TargetVarScore[:, 1])\n",
    "plot_roc_curve(fper, tper)"
   ]
  },
  {
   "cell_type": "code",
   "execution_count": 15,
   "metadata": {},
   "outputs": [],
   "source": [
    "# from openpyxl import Workbook, load_workbook\n",
    "\n",
    "# file_name = 'resultados ' + animalEscolhido + '.xlsx'\n",
    "\n",
    "# wb = Workbook()\n",
    "# wb.save(file_name)\n",
    "\n",
    "# ws1 = wb.create_sheet('matriz confusao')\n",
    "\n",
    "# ws1['A1'] = \"Matriz com os dados originais\"\n",
    "# ws1['A3'] = matriz_confusao\n",
    "\n",
    "# wb.save(file_name)"
   ]
  },
  {
   "cell_type": "markdown",
   "metadata": {},
   "source": [
    "Rodar o modelo com as melhores features"
   ]
  },
  {
   "cell_type": "code",
   "execution_count": 16,
   "metadata": {},
   "outputs": [],
   "source": [
    "features = Categorical.feature_names_in_\n",
    "\n",
    "feat_log_prob = Categorical.feature_log_prob_\n",
    "\n",
    "dadosProbabilidades = pd.DataFrame()\n",
    "\n",
    "atributos = []\n",
    "prob1 = []\n",
    "prob0 = []\n",
    "\n",
    "for indexF, feature in enumerate(features):    \n",
    "    atributos.append(feature)\n",
    "    prob1.append(\"\")\n",
    "    prob0.append(\"\")\n",
    "    \n",
    "    for indexC in cod_cat[feature]:\n",
    "        atributos.append(cod_cat[feature][indexC])\n",
    "        prob0.append(np.exp(feat_log_prob[indexF][0][indexC]))\n",
    "        prob1.append(np.exp(feat_log_prob[indexF][1][indexC]))\n",
    "\n",
    "dadosProbabilidades[\"Atributo\"] = atributos\n",
    "dadosProbabilidades[\"Probabilidade de indicar 0\"] = prob0\n",
    "dadosProbabilidades[\"Probabilidade de indicar 1\"] = prob1\n",
    "\n",
    "file_name = 'resultados ' + animalEscolhido + '.xlsx'\n",
    "dadosProbabilidades.to_excel(file_name)\n"
   ]
  },
  {
   "cell_type": "markdown",
   "metadata": {},
   "source": [
    "Antes de prosseguir, vamos selecionar as melhores features"
   ]
  },
  {
   "cell_type": "code",
   "execution_count": 17,
   "metadata": {},
   "outputs": [
    {
     "name": "stdout",
     "output_type": "stream",
     "text": [
      "os atributos escolhidos foram:\n",
      "['Mês', 'Estação', 'Trecho', 'Trecho macro', 'Tipo De Pistas', 'Numero de Pistas', 'Numero de Faixas', 'Velocidade Maxima', 'Local', 'Faixa de Quilometragem']\n",
      "(13096, 10)\n"
     ]
    }
   ],
   "source": [
    "from sklearn.feature_selection import SelectKBest, f_regression,  chi2\n",
    "\n",
    "k = 10 # seleciona 10 features\n",
    "\n",
    "sel_chi2 = SelectKBest(chi2, k = 10)\n",
    "\n",
    "X_train_novo = sel_chi2.fit_transform(X, y)\n",
    "\n",
    "print(\"os atributos escolhidos foram:\")\n",
    "atributosSelect = []\n",
    "for j in sel_chi2.get_support(indices=True):\n",
    "    atributosSelect.append(features[j])\n",
    "    \n",
    "print(atributosSelect)\n",
    "\n",
    "colums = [\"target\"]\n",
    "col2 = []\n",
    "for i in range(k):\n",
    "    colums.append(i)\n",
    "    col2.append(i)\n",
    "\n",
    "print(X_train_novo.shape)\n",
    "\n",
    "novoDf = pd.DataFrame(X_train_novo, y).reset_index()\n",
    "novoDf.columns = [colums]\n",
    "\n",
    "novoX = novoDf[col2]\n",
    "novoY = novoDf[\"target\"]"
   ]
  },
  {
   "cell_type": "code",
   "execution_count": 18,
   "metadata": {},
   "outputs": [
    {
     "name": "stdout",
     "output_type": "stream",
     "text": [
      "x: (13096, 10)\n",
      "              precision    recall  f1-score   support\n",
      "\n",
      "           0       0.99      0.98      0.98      4262\n",
      "           1       0.05      0.08      0.07        60\n",
      "\n",
      "    accuracy                           0.97      4322\n",
      "   macro avg       0.52      0.53      0.52      4322\n",
      "weighted avg       0.97      0.97      0.97      4322\n",
      "\n",
      "Matriz de confusão\n"
     ]
    },
    {
     "name": "stderr",
     "output_type": "stream",
     "text": [
      "c:\\Users\\rayss\\miniconda3\\lib\\site-packages\\sklearn\\utils\\validation.py:1111: DataConversionWarning: A column-vector y was passed when a 1d array was expected. Please change the shape of y to (n_samples, ), for example using ravel().\n",
      "  y = column_or_1d(y, warn=True)\n"
     ]
    },
    {
     "data": {
      "image/png": "[encoded data removed]",
      "text/plain": [
       "<Figure size 432x288 with 2 Axes>"
      ]
     },
     "metadata": {
      "needs_background": "light"
     },
     "output_type": "display_data"
    },
    {
     "data": {
      "image/png": "[encoded data removed]",
      "text/plain": [
       "<Figure size 432x288 with 2 Axes>"
      ]
     },
     "metadata": {
      "needs_background": "light"
     },
     "output_type": "display_data"
    },
    {
     "data": {
      "image/png": "[encoded data removed]",
      "text/plain": [
       "<Figure size 432x288 with 1 Axes>"
      ]
     },
     "metadata": {
      "needs_background": "light"
     },
     "output_type": "display_data"
    }
   ],
   "source": [
    "X_encoded = novoX.apply(LabelEncoder().fit_transform)\n",
    "X = X_encoded.values\n",
    "print(\"x:\", X.shape)\n",
    "\n",
    "SEED = 5\n",
    "np.random.seed(SEED)\n",
    "treino_x, teste_x, treino_y, teste_y = train_test_split(X, novoY, test_size = 0.33,\n",
    "                                                         stratify = y)\n",
    "\n",
    "Categorical_filter = CategoricalNB (alpha=0.1, min_categories=18)\n",
    "\n",
    "Categorical_filter.fit(treino_x, treino_y)\n",
    "    \n",
    "# testa modelo\n",
    "y_predict = Categorical_filter.predict(teste_x) # Pega as previsoes do modelo para os valores X de teste\n",
    "y_true = teste_y\n",
    "\n",
    "print(classification_report(teste_y, y_predict))\n",
    "\n",
    "print(\"Matriz de confusão\")\n",
    "matriz_confusaoPorc = confusion_matrix(y_true, y_predict, normalize = 'true')\n",
    "matrizPorc = ConfusionMatrixDisplay(matriz_confusaoPorc)\n",
    "matrizPorc.plot()\n",
    "\n",
    "matriz_confusao = confusion_matrix(y_true, y_predict)\n",
    "matriz = ConfusionMatrixDisplay(matriz_confusao)\n",
    "matriz.plot()\n",
    "plt.show()\n",
    "\n",
    "def plot_roc_curve(fper, tper):\n",
    "    plt.plot(fper, tper, color='red', label='ROC')\n",
    "    plt.plot([0, 1], [0, 1], color='green', linestyle='--')\n",
    "    plt.xlabel('False Positive Rate')\n",
    "    plt.ylabel('True Positive Rate')\n",
    "    plt.title('Receiver Operating Characteristic Curve')\n",
    "    plt.legend()\n",
    "    plt.show()\n",
    "    \n",
    "from sklearn.metrics import roc_curve\n",
    "\n",
    "TargetVarScore = Categorical_filter.predict_proba(teste_x)\n",
    "fper, tper, thresholds = roc_curve(teste_y, TargetVarScore[:, 1])\n",
    "plot_roc_curve(fper, tper)"
   ]
  },
  {
   "cell_type": "markdown",
   "metadata": {},
   "source": [
    "Agora vamos balancear"
   ]
  },
  {
   "cell_type": "code",
   "execution_count": 19,
   "metadata": {},
   "outputs": [
    {
     "name": "stderr",
     "output_type": "stream",
     "text": [
      "c:\\Users\\rayss\\miniconda3\\lib\\site-packages\\sklearn\\utils\\validation.py:1111: DataConversionWarning: A column-vector y was passed when a 1d array was expected. Please change the shape of y to (n_samples, ), for example using ravel().\n",
      "  y = column_or_1d(y, warn=True)\n"
     ]
    },
    {
     "name": "stdout",
     "output_type": "stream",
     "text": [
      "              precision    recall  f1-score   support\n",
      "\n",
      "           0       1.00      0.77      0.87      4262\n",
      "           1       0.04      0.73      0.08        60\n",
      "\n",
      "    accuracy                           0.77      4322\n",
      "   macro avg       0.52      0.75      0.48      4322\n",
      "weighted avg       0.98      0.77      0.86      4322\n",
      "\n",
      "Matriz de confusão\n"
     ]
    },
    {
     "data": {
      "image/png": "[encoded data removed]",
      "text/plain": [
       "<Figure size 432x288 with 2 Axes>"
      ]
     },
     "metadata": {
      "needs_background": "light"
     },
     "output_type": "display_data"
    },
    {
     "data": {
      "image/png": "[encoded data removed]",
      "text/plain": [
       "<Figure size 432x288 with 2 Axes>"
      ]
     },
     "metadata": {
      "needs_background": "light"
     },
     "output_type": "display_data"
    },
    {
     "data": {
      "image/png": "[encoded data removed]",
      "text/plain": [
       "<Figure size 432x288 with 1 Axes>"
      ]
     },
     "metadata": {
      "needs_background": "light"
     },
     "output_type": "display_data"
    }
   ],
   "source": [
    "from imblearn.over_sampling import SMOTE\n",
    "sm = SMOTE(random_state=42)\n",
    "X_res, y_res = sm.fit_resample(treino_x, treino_y)\n",
    "\n",
    "CategoricalBalanced = CategoricalNB(alpha=0.1, min_categories=18)\n",
    "\n",
    "# treina o modelo com os dados balanceados\n",
    "CategoricalBalanced.fit(X_res, y_res )\n",
    "\n",
    "# testa model\n",
    "y_predict = CategoricalBalanced.predict(teste_x) # Pega as previsoes do modelo para os valores X de teste\n",
    "y_true = teste_y\n",
    "\n",
    "print(classification_report(teste_y, y_predict))\n",
    "\n",
    "print(\"Matriz de confusão\")\n",
    "matriz_confusaoPorc = confusion_matrix(y_true, y_predict, normalize = 'true')\n",
    "matrizPorc = ConfusionMatrixDisplay(matriz_confusaoPorc)\n",
    "matrizPorc.plot()\n",
    "\n",
    "matriz_confusao = confusion_matrix(y_true, y_predict)\n",
    "matriz = ConfusionMatrixDisplay(matriz_confusao)\n",
    "matriz.plot()\n",
    "plt.show()\n",
    "\n",
    "from sklearn.metrics import roc_curve\n",
    "\n",
    "TargetVarScore = CategoricalBalanced.predict_proba(teste_x)\n",
    "fper, tper, thresholds = roc_curve(y_true, TargetVarScore[:, 1])\n",
    "plot_roc_curve(fper, tper)\n"
   ]
  },
  {
   "cell_type": "markdown",
   "metadata": {},
   "source": [
    "Probabilidades de cada variavel"
   ]
  },
  {
   "cell_type": "code",
   "execution_count": 20,
   "metadata": {},
   "outputs": [
    {
     "name": "stdout",
     "output_type": "stream",
     "text": [
      "[array([[ -2.31465094,  -2.54952837,  -2.39370984,  -2.61366269,\n",
      "         -2.52325332,  -2.66877305,  -2.50046355,  -2.61208689,\n",
      "         -2.52903284,  -2.22735698,  -2.51321883,  -2.46586281,\n",
      "        -11.36845445, -11.36845445, -11.36845445, -11.36845445,\n",
      "        -11.36845445, -11.36845445],\n",
      "       [ -1.8098372 ,  -2.6022826 ,  -3.18131648,  -7.11314211,\n",
      "         -4.06861967,  -4.71524684,  -7.11314211,  -7.11314211,\n",
      "         -2.85046223,  -1.97147855,  -1.09454889,  -1.86086868,\n",
      "         -7.11314211,  -7.11314211,  -7.11314211,  -7.11314211,\n",
      "         -7.11314211,  -7.11314211]]), array([[ -1.44511525,  -1.44806062,  -1.29265359,  -1.36824862,\n",
      "        -11.36845445, -11.36845445, -11.36845445, -11.36845445,\n",
      "        -11.36845445, -11.36845445, -11.36845445, -11.36845445,\n",
      "        -11.36845445, -11.36845445, -11.36845445, -11.36845445,\n",
      "        -11.36845445, -11.36845445],\n",
      "       [ -3.39957004,  -3.39957004,  -0.45256696,  -1.25235589,\n",
      "         -7.11314211,  -7.11314211,  -7.11314211,  -7.11314211,\n",
      "         -7.11314211,  -7.11314211,  -7.11314211,  -7.11314211,\n",
      "         -7.11314211,  -7.11314211,  -7.11314211,  -7.11314211,\n",
      "         -7.11314211,  -7.11314211]]), array([[-6.49325713, -5.53657198, -2.42717069, -2.41287731, -2.40260896,\n",
      "        -2.71132542, -2.38992004, -2.72709862, -2.92361692, -2.81570109,\n",
      "        -2.74852418, -2.62635926, -2.78154865, -2.8550685 , -2.9698196 ,\n",
      "        -3.58898748, -3.81831911, -3.43072268],\n",
      "       [-4.71524684, -7.11314211, -2.03173774, -3.6791549 , -7.11314211,\n",
      "        -4.71524684, -3.00226824, -3.39957004, -2.09586227, -2.31735156,\n",
      "        -2.23794479, -2.09586227, -2.16438222, -3.39957004, -2.31735156,\n",
      "        -4.71524684, -3.6791549 , -4.71524684]]), array([[ -4.19756597,  -0.35952797,  -1.2490091 , -11.36845445,\n",
      "        -11.36845445, -11.36845445, -11.36845445, -11.36845445,\n",
      "        -11.36845445, -11.36845445, -11.36845445, -11.36845445,\n",
      "        -11.36845445, -11.36845445, -11.36845445, -11.36845445,\n",
      "        -11.36845445, -11.36845445],\n",
      "       [ -3.00226824,  -0.19444689,  -2.16438222,  -7.11314211,\n",
      "         -7.11314211,  -7.11314211,  -7.11314211,  -7.11314211,\n",
      "         -7.11314211,  -7.11314211,  -7.11314211,  -7.11314211,\n",
      "         -7.11314211,  -7.11314211,  -7.11314211,  -7.11314211,\n",
      "         -7.11314211,  -7.11314211]]), array([[ -1.88801061,  -7.65488239,  -2.62316997,  -8.97055918,\n",
      "         -5.97029175,  -0.75518387,  -6.06514954,  -1.20333367,\n",
      "         -7.93446725, -11.36845445, -11.36845445, -11.36845445,\n",
      "        -11.36845445, -11.36845445, -11.36845445, -11.36845445,\n",
      "        -11.36845445, -11.36845445],\n",
      "       [ -1.97147855,  -7.11314211,  -2.09586227,  -7.11314211,\n",
      "         -7.11314211,  -0.47850875,  -7.11314211,  -2.23794479,\n",
      "         -7.11314211,  -7.11314211,  -7.11314211,  -7.11314211,\n",
      "         -7.11314211,  -7.11314211,  -7.11314211,  -7.11314211,\n",
      "         -7.11314211,  -7.11314211]]), array([[ -4.68259351,  -1.31995788,  -0.39182628,  -3.79235711,\n",
      "         -3.74725929,  -7.10577458,  -7.93446725,  -7.93446725,\n",
      "        -11.36845445, -11.36845445, -11.36845445, -11.36845445,\n",
      "        -11.36845445, -11.36845445, -11.36845445, -11.36845445,\n",
      "        -11.36845445, -11.36845445],\n",
      "       [ -7.11314211,  -2.6022826 ,  -0.27688283,  -2.6022826 ,\n",
      "         -2.6022826 ,  -4.71524684,  -7.11314211,  -7.11314211,\n",
      "         -7.11314211,  -7.11314211,  -7.11314211,  -7.11314211,\n",
      "         -7.11314211,  -7.11314211,  -7.11314211,  -7.11314211,\n",
      "         -7.11314211,  -7.11314211]]), array([[ -4.7470488 ,  -4.49012798,  -1.25304609,  -3.81831911,\n",
      "         -0.48737413,  -3.86131337,  -3.53208469,  -5.73009978,\n",
      "         -5.42565508,  -8.97055918,  -8.97055918, -11.36845445,\n",
      "        -11.36845445, -11.36845445, -11.36845445, -11.36845445,\n",
      "        -11.36845445, -11.36845445],\n",
      "       [ -7.11314211,  -4.06861967,  -1.97147855,  -7.11314211,\n",
      "         -0.29859921,  -4.06861967,  -2.85046223,  -7.11314211,\n",
      "         -4.71524684,  -4.71524684,  -7.11314211,  -7.11314211,\n",
      "         -7.11314211,  -7.11314211,  -7.11314211,  -7.11314211,\n",
      "         -7.11314211,  -7.11314211]]), array([[ -6.85759495,  -7.25758059,  -8.97055918,  -0.7107011 ,\n",
      "         -8.97055918, -11.36845445,  -5.88365752,  -7.10577458,\n",
      "         -4.36448032,  -3.89481734,  -1.32299002,  -8.97055918,\n",
      "         -3.86681999,  -1.70125902,  -8.97055918, -11.36845445,\n",
      "        -11.36845445, -11.36845445],\n",
      "       [ -7.11314211,  -7.11314211,  -7.11314211,  -0.43984414,\n",
      "         -7.11314211,  -7.11314211,  -7.11314211,  -7.11314211,\n",
      "         -4.71524684,  -4.71524684,  -1.76128398,  -7.11314211,\n",
      "         -4.71524684,  -1.91464508,  -7.11314211,  -7.11314211,\n",
      "         -7.11314211,  -7.11314211]]), array([[ -6.65892425,  -0.63595667,  -8.97055918,  -6.65892425,\n",
      "         -6.35117462,  -1.95264582, -11.36845445,  -6.65892425,\n",
      "         -8.32393201,  -3.04217966,  -1.34270502,  -5.97029175,\n",
      "         -4.50048004,  -8.97055918, -11.36845445, -11.36845445,\n",
      "        -11.36845445, -11.36845445],\n",
      "       [ -7.11314211,  -0.25562805,  -7.11314211,  -7.11314211,\n",
      "         -7.11314211,  -1.86086868,  -4.71524684,  -7.11314211,\n",
      "         -7.11314211,  -7.11314211,  -3.18131648,  -7.11314211,\n",
      "         -4.71524684,  -7.11314211,  -7.11314211,  -7.11314211,\n",
      "         -7.11314211,  -7.11314211]]), array([[ -1.73933796,  -3.52814147,  -1.8887742 ,  -1.68306072,\n",
      "         -1.40901199,  -4.53219518,  -2.80037805,  -2.07368102,\n",
      "         -4.12351291, -11.36845445, -11.36845445, -11.36845445,\n",
      "        -11.36845445, -11.36845445, -11.36845445, -11.36845445,\n",
      "        -11.36845445, -11.36845445],\n",
      "       [ -1.09454889,  -2.71869295,  -1.3733492 ,  -2.85046223,\n",
      "         -2.31735156,  -7.11314211,  -3.18131648,  -2.03173774,\n",
      "         -4.71524684,  -7.11314211,  -7.11314211,  -7.11314211,\n",
      "         -7.11314211,  -7.11314211,  -7.11314211,  -7.11314211,\n",
      "         -7.11314211,  -7.11314211]])]\n"
     ]
    }
   ],
   "source": [
    "features2 = atributosSelect\n",
    "\n",
    "feat_log_prob = Categorical_filter.feature_log_prob_\n",
    "# print(feat_log_prob)\n",
    "\n",
    "dadosProbabilidades2 = pd.DataFrame()\n",
    "\n",
    "atributos = []\n",
    "prob1 = []\n",
    "prob0 = []\n",
    "\n",
    "for indexF, feature in enumerate(features2):    \n",
    "    atributos.append(feature)\n",
    "    prob1.append(\"\")\n",
    "    prob0.append(\"\")\n",
    "    \n",
    "    for indexC in cod_cat[feature]:\n",
    "        atributos.append(cod_cat[feature][indexC])\n",
    "        prob0.append(np.exp(feat_log_prob[indexF][0][indexC]))\n",
    "        prob1.append(np.exp(feat_log_prob[indexF][1][indexC]))\n",
    "\n",
    "dadosProbabilidades2[\"Atributo\"] = atributos\n",
    "dadosProbabilidades2[\"Probabilidade de indicar 0\"] = prob0\n",
    "dadosProbabilidades2[\"Probabilidade de indicar 1\"] = prob1\n",
    "\n",
    "file_name2 = 'resultados finais ' + animalEscolhido + '.xlsx'\n",
    "dadosProbabilidades2.to_excel(file_name2)\n"
   ]
  }
 ],
 "metadata": {
  "interpreter": {
   "hash": "e4f2e29d4792ba744ec37cfe5d9e06cb1682524f233fc37b58180c94e420ae9c"
  },
  "kernelspec": {
   "display_name": "Python 3.9.12 ('base')",
   "language": "python",
   "name": "python3"
  },
  "language_info": {
   "codemirror_mode": {
    "name": "ipython",
    "version": 3
   },
   "file_extension": ".py",
   "mimetype": "text/x-python",
   "name": "python",
   "nbconvert_exporter": "python",
   "pygments_lexer": "ipython3",
   "version": "3.9.12"
  },
  "orig_nbformat": 4
 },
 "nbformat": 4,
 "nbformat_minor": 2
}
